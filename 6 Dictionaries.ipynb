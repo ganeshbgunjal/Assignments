{
 "cells": [
  {
   "cell_type": "markdown",
   "id": "65ca22c8-4090-4ddc-9527-1814336ec019",
   "metadata": {},
   "source": [
    "## Dictionaries Assignment:--"
   ]
  },
  {
   "cell_type": "markdown",
   "id": "b1a82828-effd-4c58-a568-1ddae59d4881",
   "metadata": {},
   "source": [
    "### Assignment 1: Creating and Accessing Dictionaries\n",
    "\n",
    "Create a dictionary with the first 10 positive integers as keys and their squares as values. Print the dictionary."
   ]
  },
  {
   "cell_type": "code",
   "execution_count": null,
   "id": "16594d12-8a50-4044-8958-2ac260a8c588",
   "metadata": {},
   "outputs": [],
   "source": []
  }
 ],
 "metadata": {
  "kernelspec": {
   "display_name": "Python 3 (ipykernel)",
   "language": "python",
   "name": "python3"
  },
  "language_info": {
   "codemirror_mode": {
    "name": "ipython",
    "version": 3
   },
   "file_extension": ".py",
   "mimetype": "text/x-python",
   "name": "python",
   "nbconvert_exporter": "python",
   "pygments_lexer": "ipython3",
   "version": "3.13.5"
  }
 },
 "nbformat": 4,
 "nbformat_minor": 5
}
