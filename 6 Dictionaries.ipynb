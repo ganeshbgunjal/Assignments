{
 "cells": [
  {
   "cell_type": "markdown",
   "id": "65ca22c8-4090-4ddc-9527-1814336ec019",
   "metadata": {},
   "source": [
    "## Dictionaries Assignment:--"
   ]
  },
  {
   "cell_type": "markdown",
   "id": "b1a82828-effd-4c58-a568-1ddae59d4881",
   "metadata": {},
   "source": [
    "### Assignment 1: Creating and Accessing Dictionaries\n",
    "\n",
    "Create a dictionary with the first 10 positive integers as keys and their squares as values. Print the dictionary."
   ]
  },
  {
   "cell_type": "code",
   "execution_count": 1,
   "id": "16594d12-8a50-4044-8958-2ac260a8c588",
   "metadata": {},
   "outputs": [
    {
     "name": "stdout",
     "output_type": "stream",
     "text": [
      "{1: 1, 2: 4, 3: 9, 4: 16, 5: 25, 6: 36, 7: 49, 8: 64, 9: 81, 10: 100}\n"
     ]
    }
   ],
   "source": [
    "squares_dict = {x:x**2 for x in range(1,11)}\n",
    "print(squares_dict)"
   ]
  },
  {
   "cell_type": "markdown",
   "id": "bb0ae8cc-7bf0-4e52-bbdd-2c03891db3da",
   "metadata": {},
   "source": [
    "### Assignment 2: Accessing Dictionary Elements\n",
    "\n",
    "Print the value of the key 5 and the keys of the dictionary created in Assignment 1."
   ]
  },
  {
   "cell_type": "code",
   "execution_count": 2,
   "id": "db3ec8d7-bf02-42b1-b50f-7d314a58637c",
   "metadata": {},
   "outputs": [
    {
     "name": "stdout",
     "output_type": "stream",
     "text": [
      "25\n",
      "Keys: dict_keys([1, 2, 3, 4, 5, 6, 7, 8, 9, 10])\n"
     ]
    }
   ],
   "source": [
    "print(squares_dict[5])\n",
    "print(f'Keys: {squares_dict.keys()}')"
   ]
  },
  {
   "cell_type": "markdown",
   "id": "63c004e3-f53b-45fd-951f-a3290c199db6",
   "metadata": {},
   "source": [
    "### Assignment 3: Dictionary Methods\n",
    "\n",
    "Add a new key-value pair (11, 121) to the dictionary created in Assignment 1 and then remove the key-value pair with key 1. Print the modified dictionary."
   ]
  },
  {
   "cell_type": "code",
   "execution_count": 3,
   "id": "5f1a40b5-1c05-4310-8741-dd05d80c7c95",
   "metadata": {},
   "outputs": [
    {
     "name": "stdout",
     "output_type": "stream",
     "text": [
      "{2: 4, 3: 9, 4: 16, 5: 25, 6: 36, 7: 49, 8: 64, 9: 81, 10: 100, 11: 121}\n"
     ]
    }
   ],
   "source": [
    "squares_dict.update({11:121})\n",
    "del squares_dict[1]\n",
    "print(squares_dict)"
   ]
  },
  {
   "cell_type": "markdown",
   "id": "8465b163-0622-4542-a88e-d925a979cbfb",
   "metadata": {},
   "source": [
    "### Assignment 4: Iterating Over Dictionaries\n",
    "\n",
    "Iterate over the dictionary created in Assignment 1 and print each key-value pair."
   ]
  },
  {
   "cell_type": "code",
   "execution_count": 5,
   "id": "2ba36a6f-c44d-4ba4-a176-b76bcc472edd",
   "metadata": {},
   "outputs": [
    {
     "name": "stdout",
     "output_type": "stream",
     "text": [
      "Key: 2 Val: 4\n",
      "Key: 3 Val: 9\n",
      "Key: 4 Val: 16\n",
      "Key: 5 Val: 25\n",
      "Key: 6 Val: 36\n",
      "Key: 7 Val: 49\n",
      "Key: 8 Val: 64\n",
      "Key: 9 Val: 81\n",
      "Key: 10 Val: 100\n",
      "Key: 11 Val: 121\n"
     ]
    }
   ],
   "source": [
    "squares_dict\n",
    "for key,val in squares_dict.items():\n",
    "    print(f'Key: {key} Val: {val}')"
   ]
  },
  {
   "cell_type": "code",
   "execution_count": null,
   "id": "d4d81701-27be-49e2-817c-83e931e7195c",
   "metadata": {},
   "outputs": [],
   "source": []
  }
 ],
 "metadata": {
  "kernelspec": {
   "display_name": "Python 3 (ipykernel)",
   "language": "python",
   "name": "python3"
  },
  "language_info": {
   "codemirror_mode": {
    "name": "ipython",
    "version": 3
   },
   "file_extension": ".py",
   "mimetype": "text/x-python",
   "name": "python",
   "nbconvert_exporter": "python",
   "pygments_lexer": "ipython3",
   "version": "3.13.5"
  }
 },
 "nbformat": 4,
 "nbformat_minor": 5
}
