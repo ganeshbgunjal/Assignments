{
 "cells": [
  {
   "cell_type": "markdown",
   "id": "28585867-cc40-4e1c-88f2-2d3f690286d3",
   "metadata": {},
   "source": [
    "## Data Structures Assignments:-- Tuples"
   ]
  },
  {
   "cell_type": "markdown",
   "id": "b6c59e8e-6073-4431-beae-cc2b211ab966",
   "metadata": {},
   "source": [
    "### Assignment 1: Creating and Accessing Tuples\n",
    "\n",
    "Create a tuple with the first 10 positive integers. Print the tuple."
   ]
  },
  {
   "cell_type": "code",
   "execution_count": 1,
   "id": "e929593f-a3dc-46b2-855a-1877faf52053",
   "metadata": {},
   "outputs": [
    {
     "name": "stdout",
     "output_type": "stream",
     "text": [
      "(1, 2, 3, 4, 5, 6, 7, 8, 9, 10)\n",
      "<class 'tuple'>\n"
     ]
    }
   ],
   "source": [
    "tup = tuple(range(1,11))\n",
    "print(tup)\n",
    "print(type(tup))"
   ]
  },
  {
   "cell_type": "markdown",
   "id": "a26826ee-0fd1-445e-8b9a-5b4a1a116675",
   "metadata": {},
   "source": [
    "### Assignment 2: Accessing Tuple Elements\n",
    "\n",
    "Print the first, middle, and last elements of the tuple created in Assignment 1."
   ]
  },
  {
   "cell_type": "code",
   "execution_count": 2,
   "id": "20e3696a-56cf-4a80-81f6-6b4aba4b7c4b",
   "metadata": {},
   "outputs": [
    {
     "name": "stdout",
     "output_type": "stream",
     "text": [
      "First element: 1\n",
      "Middle element: 5\n",
      "Last element: 10\n"
     ]
    }
   ],
   "source": [
    "first_element = tup[0]\n",
    "middle_ele = tup[len(tup)//2 - 1]  \n",
    "last_element = tup[-1]\n",
    "print(f'First element: {first_element}')\n",
    "print(f'Middle element: {middle_ele}')\n",
    "print(f'Last element: {last_element}')"
   ]
  },
  {
   "cell_type": "markdown",
   "id": "ea3d5c40-a832-4ffc-a81f-b9f5b2a76136",
   "metadata": {},
   "source": [
    "### Assignment 3: Tuple Slicing\n",
    "\n",
    "Print the first three elements, the last three elements, and the elements from index 2 to 5 of the tuple created in Assignment 1."
   ]
  },
  {
   "cell_type": "code",
   "execution_count": 7,
   "id": "01f6b3f0-4d96-4ad0-8fc1-261fefbc4f0e",
   "metadata": {},
   "outputs": [
    {
     "name": "stdout",
     "output_type": "stream",
     "text": [
      "(1, 2, 3, 4, 5, 6, 7, 8, 9, 10)\n",
      "First three element: (1, 2, 3)\n",
      "Last three element: (8, 9, 10)\n",
      "Element from 2 to 5: (2, 3, 4, 5)\n"
     ]
    }
   ],
   "source": [
    "print(tup)\n",
    "print(f'First three element: {tup[0:3]}')\n",
    "print(f'Last three element: {tup[7:10]}')\n",
    "print(f'Element from 2 to 5: {tup[1:5]}')"
   ]
  },
  {
   "cell_type": "markdown",
   "id": "1e70ba5b-5f67-44a9-8e82-f35083c4b63d",
   "metadata": {},
   "source": [
    "### Assignment 4: Nested Tuples\n",
    "\n",
    "Create a nested tuple representing a 3x3 matrix and print the matrix. Access and print the element at the second row and third column."
   ]
  },
  {
   "cell_type": "code",
   "execution_count": 11,
   "id": "b813b96f-271d-4e90-8308-bb3c7251e019",
   "metadata": {},
   "outputs": [
    {
     "name": "stdout",
     "output_type": "stream",
     "text": [
      "(1, 2, 3)\n",
      "(4, 5, 6)\n",
      "(7, 8, 9)\n",
      "Element at second row and third column is: 6\n"
     ]
    }
   ],
   "source": [
    "matrix = (\n",
    "    (1,2,3),\n",
    "    (4,5,6),\n",
    "    (7,8,9)    \n",
    ")\n",
    "for row in matrix:\n",
    "    print(row)\n",
    "\n",
    "print(f'Element at second row and third column is: {matrix[1][2]}')"
   ]
  },
  {
   "cell_type": "markdown",
   "id": "69b02197-887d-4c5c-88b3-5c50b7a06566",
   "metadata": {},
   "source": [
    "### Assignment 5: Tuple Concatenation\n",
    "\n",
    "Concatenate two tuples: (1, 2, 3) and (4, 5, 6). Print the resulting tuple."
   ]
  },
  {
   "cell_type": "code",
   "execution_count": 12,
   "id": "b2222701-013e-4eef-a073-6d21b681c3c6",
   "metadata": {},
   "outputs": [
    {
     "name": "stdout",
     "output_type": "stream",
     "text": [
      "(1, 2, 3, 4, 5, 6)\n"
     ]
    }
   ],
   "source": [
    "tup1 = (1,2,3)\n",
    "tup2 = (4,5,6)\n",
    "concatenated_tup = tup1 + tup2\n",
    "print(concatenated_tup)"
   ]
  },
  {
   "cell_type": "markdown",
   "id": "e359b296-807e-4067-8a2c-913941707bc3",
   "metadata": {},
   "source": [
    "### Assignment 6: Tuple Methods\n",
    "\n",
    "Create a tuple with duplicate elements and count the occurrences of an element. Find the index of the first occurrence of an element in the tuple."
   ]
  },
  {
   "cell_type": "code",
   "execution_count": 17,
   "id": "3e435447-3aa9-49b9-9c28-8dd40e1d212c",
   "metadata": {},
   "outputs": [
    {
     "name": "stdout",
     "output_type": "stream",
     "text": [
      "Count of element four is: 5\n",
      "First occurance of element three at index: 3\n"
     ]
    }
   ],
   "source": [
    "tup = (1,2,2,3,3,4,4,4,4,4,5,6,6,7,7,8)\n",
    "count = tup.count(4)\n",
    "print(f'Count of element four is: {count}')\n",
    "first_occurance = tup.index(3)\n",
    "print(f'First occurance of element three at index: {first_occurance}')"
   ]
  },
  {
   "cell_type": "markdown",
   "id": "62a203bf-45e4-455e-bad5-6f4a134c9177",
   "metadata": {},
   "source": [
    "### Assignment 7: Unpacking Tuples\n",
    "\n",
    "Create a tuple with 5 elements and unpack it into 5 variables. Print the variables."
   ]
  },
  {
   "cell_type": "code",
   "execution_count": 19,
   "id": "979d2b33-2302-4248-83e1-e609009bb29e",
   "metadata": {},
   "outputs": [
    {
     "name": "stdout",
     "output_type": "stream",
     "text": [
      "1\n",
      "2\n",
      "3\n",
      "4\n",
      "5\n"
     ]
    }
   ],
   "source": [
    "a,b,c,d,e = 1,2,3,4,5\n",
    "print(a)\n",
    "print(b)\n",
    "print(c)\n",
    "print(d)\n",
    "print(e)"
   ]
  },
  {
   "cell_type": "code",
   "execution_count": null,
   "id": "aca2ba23-0abd-4d30-bc1a-d353d92c61c1",
   "metadata": {},
   "outputs": [],
   "source": []
  }
 ],
 "metadata": {
  "kernelspec": {
   "display_name": "Python 3 (ipykernel)",
   "language": "python",
   "name": "python3"
  },
  "language_info": {
   "codemirror_mode": {
    "name": "ipython",
    "version": 3
   },
   "file_extension": ".py",
   "mimetype": "text/x-python",
   "name": "python",
   "nbconvert_exporter": "python",
   "pygments_lexer": "ipython3",
   "version": "3.13.5"
  }
 },
 "nbformat": 4,
 "nbformat_minor": 5
}
