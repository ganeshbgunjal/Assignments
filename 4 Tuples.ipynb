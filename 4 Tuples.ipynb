{
 "cells": [
  {
   "cell_type": "markdown",
   "id": "28585867-cc40-4e1c-88f2-2d3f690286d3",
   "metadata": {},
   "source": [
    "## Data Structures Assignments:-- Tuples"
   ]
  },
  {
   "cell_type": "markdown",
   "id": "b6c59e8e-6073-4431-beae-cc2b211ab966",
   "metadata": {},
   "source": [
    "### Assignment 1: Creating and Accessing Tuples\n",
    "\n",
    "Create a tuple with the first 10 positive integers. Print the tuple."
   ]
  },
  {
   "cell_type": "code",
   "execution_count": null,
   "id": "e929593f-a3dc-46b2-855a-1877faf52053",
   "metadata": {},
   "outputs": [],
   "source": [
    "tup = tuple(range(1,11))\n",
    "print(tu)"
   ]
  }
 ],
 "metadata": {
  "kernelspec": {
   "display_name": "Python 3 (ipykernel)",
   "language": "python",
   "name": "python3"
  },
  "language_info": {
   "codemirror_mode": {
    "name": "ipython",
    "version": 3
   },
   "file_extension": ".py",
   "mimetype": "text/x-python",
   "name": "python",
   "nbconvert_exporter": "python",
   "pygments_lexer": "ipython3",
   "version": "3.13.5"
  }
 },
 "nbformat": 4,
 "nbformat_minor": 5
}
