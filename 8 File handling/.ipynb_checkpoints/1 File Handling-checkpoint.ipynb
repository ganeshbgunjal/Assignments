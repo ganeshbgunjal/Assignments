{
 "cells": [
  {
   "cell_type": "markdown",
   "id": "bd823842-ab22-480a-a3dc-d4a09c7dbb7f",
   "metadata": {},
   "source": [
    "### File Handling Assignment: "
   ]
  },
  {
   "cell_type": "markdown",
   "id": "4e262461-8dcc-4ad5-9cf8-541dd0b25f78",
   "metadata": {},
   "source": [
    "### Assignment 1: Reading a File\n",
    "\n",
    "Write a function that reads the contents of a file named `sample.txt` and prints each line."
   ]
  },
  {
   "cell_type": "code",
   "execution_count": 1,
   "id": "eb4fd081-38c3-471b-9a43-8104a2116309",
   "metadata": {},
   "outputs": [],
   "source": [
    "def read_data():\n",
    "    with open('sample.txt','r') as file: \n",
    "        data = file.read()\n",
    "        print(data)"
   ]
  },
  {
   "cell_type": "code",
   "execution_count": 2,
   "id": "9ec7f2ec-83d1-4231-a55d-1ee119b3fdae",
   "metadata": {},
   "outputs": [
    {
     "data": {
      "text/plain": [
       "'D:\\\\2. Udemy Course\\\\Assignments\\\\Solutions\\\\8 File handling'"
      ]
     },
     "execution_count": 2,
     "metadata": {},
     "output_type": "execute_result"
    }
   ],
   "source": [
    "import os\n",
    "os.getcwd()"
   ]
  },
  {
   "cell_type": "code",
   "execution_count": 3,
   "id": "8aaa84bf-7664-4007-ba64-b50d20e3a07e",
   "metadata": {},
   "outputs": [],
   "source": [
    "os.chdir(r\"D:\\2. Udemy Course\\Assignments\\Solutions\\8 File handling\")"
   ]
  },
  {
   "cell_type": "code",
   "execution_count": 4,
   "id": "fbc369bf-6f2c-4c0b-b65c-4eef62275955",
   "metadata": {},
   "outputs": [
    {
     "data": {
      "text/plain": [
       "'D:\\\\2. Udemy Course\\\\Assignments\\\\Solutions\\\\8 File handling'"
      ]
     },
     "execution_count": 4,
     "metadata": {},
     "output_type": "execute_result"
    }
   ],
   "source": [
    "os.getcwd()"
   ]
  },
  {
   "cell_type": "code",
   "execution_count": 5,
   "id": "dd1863a2-e644-45a4-b0f7-bd5e6b70ced4",
   "metadata": {},
   "outputs": [
    {
     "name": "stdout",
     "output_type": "stream",
     "text": [
      "Hello, this is a sample text file.\n",
      "It contains multiple lines of text.\n",
      "You can use it to practice reading files in Python.\n",
      "\n",
      "Line 4: Python is fun!\n",
      "Line 5: Data Science is powerful.\n",
      "Line 6: End of file.\n"
     ]
    }
   ],
   "source": [
    "read_data()"
   ]
  },
  {
   "cell_type": "code",
   "execution_count": null,
   "id": "e24c3d18-9419-4ee4-aee9-83811d944120",
   "metadata": {},
   "outputs": [],
   "source": []
  }
 ],
 "metadata": {
  "kernelspec": {
   "display_name": "Python 3 (ipykernel)",
   "language": "python",
   "name": "python3"
  },
  "language_info": {
   "codemirror_mode": {
    "name": "ipython",
    "version": 3
   },
   "file_extension": ".py",
   "mimetype": "text/x-python",
   "name": "python",
   "nbconvert_exporter": "python",
   "pygments_lexer": "ipython3",
   "version": "3.13.5"
  }
 },
 "nbformat": 4,
 "nbformat_minor": 5
}
