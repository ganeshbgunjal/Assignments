{
 "cells": [
  {
   "cell_type": "markdown",
   "id": "bd823842-ab22-480a-a3dc-d4a09c7dbb7f",
   "metadata": {},
   "source": [
    "### File Handling Assignment: "
   ]
  },
  {
   "cell_type": "markdown",
   "id": "4e262461-8dcc-4ad5-9cf8-541dd0b25f78",
   "metadata": {},
   "source": [
    "### Assignment 1: Reading a File\n",
    "\n",
    "Write a function that reads the contents of a file named `sample.txt` and prints each line."
   ]
  },
  {
   "cell_type": "code",
   "execution_count": 1,
   "id": "eb4fd081-38c3-471b-9a43-8104a2116309",
   "metadata": {},
   "outputs": [],
   "source": [
    "def read_data():\n",
    "    with open('sample.txt','r') as file: \n",
    "        data = file.read()\n",
    "        print(data)"
   ]
  },
  {
   "cell_type": "code",
   "execution_count": 2,
   "id": "9ec7f2ec-83d1-4231-a55d-1ee119b3fdae",
   "metadata": {},
   "outputs": [
    {
     "data": {
      "text/plain": [
       "'D:\\\\2. Udemy Course\\\\Assignments\\\\Solutions\\\\8 File handling'"
      ]
     },
     "execution_count": 2,
     "metadata": {},
     "output_type": "execute_result"
    }
   ],
   "source": [
    "import os\n",
    "os.getcwd()"
   ]
  },
  {
   "cell_type": "code",
   "execution_count": 3,
   "id": "8aaa84bf-7664-4007-ba64-b50d20e3a07e",
   "metadata": {},
   "outputs": [],
   "source": [
    "os.chdir(r\"D:\\2. Udemy Course\\Assignments\\Solutions\\8 File handling\")"
   ]
  },
  {
   "cell_type": "code",
   "execution_count": 4,
   "id": "fbc369bf-6f2c-4c0b-b65c-4eef62275955",
   "metadata": {},
   "outputs": [
    {
     "data": {
      "text/plain": [
       "'D:\\\\2. Udemy Course\\\\Assignments\\\\Solutions\\\\8 File handling'"
      ]
     },
     "execution_count": 4,
     "metadata": {},
     "output_type": "execute_result"
    }
   ],
   "source": [
    "os.getcwd()"
   ]
  },
  {
   "cell_type": "code",
   "execution_count": 5,
   "id": "dd1863a2-e644-45a4-b0f7-bd5e6b70ced4",
   "metadata": {},
   "outputs": [
    {
     "name": "stdout",
     "output_type": "stream",
     "text": [
      "Hello, this is a sample text file.\n",
      "It contains multiple lines of text.\n",
      "You can use it to practice reading files in Python.\n",
      "\n",
      "Line 4: Python is fun!\n",
      "Line 5: Data Science is powerful.\n",
      "Line 6: End of file.\n"
     ]
    }
   ],
   "source": [
    "read_data()"
   ]
  },
  {
   "cell_type": "markdown",
   "id": "8b0d9337-1529-48e0-8c47-91142ff428bf",
   "metadata": {},
   "source": [
    "### Assignment 2: Writing to a File\n",
    "\n",
    "Write a function that writes a list of strings to a file named `output.txt`, with each string on a new line."
   ]
  },
  {
   "cell_type": "code",
   "execution_count": 6,
   "id": "c49a46d5-bd8d-4046-b369-2a845f63cb8f",
   "metadata": {},
   "outputs": [],
   "source": [
    "def write_to_file(strings):\n",
    "    with open('output.txt','w') as file:\n",
    "        for line in strings:\n",
    "            file.write(line +'\\n')\n",
    "\n",
    "data = [\n",
    "    \"Hello, this is line 1.\",\n",
    "    \"Python makes file handling easy.\",\n",
    "    \"Each string will be written on a new line.\"\n",
    "]\n",
    "    \n",
    "write_to_file(data)"
   ]
  },
  {
   "cell_type": "markdown",
   "id": "06e7b0f2-02f1-4fe5-bfa7-b3cd630fceb5",
   "metadata": {},
   "source": [
    "### Assignment 3: Copying a File\n",
    "\n",
    "Write a function that copies the contents of a file named `source.txt` to a new file named `destination.txt`."
   ]
  },
  {
   "cell_type": "code",
   "execution_count": 7,
   "id": "64d93ba9-b82e-420e-a92a-d999ad982bdd",
   "metadata": {},
   "outputs": [],
   "source": [
    "def copy_data():\n",
    "    with open('source.txt','r') as source_file:\n",
    "        data = source_file.read()\n",
    "\n",
    "    with open('destination.txt','w') as destination_file:\n",
    "        destination_file.write(data)\n",
    "        "
   ]
  },
  {
   "cell_type": "code",
   "execution_count": 8,
   "id": "e43c30ba-8d99-4e96-b0d3-171b5100a406",
   "metadata": {},
   "outputs": [],
   "source": [
    "copy_data()   #no error comes. data is copied from source to destination."
   ]
  },
  {
   "cell_type": "markdown",
   "id": "7bf33a73-6295-4940-b371-972f88cbd55c",
   "metadata": {},
   "source": [
    "### Assignment 4: Appending to a File\n",
    "\n",
    "Write a function that appends a given string to the end of a file named `log.txt`."
   ]
  },
  {
   "cell_type": "code",
   "execution_count": 9,
   "id": "16e56e8e-622c-4364-9996-7c410fc5503c",
   "metadata": {},
   "outputs": [],
   "source": [
    "def append_data():\n",
    "    with open('log.txt','a') as file:\n",
    "        file.write('Appending this to log.txt file for append file operation.\\n')\n",
    "\n"
   ]
  },
  {
   "cell_type": "code",
   "execution_count": 10,
   "id": "c30e2965-6849-4937-b410-e12a3c16c802",
   "metadata": {},
   "outputs": [],
   "source": [
    "append_data()  #successfully done this operation three times."
   ]
  },
  {
   "cell_type": "markdown",
   "id": "80fb4c79-76d1-47c7-93ab-815ec3bb0c9f",
   "metadata": {},
   "source": [
    "### Assignment 5: Counting Words in a File\n",
    "\n",
    "Write a function that reads the contents of a file named `document.txt` and returns the number of words in the file."
   ]
  },
  {
   "cell_type": "code",
   "execution_count": 13,
   "id": "af763bc9-1c6a-499b-8760-ac64e742e68c",
   "metadata": {},
   "outputs": [],
   "source": [
    "def count_words():\n",
    "    with open('document.txt','r') as file:\n",
    "        data = file.read()\n",
    "\n",
    "        # Split content into words (by whitespace) and count\n",
    "    words = data.split()\n",
    "    return len(words)\n",
    "    "
   ]
  },
  {
   "cell_type": "code",
   "execution_count": 15,
   "id": "08eb8d4d-0129-48be-a26c-21c24fd79571",
   "metadata": {},
   "outputs": [
    {
     "data": {
      "text/plain": [
       "19"
      ]
     },
     "execution_count": 15,
     "metadata": {},
     "output_type": "execute_result"
    }
   ],
   "source": [
    "count_words()    #answer is right."
   ]
  },
  {
   "cell_type": "markdown",
   "id": "550c647a-2e2d-4241-8cc4-1c9d94313e8b",
   "metadata": {},
   "source": [
    "### Assignment 6: Finding and Replacing Text\n",
    "\n",
    "Write a function that finds and replaces all occurrences of a given word in a file named `data.txt` with another word."
   ]
  },
  {
   "cell_type": "code",
   "execution_count": 23,
   "id": "d6cba39a-f917-4d63-b078-4a87d91e3473",
   "metadata": {},
   "outputs": [],
   "source": [
    "def find_and_replace(old_word,new_word):\n",
    "    with open('data.txt','r') as file:\n",
    "        data = file.read()\n",
    "    # Debug: print before replacement\n",
    "    print(\"Before replacement:\\n\", data)\n",
    "\n",
    "    #replace all occurances:\n",
    "    updated_data = data.replace(old_word,new_word)\n",
    "\n",
    "    # write the updated content to the file:\n",
    "    with open('data.txt','w') as file:\n",
    "        file.write(updated_data)\n",
    "\n",
    "     # Debug: print after replacement\n",
    "    print(\"\\nAfter replacement:\\n\", updated_data)\n",
    "    print(f'--- All the occurances of {old_word} are replaced with {new_word} ---')\n",
    "        \n",
    "        "
   ]
  },
  {
   "cell_type": "code",
   "execution_count": 24,
   "id": "a3438fac-da78-47c9-90da-c88e10f532e7",
   "metadata": {},
   "outputs": [
    {
     "name": "stdout",
     "output_type": "stream",
     "text": [
      "Before replacement:\n",
      " java is a powerful programming language.\n",
      "Many people use java for data science and machine learning.\n",
      "java is also great for web development.\n",
      "I enjoy solving problems with java every day.\n",
      "\n",
      "\n",
      "After replacement:\n",
      " java is a powerful programming language.\n",
      "Many people use java for data science and machine learning.\n",
      "java is also great for web development.\n",
      "I enjoy solving problems with java every day.\n",
      "\n",
      "--- All the occurances of Python are replaced with java ---\n"
     ]
    }
   ],
   "source": [
    "find_and_replace('Python','java')   #Worked successfully. case sesitive data, see carefully."
   ]
  },
  {
   "cell_type": "markdown",
   "id": "69f295e4-c7f8-4337-9ed6-1741ba732ad7",
   "metadata": {},
   "source": [
    "### Assignment 7: Reading a File in Reverse\n",
    "\n",
    "Write a function that reads the contents of a file named `reverse.txt` and prints each line in reverse order."
   ]
  },
  {
   "cell_type": "code",
   "execution_count": 25,
   "id": "7ef7694c-1e11-4a99-bdea-8b61f2b68c5d",
   "metadata": {},
   "outputs": [],
   "source": [
    "def reverse_the_content():\n",
    "    with open('reverse.txt','r') as file:\n",
    "        data = file.read()\n",
    "    \n",
    "    reversed_data = data[::-1]\n",
    "    print('Revered data of the original data:')\n",
    "    print(reversed_data)"
   ]
  },
  {
   "cell_type": "code",
   "execution_count": 27,
   "id": "640fbc87-b76a-45e9-8528-f45152a1fbdf",
   "metadata": {},
   "outputs": [
    {
     "name": "stdout",
     "output_type": "stream",
     "text": [
      "Revered data of the original data:\n",
      ".ton ro desrever steg atad eht rehtehw ees teL\n",
      " .elif eht fo tnetnoc gnisrever rof elif si sihT\n"
     ]
    }
   ],
   "source": [
    "reverse_the_content()"
   ]
  },
  {
   "cell_type": "markdown",
   "id": "9bc72a6a-3c14-4e38-928e-be1fd3301689",
   "metadata": {},
   "source": [
    "### Assignment 8: Counting Lines, Words, and Characters\n",
    "\n",
    "Write a function that reads the contents of a file named `stats.txt` and returns the number of lines, words, and characters in the file."
   ]
  },
  {
   "cell_type": "code",
   "execution_count": 30,
   "id": "37eb6fd1-13a8-4dac-b06a-a33e22bb272d",
   "metadata": {},
   "outputs": [],
   "source": [
    "def count_lines_words():\n",
    "    with open('stats.txt','r') as file:\n",
    "        lines = file.readlines()\n",
    "    total_lines = len(lines)\n",
    "    total_words = sum(len(line.split()) for line in lines)\n",
    "    total_characters = sum(len(line) for line in lines)\n",
    "    print(f'Lines: {total_lines}, Words: {total_words}, Characters: {total_characters}')\n",
    "\n",
    "    \n",
    "        "
   ]
  },
  {
   "cell_type": "code",
   "execution_count": 31,
   "id": "62264726-8579-4166-b650-d02f5cb6ea47",
   "metadata": {},
   "outputs": [
    {
     "name": "stdout",
     "output_type": "stream",
     "text": [
      "Lines: 4, Words: 31, Characters: 187\n"
     ]
    }
   ],
   "source": [
    "count_lines_words()"
   ]
  },
  {
   "cell_type": "markdown",
   "id": "34c2441e-df99-4c21-8a99-9de0ebbc2acc",
   "metadata": {},
   "source": [
    "### Assignment 9: Merging Multiple Files\n",
    "\n",
    "Write a function that merges the contents of multiple files into a single file named `merged.txt`."
   ]
  },
  {
   "cell_type": "code",
   "execution_count": null,
   "id": "2f691d69-2aee-4499-a3a5-34b4d8335fc2",
   "metadata": {},
   "outputs": [],
   "source": []
  }
 ],
 "metadata": {
  "kernelspec": {
   "display_name": "Python 3 (ipykernel)",
   "language": "python",
   "name": "python3"
  },
  "language_info": {
   "codemirror_mode": {
    "name": "ipython",
    "version": 3
   },
   "file_extension": ".py",
   "mimetype": "text/x-python",
   "name": "python",
   "nbconvert_exporter": "python",
   "pygments_lexer": "ipython3",
   "version": "3.13.5"
  }
 },
 "nbformat": 4,
 "nbformat_minor": 5
}
