{
 "cells": [
  {
   "cell_type": "markdown",
   "id": "69e9ead0-25e8-4aeb-b7eb-58281765588f",
   "metadata": {},
   "source": [
    "## Data Structures Assignments\n",
    "### 3. Sets\n"
   ]
  },
  {
   "cell_type": "markdown",
   "id": "d044f04e-656e-408d-8df7-ed99759f5118",
   "metadata": {},
   "source": [
    "### Assignment 1: Creating and Accessing Sets\n",
    "\n",
    "Create a set with the first 10 positive integers. Print the set."
   ]
  },
  {
   "cell_type": "code",
   "execution_count": 1,
   "id": "240b9f3d-fa49-42c1-8c8e-dc20e93296b6",
   "metadata": {},
   "outputs": [
    {
     "name": "stdout",
     "output_type": "stream",
     "text": [
      "{1, 2, 3, 4, 5, 6, 7, 8, 9, 10}\n",
      "<class 'set'>\n"
     ]
    }
   ],
   "source": [
    "set1 = {1,2,3,4,5,6,7,8,9,10}\n",
    "print(set1)\n",
    "print(type(set1))"
   ]
  },
  {
   "cell_type": "markdown",
   "id": "8b546849-3571-448c-90c2-42d9a236463a",
   "metadata": {},
   "source": [
    "### Assignment 2: Adding and Removing Elements\n",
    "\n",
    "Add the number 11 to the set created in Assignment 1. Then remove the number 1 from the set. Print the modified set."
   ]
  },
  {
   "cell_type": "code",
   "execution_count": 2,
   "id": "356f7c77-035c-423f-8f65-0183343a3368",
   "metadata": {},
   "outputs": [
    {
     "name": "stdout",
     "output_type": "stream",
     "text": [
      "{2, 3, 4, 5, 6, 7, 8, 9, 10, 11}\n",
      "<class 'set'>\n"
     ]
    }
   ],
   "source": [
    "set1.add(11)\n",
    "set1.remove(1)\n",
    "print(set1)\n",
    "print(type(set1))"
   ]
  },
  {
   "cell_type": "markdown",
   "id": "26a19264-fc03-4491-8a8b-3c1f56236df0",
   "metadata": {},
   "source": [
    "### Assignment 3: Set Operations\n",
    "\n",
    "Create two sets: one with the first 5 positive integers and another with the first 5 even integers. Perform and print the results of union, intersection, difference, and symmetric difference operations on these sets."
   ]
  },
  {
   "cell_type": "code",
   "execution_count": 3,
   "id": "5d3a5030-da0b-42a1-8482-0e8f07755b73",
   "metadata": {},
   "outputs": [
    {
     "name": "stdout",
     "output_type": "stream",
     "text": [
      "Union: {1, 2, 3, 4, 5, 6, 8, 10}\n",
      "intersection: {2, 4}\n",
      "difference: {1, 3, 5}\n",
      "symmetric difference: {1, 3, 5, 6, 8, 10}\n"
     ]
    }
   ],
   "source": [
    "set1 = {1,2,3,4,5}\n",
    "set2 = {2,4,6,8,10}\n",
    "\n",
    "union = set1.union(set2)\n",
    "intersection = set1.intersection(set2)\n",
    "difference = set1.difference(set2)\n",
    "symmetric_diff = set1.symmetric_difference(set2)\n",
    "\n",
    "print(f'Union: {union}')\n",
    "print(f'intersection: {intersection}')\n",
    "print(f'difference: {difference}')\n",
    "print(f'symmetric difference: {symmetric_diff}')\n"
   ]
  },
  {
   "cell_type": "markdown",
   "id": "0eb1f896-2cde-42ab-b012-fc36982b7045",
   "metadata": {},
   "source": [
    "### Assignment 4: Set Comprehensions\n",
    "\n",
    "Create a new set containing the squares of the first 10 positive integers using a set comprehension. Print the new set."
   ]
  },
  {
   "cell_type": "code",
   "execution_count": 7,
   "id": "74bddc44-bf91-4287-b40b-99640a0730e3",
   "metadata": {},
   "outputs": [
    {
     "name": "stdout",
     "output_type": "stream",
     "text": [
      "[1, 4, 9, 16, 25, 36, 49, 64, 81, 100]\n",
      "<class 'set'>\n"
     ]
    }
   ],
   "source": [
    "new_set = {i**2 for i in range(1,11)}\n",
    "print(sorted(new_set))\n",
    "print(type(new_set))"
   ]
  },
  {
   "cell_type": "markdown",
   "id": "4cf7a17b-0629-4004-87b1-fefabffcadb1",
   "metadata": {},
   "source": [
    "### Assignment 5: Filtering Sets\n",
    "\n",
    "Create a new set containing only the even numbers from the set created in Assignment 1 using a set comprehension. Print the new set."
   ]
  },
  {
   "cell_type": "code",
   "execution_count": 8,
   "id": "9c6d5963-d31b-4464-83aa-c8114ee7ccde",
   "metadata": {},
   "outputs": [
    {
     "name": "stdout",
     "output_type": "stream",
     "text": [
      "{2, 4, 6, 8, 10}\n"
     ]
    }
   ],
   "source": [
    "set1 = {1,2,3,4,5,6,7,8,9,10}\n",
    "new_set = {i for i in set1 if i % 2 == 0}\n",
    "print(new_set)"
   ]
  },
  {
   "cell_type": "markdown",
   "id": "8226d212-3d62-4298-8800-a20f540769ff",
   "metadata": {},
   "source": [
    "### Assignment 6: Set Methods\n",
    "\n",
    "Create a set with duplicate elements and remove the duplicates using set methods. Print the modified set."
   ]
  },
  {
   "cell_type": "code",
   "execution_count": 9,
   "id": "1250041d-b56b-4816-aad7-db9f81ad92fd",
   "metadata": {},
   "outputs": [
    {
     "name": "stdout",
     "output_type": "stream",
     "text": [
      "Original list with duplicates: [1, 2, 2, 3, 4, 4, 5, 5, 5]\n",
      "Set without duplicates: {1, 2, 3, 4, 5}\n"
     ]
    }
   ],
   "source": [
    "numbers = [1, 2, 2, 3, 4, 4, 5, 5, 5]\n",
    "unique_set = set(numbers)\n",
    "print(f'Original list with duplicates: {numbers}')\n",
    "print(f'Set without duplicates: {unique_set}')"
   ]
  },
  {
   "cell_type": "markdown",
   "id": "97f4631f-76f1-4e53-8005-daaca3602517",
   "metadata": {},
   "source": [
    "### Assignment 7: Subsets and Supersets\n",
    "\n",
    "Create two sets: one with the first 5 positive integers and another with the first 3 positive integers. Check if the second set is a subset of the first set and if the first set is a superset of the second set. Print the results."
   ]
  },
  {
   "cell_type": "code",
   "execution_count": 10,
   "id": "6768d4dd-14d8-4adc-b2d9-33820cd10f70",
   "metadata": {},
   "outputs": [
    {
     "name": "stdout",
     "output_type": "stream",
     "text": [
      "Is set2  a subset of set1: False\n",
      "Is set1  a supeset of set2: False\n"
     ]
    }
   ],
   "source": [
    "set1 = {1,2,3,4,5}\n",
    "set1 = {1,2,3}\n",
    "\n",
    "print(f'Is set2  a subset of set1: {set2.issubset(set1)}')\n",
    "print(f'Is set1  a supeset of set2: {set1.issuperset(set2)}')"
   ]
  },
  {
   "cell_type": "code",
   "execution_count": null,
   "id": "578cc709-d167-4d20-bc27-458087c5f508",
   "metadata": {},
   "outputs": [],
   "source": []
  }
 ],
 "metadata": {
  "kernelspec": {
   "display_name": "Python 3 (ipykernel)",
   "language": "python",
   "name": "python3"
  },
  "language_info": {
   "codemirror_mode": {
    "name": "ipython",
    "version": 3
   },
   "file_extension": ".py",
   "mimetype": "text/x-python",
   "name": "python",
   "nbconvert_exporter": "python",
   "pygments_lexer": "ipython3",
   "version": "3.13.5"
  }
 },
 "nbformat": 4,
 "nbformat_minor": 5
}
