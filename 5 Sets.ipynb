{
 "cells": [
  {
   "cell_type": "markdown",
   "id": "69e9ead0-25e8-4aeb-b7eb-58281765588f",
   "metadata": {},
   "source": [
    "## Data Structures Assignments\n",
    "### 3. Sets\n"
   ]
  },
  {
   "cell_type": "markdown",
   "id": "d044f04e-656e-408d-8df7-ed99759f5118",
   "metadata": {},
   "source": [
    "### Assignment 1: Creating and Accessing Sets\n",
    "\n",
    "Create a set with the first 10 positive integers. Print the set."
   ]
  },
  {
   "cell_type": "code",
   "execution_count": 1,
   "id": "240b9f3d-fa49-42c1-8c8e-dc20e93296b6",
   "metadata": {},
   "outputs": [
    {
     "name": "stdout",
     "output_type": "stream",
     "text": [
      "{1, 2, 3, 4, 5, 6, 7, 8, 9, 10}\n",
      "<class 'set'>\n"
     ]
    }
   ],
   "source": [
    "set1 = {1,2,3,4,5,6,7,8,9,10}\n",
    "print(set1)\n",
    "print(type(set1))"
   ]
  },
  {
   "cell_type": "markdown",
   "id": "8b546849-3571-448c-90c2-42d9a236463a",
   "metadata": {},
   "source": [
    "### Assignment 2: Adding and Removing Elements\n",
    "\n",
    "Add the number 11 to the set created in Assignment 1. Then remove the number 1 from the set. Print the modified set."
   ]
  },
  {
   "cell_type": "code",
   "execution_count": 2,
   "id": "356f7c77-035c-423f-8f65-0183343a3368",
   "metadata": {},
   "outputs": [
    {
     "name": "stdout",
     "output_type": "stream",
     "text": [
      "{2, 3, 4, 5, 6, 7, 8, 9, 10, 11}\n",
      "<class 'set'>\n"
     ]
    }
   ],
   "source": [
    "set1.add(11)\n",
    "set1.remove(1)\n",
    "print(set1)\n",
    "print(type(set1))"
   ]
  },
  {
   "cell_type": "markdown",
   "id": "26a19264-fc03-4491-8a8b-3c1f56236df0",
   "metadata": {},
   "source": [
    "### Assignment 3: Set Operations\n",
    "\n",
    "Create two sets: one with the first 5 positive integers and another with the first 5 even integers. Perform and print the results of union, intersection, difference, and symmetric difference operations on these sets."
   ]
  },
  {
   "cell_type": "code",
   "execution_count": 3,
   "id": "5d3a5030-da0b-42a1-8482-0e8f07755b73",
   "metadata": {},
   "outputs": [
    {
     "name": "stdout",
     "output_type": "stream",
     "text": [
      "Union: {1, 2, 3, 4, 5, 6, 8, 10}\n",
      "intersection: {2, 4}\n",
      "difference: {1, 3, 5}\n",
      "symmetric difference: {1, 3, 5, 6, 8, 10}\n"
     ]
    }
   ],
   "source": [
    "set1 = {1,2,3,4,5}\n",
    "set2 = {2,4,6,8,10}\n",
    "\n",
    "union = set1.union(set2)\n",
    "intersection = set1.intersection(set2)\n",
    "difference = set1.difference(set2)\n",
    "symmetric_diff = set1.symmetric_difference(set2)\n",
    "\n",
    "print(f'Union: {union}')\n",
    "print(f'intersection: {intersection}')\n",
    "print(f'difference: {difference}')\n",
    "print(f'symmetric difference: {symmetric_diff}')\n"
   ]
  },
  {
   "cell_type": "code",
   "execution_count": null,
   "id": "1b92b8da-2eb0-4b21-9407-e5fba77b73f3",
   "metadata": {},
   "outputs": [],
   "source": []
  }
 ],
 "metadata": {
  "kernelspec": {
   "display_name": "Python 3 (ipykernel)",
   "language": "python",
   "name": "python3"
  },
  "language_info": {
   "codemirror_mode": {
    "name": "ipython",
    "version": 3
   },
   "file_extension": ".py",
   "mimetype": "text/x-python",
   "name": "python",
   "nbconvert_exporter": "python",
   "pygments_lexer": "ipython3",
   "version": "3.13.5"
  }
 },
 "nbformat": 4,
 "nbformat_minor": 5
}
