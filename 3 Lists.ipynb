{
 "cells": [
  {
   "cell_type": "markdown",
   "id": "060c613c-e9ce-4e23-bc9c-abbd4545a8ef",
   "metadata": {},
   "source": [
    "### List Assignment:--"
   ]
  },
  {
   "cell_type": "markdown",
   "id": "167b181d-1cb6-4095-9ac7-aec68640b23f",
   "metadata": {},
   "source": [
    "#### Assignment 1: Creating and Accessing Lists\n",
    "\n",
    "Create a list of the first 20 positive integers. Print the list."
   ]
  },
  {
   "cell_type": "code",
   "execution_count": 1,
   "id": "495bdced-4f6d-4b3c-9bd8-7cfde7edf552",
   "metadata": {},
   "outputs": [
    {
     "name": "stdout",
     "output_type": "stream",
     "text": [
      "[1, 2, 3, 4, 5, 6, 7, 8, 9, 10, 11, 12, 13, 14, 15, 16, 17, 18, 19, 20]\n"
     ]
    }
   ],
   "source": [
    "lst = list(range(1,21))\n",
    "print(lst)"
   ]
  },
  {
   "cell_type": "markdown",
   "id": "ed6b9dbd-cf03-47cf-b05a-db388994db2d",
   "metadata": {},
   "source": [
    "#### Assignment 2: Accessing List Elements\n",
    "\n",
    "Print the first, middle, and last elements of the list created in Assignment 1."
   ]
  },
  {
   "cell_type": "code",
   "execution_count": 2,
   "id": "937e703c-815e-46de-a947-e966558a586e",
   "metadata": {},
   "outputs": [
    {
     "name": "stdout",
     "output_type": "stream",
     "text": [
      "First element: 1\n",
      "Midle element: 10\n",
      "Last element: 20\n"
     ]
    }
   ],
   "source": [
    "first_ele = lst[0]\n",
    "middle_ele = lst[len(lst)//2 - 1]  # taking index 9 (10th element)\n",
    "last_ele = lst[-1]\n",
    "\n",
    "print(f'First element: {first_ele}')\n",
    "print(f'Midle element: {middle_ele}')\n",
    "print(f'Last element: {last_ele}')"
   ]
  },
  {
   "cell_type": "markdown",
   "id": "909e4fa9-9f66-4627-894b-475203f7d289",
   "metadata": {},
   "source": [
    "#### Assignment 3: List Slicing\n",
    "\n",
    "Print the first five elements, the last five elements, and the elements from index 5 to 15 of the list created in Assignment 1."
   ]
  },
  {
   "cell_type": "code",
   "execution_count": 3,
   "id": "bb7df8e2-3b08-4a16-a46d-41a3e72cbc19",
   "metadata": {},
   "outputs": [
    {
     "name": "stdout",
     "output_type": "stream",
     "text": [
      "[1, 2, 3, 4, 5, 6, 7, 8, 9, 10, 11, 12, 13, 14, 15, 16, 17, 18, 19, 20]\n",
      "First five element: [1, 2, 3, 4, 5]\n",
      "Last five element: [16, 17, 18, 19, 20]\n",
      "Elements from 5 to 15: [5, 6, 7, 8, 9, 10, 11, 12, 13, 14, 15]\n"
     ]
    }
   ],
   "source": [
    "print(lst)\n",
    "print(f'First five element: {lst[0:5]}')\n",
    "print(f'Last five element: {lst[15:]}')\n",
    "print(f'Elements from 5 to 15: {lst[4:15]}')"
   ]
  },
  {
   "cell_type": "markdown",
   "id": "171fb91d-d8bb-4313-a6f9-93889ccd9981",
   "metadata": {},
   "source": [
    "#### Assignment 4: List Comprehensions\n",
    "\n",
    "Create a new list containing the squares of the first 10 positive integers using a list comprehension. Print the new list."
   ]
  },
  {
   "cell_type": "code",
   "execution_count": 4,
   "id": "889a9386-5e89-4ad4-97fe-13c9b763db6f",
   "metadata": {},
   "outputs": [
    {
     "name": "stdout",
     "output_type": "stream",
     "text": [
      "[1, 4, 9, 16, 25, 36, 49, 64, 81, 100]\n"
     ]
    }
   ],
   "source": [
    "lst = list(i**2 for i in range(1,11))\n",
    "print(lst)"
   ]
  },
  {
   "cell_type": "markdown",
   "id": "193d0261-c6cd-4a0a-badf-87c6acb4d2fc",
   "metadata": {},
   "source": [
    "#### Assignment 5: Filtering Lists\n",
    "\n",
    "Create a new list containing only the even numbers from the list created in Assignment 1 using a list comprehension. Print the new list."
   ]
  },
  {
   "cell_type": "code",
   "execution_count": 5,
   "id": "52ea273d-2565-42da-b26e-4a4747a79349",
   "metadata": {},
   "outputs": [
    {
     "name": "stdout",
     "output_type": "stream",
     "text": [
      "[2, 4, 6, 8, 10, 12, 14, 16, 18, 20]\n"
     ]
    }
   ],
   "source": [
    "even_lst = list(i for i in range(1,21) if i % 2 == 0)\n",
    "print(even_lst)"
   ]
  },
  {
   "cell_type": "markdown",
   "id": "acdec1ff-25e1-4f80-87c5-12ea24aca31c",
   "metadata": {},
   "source": [
    "#### Assignment 6: List Methods\n",
    "\n",
    "Create a list of random numbers and sort it in ascending and descending order. Remove the duplicates from the list and print the modified list."
   ]
  },
  {
   "cell_type": "code",
   "execution_count": 6,
   "id": "4ac5e253-7936-434b-931d-859b3b3764c4",
   "metadata": {},
   "outputs": [
    {
     "name": "stdout",
     "output_type": "stream",
     "text": [
      "Original list: [10, 20, 5, 13, 13, 20, 13, 4, 10, 9, 10, 3, 11, 8, 14]\n",
      "Ascending order: [3, 4, 5, 8, 9, 10, 10, 10, 11, 13, 13, 13, 14, 20, 20]\n",
      "Descending order: [20, 20, 14, 13, 13, 13, 11, 10, 10, 10, 9, 8, 5, 4, 3]\n",
      "Without duplicates: [3, 4, 5, 8, 9, 10, 11, 13, 14, 20]\n"
     ]
    }
   ],
   "source": [
    "import random\n",
    "\n",
    "# create a list of 15 random numbers between 1 to 20.\n",
    "nmbers = [random.randint(1,20) for _ in range(15)]\n",
    "print(f'Original list: {nmbers}')\n",
    "\n",
    "# sort in ascending order:\n",
    "asc = sorted(nmbers)\n",
    "print(f'Ascending order: {asc}')\n",
    "\n",
    "# Sort in descending order:\n",
    "desc = sorted(nmbers, reverse =True)\n",
    "print(f'Descending order: {desc}')\n",
    "\n",
    "# remove duplicated:-\n",
    "unique_ele = list(set(nmbers))\n",
    "print(f'Without duplicates: {unique_ele}')"
   ]
  },
  {
   "cell_type": "markdown",
   "id": "86c5d08e-2efe-47f0-ba90-ada00b24bb5f",
   "metadata": {},
   "source": [
    "#### Assignment 7: Nested Lists\n",
    "\n",
    "Create a nested list representing a 3x3 matrix and print the matrix. Access and print the element at the second row and third column."
   ]
  },
  {
   "cell_type": "code",
   "execution_count": 7,
   "id": "a96d489f-60a7-4879-8f97-e8441e303025",
   "metadata": {},
   "outputs": [
    {
     "name": "stdout",
     "output_type": "stream",
     "text": [
      "Matrix:\n",
      "[1, 2, 3]\n",
      "[4, 5, 6]\n",
      "[7, 8, 9]\n",
      "Element at the second row and third column.6\n"
     ]
    }
   ],
   "source": [
    "matrix = [\n",
    "    [1,2,3],\n",
    "    [4,5,6],\n",
    "    [7,8,9]\n",
    "]\n",
    "\n",
    "print(f'Matrix:')\n",
    "for row in matrix:\n",
    "    print(row)\n",
    "\n",
    "print(f'Element at the second row and third column.{matrix[1][2]}')"
   ]
  },
  {
   "cell_type": "markdown",
   "id": "21dd4331-3a85-4159-8f4f-a08a98bb2e62",
   "metadata": {},
   "source": [
    "#### Assignment 8: List of Dictionaries\n",
    "\n",
    "Create a list of dictionaries where each dictionary represents a student with keys 'name' and 'score'. Sort the list of dictionaries by the 'score' in descending order and print the sorted list."
   ]
  },
  {
   "cell_type": "code",
   "execution_count": 8,
   "id": "0fa6e32e-82c2-4295-809c-39cda9fe6034",
   "metadata": {},
   "outputs": [
    {
     "name": "stdout",
     "output_type": "stream",
     "text": [
      "Descending order: \n",
      "{'name': 'David', 'score': 95}\n",
      "{'name': 'Bob', 'score': 92}\n",
      "{'name': 'Eva', 'score': 88}\n",
      "{'name': 'Alice', 'score': 85}\n",
      "{'name': 'Charlie', 'score': 78}\n"
     ]
    }
   ],
   "source": [
    "students = [\n",
    "    {\"name\": \"Alice\", \"score\": 85},\n",
    "    {\"name\": \"Bob\", \"score\": 92},\n",
    "    {\"name\": \"Charlie\", \"score\": 78},\n",
    "    {\"name\": \"David\", \"score\": 95},\n",
    "    {\"name\": \"Eva\", \"score\": 88}\n",
    "]\n",
    "\n",
    "sorted_students = sorted(students, key= lambda x : x['score'], reverse = True)\n",
    "\n",
    "print('Descending order: ')\n",
    "for student in sorted_students:\n",
    "    print(student)"
   ]
  },
  {
   "cell_type": "code",
   "execution_count": null,
   "id": "e7fb9bb1-6781-49ab-ab36-c0b44b17441e",
   "metadata": {},
   "outputs": [],
   "source": []
  }
 ],
 "metadata": {
  "kernelspec": {
   "display_name": "Python 3 (ipykernel)",
   "language": "python",
   "name": "python3"
  },
  "language_info": {
   "codemirror_mode": {
    "name": "ipython",
    "version": 3
   },
   "file_extension": ".py",
   "mimetype": "text/x-python",
   "name": "python",
   "nbconvert_exporter": "python",
   "pygments_lexer": "ipython3",
   "version": "3.13.5"
  }
 },
 "nbformat": 4,
 "nbformat_minor": 5
}
