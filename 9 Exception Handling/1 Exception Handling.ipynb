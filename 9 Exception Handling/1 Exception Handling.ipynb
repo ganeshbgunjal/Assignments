{
 "cells": [
  {
   "cell_type": "markdown",
   "id": "7ecb35c5-8415-40f3-8369-fa586819f21c",
   "metadata": {},
   "source": [
    "## Exception Handling Assignment:--\n",
    "###  Exception Handling with try, except, and finally"
   ]
  },
  {
   "cell_type": "markdown",
   "id": "fb8d933d-74d7-4351-b37f-40e4842bee47",
   "metadata": {},
   "source": [
    "### Assignment 1: Handling Division by Zero\n",
    "\n",
    "Write a function that takes two integers as input and returns their division. Use try, except, and finally blocks to handle division by zero and print an appropriate message."
   ]
  },
  {
   "cell_type": "code",
   "execution_count": 1,
   "id": "3650dc73-3947-44d1-8310-933db5362668",
   "metadata": {},
   "outputs": [],
   "source": [
    "def safe_division(a,b):\n",
    "    try:\n",
    "        result = a/b\n",
    "        print(f'Result: {result}')\n",
    "        # return result\n",
    "    except ZeroDivisionError:\n",
    "        print('Can not divide by zero!')\n",
    "    finally:\n",
    "        print('execution completed')"
   ]
  },
  {
   "cell_type": "code",
   "execution_count": 2,
   "id": "681c7c69-9c29-462b-8b45-7e1c8d6611bc",
   "metadata": {},
   "outputs": [
    {
     "name": "stdout",
     "output_type": "stream",
     "text": [
      "Can not divide by zero!\n",
      "execution completed\n",
      "Result: 5.0\n",
      "execution completed\n",
      "Result: 3.3333333333333335\n",
      "execution completed\n"
     ]
    }
   ],
   "source": [
    "safe_division(10,0)\n",
    "safe_division(10,2)\n",
    "safe_division(10,3)"
   ]
  },
  {
   "cell_type": "markdown",
   "id": "8000c428-5d5f-4551-9ef6-9c35509838c1",
   "metadata": {},
   "source": [
    "### Assignment 2: File Reading with Exception Handling\n",
    "\n",
    "Write a function that reads the contents of a file named `data.txt`. Use try, except, and finally blocks to handle file not found errors and ensure the file is properly closed."
   ]
  },
  {
   "cell_type": "code",
   "execution_count": 3,
   "id": "baa55bed-2cbe-4276-bfa6-1bf42f4d5508",
   "metadata": {},
   "outputs": [
    {
     "name": "stdout",
     "output_type": "stream",
     "text": [
      "Hello, this is a test file.\n",
      "We are practicing exception handling in Python.\n",
      "This file will be read using try, except, and finally.\n",
      "\n",
      "File closed!!\n",
      "Execution completed!!!\n"
     ]
    }
   ],
   "source": [
    "def read_file():\n",
    "    try:\n",
    "        with open('data.txt','r') as file:\n",
    "            data = file.read()\n",
    "            print(data)\n",
    "    except FileNotFoundError:\n",
    "        print('File data.txt not found in the directory')\n",
    "    finally:\n",
    "        file.close()\n",
    "        print('File closed!!')\n",
    "        print('Execution completed!!!')\n",
    "\n",
    "read_file()"
   ]
  },
  {
   "cell_type": "markdown",
   "id": "758f0272-331e-45a0-ba7e-fe7e6b64462c",
   "metadata": {},
   "source": [
    "### Assignment 3: Handling Multiple Exceptions\n",
    "\n",
    "Write a function that takes a list of integers and returns their sum. Use try, except, and finally blocks to handle TypeError if a non-integer value is encountered and print an appropriate message."
   ]
  },
  {
   "cell_type": "code",
   "execution_count": 4,
   "id": "47e1bdfc-cee6-415d-85f8-26061d966536",
   "metadata": {},
   "outputs": [],
   "source": [
    "def safe_sum(numbers):\n",
    "    total = 0\n",
    "    try:\n",
    "        for num in numbers:\n",
    "            total +=num\n",
    "        print(f'Total: {total}')\n",
    "        return total\n",
    "        \n",
    "    except TypeError:\n",
    "        print('Error: All elements must be integers!')\n",
    "    finally:\n",
    "        print('Addition operation completed!')"
   ]
  },
  {
   "cell_type": "code",
   "execution_count": 5,
   "id": "1b3124cf-4c54-4d8c-ba72-06252a552cae",
   "metadata": {},
   "outputs": [
    {
     "name": "stdout",
     "output_type": "stream",
     "text": [
      "Total: 39\n",
      "Addition operation completed!\n",
      "Error: All elements must be integers!\n",
      "Addition operation completed!\n"
     ]
    }
   ],
   "source": [
    "safe_sum([1,23,4,5,6])\n",
    "safe_sum([1,23,4,'two',6])"
   ]
  },
  {
   "cell_type": "markdown",
   "id": "2a4760d1-7669-4742-87c2-449459f7d0b9",
   "metadata": {},
   "source": [
    "### Assignment 4: Exception Handling in User Input\n",
    "\n",
    "Write a function that prompts the user to enter an integer. Use try, except, and finally blocks to handle ValueError if the user enters a non-integer value and print an appropriate message."
   ]
  },
  {
   "cell_type": "code",
   "execution_count": 8,
   "id": "1f727f13-2d0b-499a-9655-93a1ed3ab051",
   "metadata": {},
   "outputs": [],
   "source": [
    "def print_value():\n",
    "    try:\n",
    "        num = int(input('Ente num:'))\n",
    "        print(f'Value entered: {num}')\n",
    "    except ValueError:\n",
    "        print('Error: enter integer value!!')\n",
    "    finally:\n",
    "        print('Operation completed!')"
   ]
  },
  {
   "cell_type": "code",
   "execution_count": 10,
   "id": "aa121f45-0037-433d-85fc-66851d7232cd",
   "metadata": {},
   "outputs": [
    {
     "name": "stdin",
     "output_type": "stream",
     "text": [
      "Ente num: d\n"
     ]
    },
    {
     "name": "stdout",
     "output_type": "stream",
     "text": [
      "Error: enter integer value!!\n",
      "Operation completed!\n"
     ]
    }
   ],
   "source": [
    "print_value()"
   ]
  },
  {
   "cell_type": "markdown",
   "id": "31ddd452-6fe4-4866-a1d0-4b5867858ad2",
   "metadata": {},
   "source": [
    "### Assignment 5: Exception Handling in Dictionary Access\n",
    "\n",
    "Write a function that takes a dictionary and a key as input and returns the value associated with the key. Use try, except, and finally blocks to handle KeyError if the key is not found in the dictionary and print an appropriate message."
   ]
  },
  {
   "cell_type": "code",
   "execution_count": 13,
   "id": "5a9210a7-55f8-4341-a55c-9c514f102294",
   "metadata": {},
   "outputs": [],
   "source": [
    "def get_value(data,key):\n",
    "    try:\n",
    "        value = data[key]\n",
    "        print(f'Value for the Key {key}: {value}')\n",
    "    except KeyError:\n",
    "        print(f'Error: {key} was not found in the dictionary!')\n",
    "    finally:\n",
    "        print('Operation completed!')"
   ]
  },
  {
   "cell_type": "code",
   "execution_count": 14,
   "id": "b8a6f14c-5e67-4a8e-aa3e-2bc35dedf27f",
   "metadata": {},
   "outputs": [
    {
     "name": "stdout",
     "output_type": "stream",
     "text": [
      "Value for the Key name: Ganesh\n",
      "Operation completed!\n",
      "Error: salary was not found in the dictionary!\n",
      "Operation completed!\n"
     ]
    }
   ],
   "source": [
    "my_dict = {\"name\": \"Ganesh\", \"age\": 33, \"role\": \"Data Scientist\"}\n",
    "\n",
    "get_value(my_dict, \"name\")   \n",
    "get_value(my_dict, \"salary\") "
   ]
  },
  {
   "cell_type": "markdown",
   "id": "296732cd-0f1f-4eba-87bc-ee49b4839f8e",
   "metadata": {},
   "source": [
    "### Assignment 6: Nested Exception Handling\n",
    "\n",
    "Write a function that performs nested exception handling. It should first attempt to convert a string to an integer, and then attempt to divide by that integer. Use nested try, except, and finally blocks to handle ValueError and ZeroDivisionError and print appropriate messages."
   ]
  },
  {
   "cell_type": "code",
   "execution_count": 16,
   "id": "62b48a14-53d3-440f-b622-3ab2c28f5052",
   "metadata": {},
   "outputs": [],
   "source": [
    "def nested_exception_handling(value):\n",
    "    try:\n",
    "        try:\n",
    "            num = int(value)\n",
    "            result = 10/num\n",
    "            print(f'Result: {result}')\n",
    "        except ValueError:\n",
    "            print(f'Error: enter integer value!')\n",
    "        except ZeroDivisionError:\n",
    "            print(f'Enter non zero integer value!')\n",
    "        finally:\n",
    "            print('inner block completed!')\n",
    "    except Exception as e:\n",
    "        print(f'Error: {e}')\n",
    "    finally:\n",
    "        print('Operation Completed!')\n",
    "            "
   ]
  },
  {
   "cell_type": "code",
   "execution_count": 19,
   "id": "6bc02f33-311e-46f1-a5bf-2174cf40f880",
   "metadata": {},
   "outputs": [
    {
     "name": "stdout",
     "output_type": "stream",
     "text": [
      "Result: 5.0\n",
      "inner block completed!\n",
      "Operation Completed!\n",
      "Error: enter integer value!\n",
      "inner block completed!\n",
      "Operation Completed!\n",
      "inner block completed!\n",
      "Error: int() argument must be a string, a bytes-like object or a real number, not 'list'\n",
      "Operation Completed!\n"
     ]
    }
   ],
   "source": [
    "nested_exception_handling(2)\n",
    "nested_exception_handling('two')\n",
    "nested_exception_handling(['dd'])\n"
   ]
  },
  {
   "cell_type": "markdown",
   "id": "189fcbf3-395a-44c5-a04a-e7298eb2adcd",
   "metadata": {},
   "source": [
    "### Assignment 7: Exception Handling in List Operations\n",
    "\n",
    "Write a function that takes a list and an index as input and returns the element at the given index. Use try, except, and finally blocks to handle IndexError if the index is out of range and print an appropriate message."
   ]
  },
  {
   "cell_type": "code",
   "execution_count": 25,
   "id": "e7188bbf-7816-4e4b-b5f8-7fa5058cca31",
   "metadata": {},
   "outputs": [],
   "source": [
    "def get_element(lst,index):\n",
    "    try:\n",
    "        element = lst[index]\n",
    "        print(f'Element at index {index} is {element}')\n",
    "    except IndexError:\n",
    "        print(f'Index {index} is out of range for this list!')\n",
    "    finally:\n",
    "        print('Operation completed!')"
   ]
  },
  {
   "cell_type": "code",
   "execution_count": 26,
   "id": "616ec42f-6d09-4a0c-a9e0-103b46183b60",
   "metadata": {},
   "outputs": [
    {
     "name": "stdout",
     "output_type": "stream",
     "text": [
      "Element at index 2 is 60\n",
      "Operation completed!\n",
      "Index 10 is out of range for this list!\n",
      "Operation completed!\n"
     ]
    }
   ],
   "source": [
    "lst = [10,20,60,80,70,100]\n",
    "get_element(lst,2)\n",
    "get_element(lst,10)"
   ]
  },
  {
   "cell_type": "code",
   "execution_count": null,
   "id": "32fe8f95-0d07-474b-aec1-a2910715c3ac",
   "metadata": {},
   "outputs": [],
   "source": []
  }
 ],
 "metadata": {
  "kernelspec": {
   "display_name": "Python 3 (ipykernel)",
   "language": "python",
   "name": "python3"
  },
  "language_info": {
   "codemirror_mode": {
    "name": "ipython",
    "version": 3
   },
   "file_extension": ".py",
   "mimetype": "text/x-python",
   "name": "python",
   "nbconvert_exporter": "python",
   "pygments_lexer": "ipython3",
   "version": "3.13.5"
  }
 },
 "nbformat": 4,
 "nbformat_minor": 5
}
