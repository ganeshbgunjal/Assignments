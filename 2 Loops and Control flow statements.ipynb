{
 "cells": [
  {
   "cell_type": "markdown",
   "id": "af20aae0-0623-4880-9212-25d5bd18e372",
   "metadata": {},
   "source": [
    "## Control Flow Assignments\n",
    "### 1. Conditional Statements"
   ]
  },
  {
   "cell_type": "markdown",
   "id": "5c47ea44-bd09-47a9-8d9b-54a8a3349203",
   "metadata": {},
   "source": [
    "**Question:-1** Write a program that asks the user to input a number and prints whether the number is positive.\n"
   ]
  },
  {
   "cell_type": "code",
   "execution_count": 3,
   "id": "f50c13bb-f17e-4904-b402-8b602cd7366d",
   "metadata": {},
   "outputs": [
    {
     "name": "stdin",
     "output_type": "stream",
     "text": [
      "Enter Number:  2\n"
     ]
    },
    {
     "name": "stdout",
     "output_type": "stream",
     "text": [
      "2 is positive\n"
     ]
    }
   ],
   "source": [
    "number = int(input('Enter Number: '))\n",
    "if number >0:\n",
    "    print(f'{number} is positive')"
   ]
  },
  {
   "cell_type": "markdown",
   "id": "d8a618bd-17a5-4f0b-a90d-b53e20f9b842",
   "metadata": {},
   "source": [
    "**Question: 2** Write a program that asks the user to input a number and prints whether the number is positive or negative.\n"
   ]
  },
  {
   "cell_type": "code",
   "execution_count": 4,
   "id": "ca39478c-c427-470b-8deb-a6f148690aca",
   "metadata": {},
   "outputs": [
    {
     "name": "stdin",
     "output_type": "stream",
     "text": [
      "Enter num: -1\n"
     ]
    },
    {
     "name": "stdout",
     "output_type": "stream",
     "text": [
      "-1 is negative\n"
     ]
    }
   ],
   "source": [
    "num = int(input('Enter num:'))\n",
    "if num >0:\n",
    "    print(f'{num} is Positive')\n",
    "else:\n",
    "    print(f'{num} is negative')"
   ]
  },
  {
   "cell_type": "markdown",
   "id": "51aeef2a-4679-4674-805b-45daf4b7330c",
   "metadata": {},
   "source": [
    "**Question:3** Write a program that asks the user to input a number and prints whether the number is positive, negative, or zero.\n"
   ]
  },
  {
   "cell_type": "code",
   "execution_count": 6,
   "id": "c272e9c5-7ca6-4e74-8ba7-867342500457",
   "metadata": {},
   "outputs": [
    {
     "name": "stdin",
     "output_type": "stream",
     "text": [
      "Enter a num: 0\n"
     ]
    },
    {
     "name": "stdout",
     "output_type": "stream",
     "text": [
      "You entered zero\n"
     ]
    }
   ],
   "source": [
    "num = int(input('Enter a num:'))\n",
    "if num>0:\n",
    "    print(f'{num} is positive')\n",
    "elif num<0:\n",
    "    print(f'{num} is negative')\n",
    "elif num==0:\n",
    "    print(f'You entered zero')\n",
    "else:\n",
    "    print('you entered something else')"
   ]
  },
  {
   "cell_type": "markdown",
   "id": "ad33ccfc-d009-445c-8698-586a4d8c2385",
   "metadata": {},
   "source": [
    "**Question:4** Write a program that asks the user to input a number and prints whether the number is positive and even, positive and odd, or negative.\n"
   ]
  },
  {
   "cell_type": "code",
   "execution_count": 12,
   "id": "fea10566-c79a-41a4-ba8b-6eacecab3083",
   "metadata": {},
   "outputs": [
    {
     "name": "stdin",
     "output_type": "stream",
     "text": [
      "Enter num: 3\n"
     ]
    },
    {
     "name": "stdout",
     "output_type": "stream",
     "text": [
      "Number is Positive and Odd\n"
     ]
    }
   ],
   "source": [
    "num = int(input('Enter num:'))\n",
    "if num > 0:\n",
    "    if num % 2 == 0:\n",
    "        print('Number is Positive and Even')\n",
    "    else:\n",
    "        print('Number is Positive and Odd')\n",
    "elif num < 0:\n",
    "    print('Number is negative')\n",
    "else:\n",
    "    print('You entered zero!')"
   ]
  },
  {
   "cell_type": "markdown",
   "id": "66d4199f-eac4-4e5c-a01e-792d0dc755dc",
   "metadata": {},
   "source": [
    "### 2. Loops"
   ]
  },
  {
   "cell_type": "markdown",
   "id": "f157ea65-9faf-4f3a-b64e-4f2ca127eb61",
   "metadata": {},
   "source": [
    "**Question: 5** Write a program that prints all the numbers from 1 to 10 using a for loop.\n"
   ]
  },
  {
   "cell_type": "code",
   "execution_count": 15,
   "id": "45f5f48c-0292-499c-86ca-4cae57abb532",
   "metadata": {},
   "outputs": [
    {
     "name": "stdout",
     "output_type": "stream",
     "text": [
      "1\n",
      "2\n",
      "3\n",
      "4\n",
      "5\n",
      "6\n",
      "7\n",
      "8\n",
      "9\n",
      "10\n"
     ]
    }
   ],
   "source": [
    "for i in range(1,11):\n",
    "    print(i)"
   ]
  },
  {
   "cell_type": "markdown",
   "id": "397e3829-d2d1-4c97-b91c-c109cd7bd43f",
   "metadata": {},
   "source": [
    "**Question: 6** Write a program that prints all the numbers from 1 to 10 using a while loop.\n"
   ]
  },
  {
   "cell_type": "code",
   "execution_count": 16,
   "id": "ad994549-727e-4d89-ada3-3c96dba1d4a7",
   "metadata": {},
   "outputs": [
    {
     "name": "stdout",
     "output_type": "stream",
     "text": [
      "1\n",
      "2\n",
      "3\n",
      "4\n",
      "5\n",
      "6\n",
      "7\n",
      "8\n",
      "9\n",
      "10\n"
     ]
    }
   ],
   "source": [
    "i =1\n",
    "while i<=10:\n",
    "    print(i)\n",
    "    i+=1"
   ]
  },
  {
   "cell_type": "markdown",
   "id": "b042e2fd-a3b2-48eb-b084-4ad40803dc48",
   "metadata": {},
   "source": [
    "**Question: 7** Write a program that prints a 5x5 grid of asterisks (*) using nested loops.\n"
   ]
  },
  {
   "cell_type": "code",
   "execution_count": 22,
   "id": "e181acc3-0ceb-4d91-a74d-9d2c6e358146",
   "metadata": {},
   "outputs": [
    {
     "name": "stdout",
     "output_type": "stream",
     "text": [
      "* * * * * \n",
      "* * * * * \n",
      "* * * * * \n",
      "* * * * * \n",
      "* * * * * \n"
     ]
    }
   ],
   "source": [
    "for i in range(5):            #outer loop for rows\n",
    "    for j in range(5):        #inner loop for columns\n",
    "        print('*',end=\" \")    #print * without going next line\n",
    "    print()                   #move to next line after each row."
   ]
  },
  {
   "cell_type": "markdown",
   "id": "e0f97a72-f716-43a9-b1f0-b0e689036e14",
   "metadata": {},
   "source": [
    "**Question: 8** Write a program that asks the user to input numbers until they input 0. The program should print the sum of all the input numbers.\n"
   ]
  },
  {
   "cell_type": "code",
   "execution_count": 23,
   "id": "b241f72e-d5c9-4bb4-b402-20e9ca3b848e",
   "metadata": {},
   "outputs": [
    {
     "name": "stdin",
     "output_type": "stream",
     "text": [
      "Enter num 5\n",
      "Enter num 6\n",
      "Enter num -1\n",
      "Enter num 8\n",
      "Enter num 0\n"
     ]
    },
    {
     "name": "stdout",
     "output_type": "stream",
     "text": [
      "Sum of total numbers is: 18\n"
     ]
    }
   ],
   "source": [
    "total = 0\n",
    "while True:\n",
    "    num = int(input('Enter num'))\n",
    "    if num == 0:\n",
    "        break\n",
    "    total =  total +num\n",
    "print(f'Sum of total numbers is: {total}')"
   ]
  },
  {
   "cell_type": "markdown",
   "id": "c177c0db-9384-4c16-8395-1b2eb4f66f08",
   "metadata": {},
   "source": [
    "**Question :9** Write a program that prints all the numbers from 1 to 10 except 5 using a for loop and continue statement.\n"
   ]
  },
  {
   "cell_type": "code",
   "execution_count": 25,
   "id": "2bc5309f-05d6-4103-a2fe-861407c382f9",
   "metadata": {},
   "outputs": [
    {
     "name": "stdout",
     "output_type": "stream",
     "text": [
      "1\n",
      "2\n",
      "3\n",
      "4\n",
      "6\n",
      "7\n",
      "8\n",
      "9\n",
      "10\n"
     ]
    }
   ],
   "source": [
    "for i in range(1,11):\n",
    "    if i ==5:\n",
    "        continue\n",
    "    print(i)"
   ]
  },
  {
   "cell_type": "markdown",
   "id": "44932159-5ae7-4940-b68b-7f80b2885030",
   "metadata": {},
   "source": [
    "**Question: 10** Write a program that defines an empty function using the pass statement.\n"
   ]
  },
  {
   "cell_type": "code",
   "execution_count": 27,
   "id": "26565410-a529-421c-9b0a-d6f0482d9bd7",
   "metadata": {},
   "outputs": [],
   "source": [
    "def empty_function():\n",
    "    pass"
   ]
  },
  {
   "cell_type": "code",
   "execution_count": 28,
   "id": "5b63192a-2807-4b15-a4ab-abee3d67f2b1",
   "metadata": {},
   "outputs": [],
   "source": [
    "empty_function()"
   ]
  },
  {
   "cell_type": "code",
   "execution_count": null,
   "id": "880b6537-3cd3-4ac5-a09e-fd66b69f1e08",
   "metadata": {},
   "outputs": [],
   "source": []
  }
 ],
 "metadata": {
  "kernelspec": {
   "display_name": "Python 3 (ipykernel)",
   "language": "python",
   "name": "python3"
  },
  "language_info": {
   "codemirror_mode": {
    "name": "ipython",
    "version": 3
   },
   "file_extension": ".py",
   "mimetype": "text/x-python",
   "name": "python",
   "nbconvert_exporter": "python",
   "pygments_lexer": "ipython3",
   "version": "3.13.5"
  }
 },
 "nbformat": 4,
 "nbformat_minor": 5
}
