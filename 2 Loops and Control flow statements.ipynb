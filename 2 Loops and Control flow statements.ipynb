{
 "cells": [
  {
   "cell_type": "markdown",
   "id": "af20aae0-0623-4880-9212-25d5bd18e372",
   "metadata": {},
   "source": [
    "## Control Flow Assignments\n",
    "### 1. Conditional Statements"
   ]
  },
  {
   "cell_type": "markdown",
   "id": "5c47ea44-bd09-47a9-8d9b-54a8a3349203",
   "metadata": {},
   "source": [
    "**Question:-1** Write a program that asks the user to input a number and prints whether the number is positive.\n"
   ]
  },
  {
   "cell_type": "code",
   "execution_count": 3,
   "id": "f50c13bb-f17e-4904-b402-8b602cd7366d",
   "metadata": {},
   "outputs": [
    {
     "name": "stdin",
     "output_type": "stream",
     "text": [
      "Enter Number:  2\n"
     ]
    },
    {
     "name": "stdout",
     "output_type": "stream",
     "text": [
      "2 is positive\n"
     ]
    }
   ],
   "source": [
    "number = int(input('Enter Number: '))\n",
    "if number >0:\n",
    "    print(f'{number} is positive')"
   ]
  },
  {
   "cell_type": "markdown",
   "id": "d8a618bd-17a5-4f0b-a90d-b53e20f9b842",
   "metadata": {},
   "source": [
    "**Question: 2** Write a program that asks the user to input a number and prints whether the number is positive or negative.\n"
   ]
  },
  {
   "cell_type": "code",
   "execution_count": 4,
   "id": "ca39478c-c427-470b-8deb-a6f148690aca",
   "metadata": {},
   "outputs": [
    {
     "name": "stdin",
     "output_type": "stream",
     "text": [
      "Enter num: -1\n"
     ]
    },
    {
     "name": "stdout",
     "output_type": "stream",
     "text": [
      "-1 is negative\n"
     ]
    }
   ],
   "source": [
    "num = int(input('Enter num:'))\n",
    "if num >0:\n",
    "    print(f'{num} is Positive')\n",
    "else:\n",
    "    print(f'{num} is negative')"
   ]
  },
  {
   "cell_type": "markdown",
   "id": "51aeef2a-4679-4674-805b-45daf4b7330c",
   "metadata": {},
   "source": [
    "**Question:3** Write a program that asks the user to input a number and prints whether the number is positive, negative, or zero.\n"
   ]
  },
  {
   "cell_type": "code",
   "execution_count": 6,
   "id": "c272e9c5-7ca6-4e74-8ba7-867342500457",
   "metadata": {},
   "outputs": [
    {
     "name": "stdin",
     "output_type": "stream",
     "text": [
      "Enter a num: 0\n"
     ]
    },
    {
     "name": "stdout",
     "output_type": "stream",
     "text": [
      "You entered zero\n"
     ]
    }
   ],
   "source": [
    "num = int(input('Enter a num:'))\n",
    "if num>0:\n",
    "    print(f'{num} is positive')\n",
    "elif num<0:\n",
    "    print(f'{num} is negative')\n",
    "elif num==0:\n",
    "    print(f'You entered zero')\n",
    "else:\n",
    "    print('you entered something else')"
   ]
  },
  {
   "cell_type": "markdown",
   "id": "ad33ccfc-d009-445c-8698-586a4d8c2385",
   "metadata": {},
   "source": [
    "**Question:4** Write a program that asks the user to input a number and prints whether the number is positive and even, positive and odd, or negative.\n"
   ]
  },
  {
   "cell_type": "code",
   "execution_count": 12,
   "id": "fea10566-c79a-41a4-ba8b-6eacecab3083",
   "metadata": {},
   "outputs": [
    {
     "name": "stdin",
     "output_type": "stream",
     "text": [
      "Enter num: 3\n"
     ]
    },
    {
     "name": "stdout",
     "output_type": "stream",
     "text": [
      "Number is Positive and Odd\n"
     ]
    }
   ],
   "source": [
    "num = int(input('Enter num:'))\n",
    "if num > 0:\n",
    "    if num % 2 == 0:\n",
    "        print('Number is Positive and Even')\n",
    "    else:\n",
    "        print('Number is Positive and Odd')\n",
    "elif num < 0:\n",
    "    print('Number is negative')\n",
    "else:\n",
    "    print('You entered zero!')"
   ]
  },
  {
   "cell_type": "markdown",
   "id": "66d4199f-eac4-4e5c-a01e-792d0dc755dc",
   "metadata": {},
   "source": [
    "### 2. Loops"
   ]
  },
  {
   "cell_type": "markdown",
   "id": "f157ea65-9faf-4f3a-b64e-4f2ca127eb61",
   "metadata": {},
   "source": [
    "**Question: 5** Write a program that prints all the numbers from 1 to 10 using a for loop.\n"
   ]
  },
  {
   "cell_type": "code",
   "execution_count": 15,
   "id": "45f5f48c-0292-499c-86ca-4cae57abb532",
   "metadata": {},
   "outputs": [
    {
     "name": "stdout",
     "output_type": "stream",
     "text": [
      "1\n",
      "2\n",
      "3\n",
      "4\n",
      "5\n",
      "6\n",
      "7\n",
      "8\n",
      "9\n",
      "10\n"
     ]
    }
   ],
   "source": [
    "for i in range(1,11):\n",
    "    print(i)"
   ]
  },
  {
   "cell_type": "markdown",
   "id": "397e3829-d2d1-4c97-b91c-c109cd7bd43f",
   "metadata": {},
   "source": [
    "**Question: 6** Write a program that prints all the numbers from 1 to 10 using a while loop.\n"
   ]
  },
  {
   "cell_type": "code",
   "execution_count": 16,
   "id": "ad994549-727e-4d89-ada3-3c96dba1d4a7",
   "metadata": {},
   "outputs": [
    {
     "name": "stdout",
     "output_type": "stream",
     "text": [
      "1\n",
      "2\n",
      "3\n",
      "4\n",
      "5\n",
      "6\n",
      "7\n",
      "8\n",
      "9\n",
      "10\n"
     ]
    }
   ],
   "source": [
    "i =1\n",
    "while i<=10:\n",
    "    print(i)\n",
    "    i+=1"
   ]
  },
  {
   "cell_type": "markdown",
   "id": "b042e2fd-a3b2-48eb-b084-4ad40803dc48",
   "metadata": {},
   "source": [
    "**Question: 7** Write a program that prints a 5x5 grid of asterisks (*) using nested loops.\n"
   ]
  },
  {
   "cell_type": "code",
   "execution_count": 22,
   "id": "e181acc3-0ceb-4d91-a74d-9d2c6e358146",
   "metadata": {},
   "outputs": [
    {
     "name": "stdout",
     "output_type": "stream",
     "text": [
      "* * * * * \n",
      "* * * * * \n",
      "* * * * * \n",
      "* * * * * \n",
      "* * * * * \n"
     ]
    }
   ],
   "source": [
    "for i in range(5):            #outer loop for rows\n",
    "    for j in range(5):        #inner loop for columns\n",
    "        print('*',end=\" \")    #print * without going next line\n",
    "    print()                   #move to next line after each row."
   ]
  },
  {
   "cell_type": "markdown",
   "id": "e0f97a72-f716-43a9-b1f0-b0e689036e14",
   "metadata": {},
   "source": [
    "**Question: 8** Write a program that asks the user to input numbers until they input 0. The program should print the sum of all the input numbers.\n"
   ]
  },
  {
   "cell_type": "code",
   "execution_count": 23,
   "id": "b241f72e-d5c9-4bb4-b402-20e9ca3b848e",
   "metadata": {},
   "outputs": [
    {
     "name": "stdin",
     "output_type": "stream",
     "text": [
      "Enter num 5\n",
      "Enter num 6\n",
      "Enter num -1\n",
      "Enter num 8\n",
      "Enter num 0\n"
     ]
    },
    {
     "name": "stdout",
     "output_type": "stream",
     "text": [
      "Sum of total numbers is: 18\n"
     ]
    }
   ],
   "source": [
    "total = 0\n",
    "while True:\n",
    "    num = int(input('Enter num'))\n",
    "    if num == 0:\n",
    "        break\n",
    "    total =  total +num\n",
    "print(f'Sum of total numbers is: {total}')"
   ]
  },
  {
   "cell_type": "markdown",
   "id": "c177c0db-9384-4c16-8395-1b2eb4f66f08",
   "metadata": {},
   "source": [
    "**Question :9** Write a program that prints all the numbers from 1 to 10 except 5 using a for loop and continue statement.\n"
   ]
  },
  {
   "cell_type": "code",
   "execution_count": 25,
   "id": "2bc5309f-05d6-4103-a2fe-861407c382f9",
   "metadata": {},
   "outputs": [
    {
     "name": "stdout",
     "output_type": "stream",
     "text": [
      "1\n",
      "2\n",
      "3\n",
      "4\n",
      "6\n",
      "7\n",
      "8\n",
      "9\n",
      "10\n"
     ]
    }
   ],
   "source": [
    "for i in range(1,11):\n",
    "    if i ==5:\n",
    "        continue\n",
    "    print(i)"
   ]
  },
  {
   "cell_type": "markdown",
   "id": "44932159-5ae7-4940-b68b-7f80b2885030",
   "metadata": {},
   "source": [
    "**Question: 10** Write a program that defines an empty function using the pass statement.\n"
   ]
  },
  {
   "cell_type": "code",
   "execution_count": 27,
   "id": "26565410-a529-421c-9b0a-d6f0482d9bd7",
   "metadata": {},
   "outputs": [],
   "source": [
    "def empty_function():\n",
    "    pass"
   ]
  },
  {
   "cell_type": "code",
   "execution_count": 28,
   "id": "5b63192a-2807-4b15-a4ab-abee3d67f2b1",
   "metadata": {},
   "outputs": [],
   "source": [
    "empty_function()"
   ]
  },
  {
   "cell_type": "markdown",
   "id": "a24230a9-599a-4b4a-b684-c3922ee302e1",
   "metadata": {},
   "source": [
    "**Question: 11** Write a program that asks the user to input a number and prints all the even numbers from 1 to that number using a for loop.\n"
   ]
  },
  {
   "cell_type": "code",
   "execution_count": 30,
   "id": "24396b49-6c02-4fa6-92cb-40ee0a01412b",
   "metadata": {},
   "outputs": [
    {
     "name": "stdin",
     "output_type": "stream",
     "text": [
      "Enter num:  16\n"
     ]
    },
    {
     "name": "stdout",
     "output_type": "stream",
     "text": [
      "2\n",
      "4\n",
      "6\n",
      "8\n",
      "10\n",
      "12\n",
      "14\n",
      "16\n"
     ]
    }
   ],
   "source": [
    "num = int(input('Enter num: '))\n",
    "for i in range(1,num+1):\n",
    "    if i % 2==0:\n",
    "        print(i)"
   ]
  },
  {
   "cell_type": "markdown",
   "id": "ac735bbe-a8f9-4942-80b5-cd6ef1c3915a",
   "metadata": {},
   "source": [
    "**Question: 12** Write a program that calculates the factorial of a number input by the user using a while loop.\n"
   ]
  },
  {
   "cell_type": "code",
   "execution_count": 32,
   "id": "3ea39394-2407-41d7-b14f-64b2762c1a6b",
   "metadata": {},
   "outputs": [
    {
     "name": "stdin",
     "output_type": "stream",
     "text": [
      "Enter Num: 5\n"
     ]
    },
    {
     "name": "stdout",
     "output_type": "stream",
     "text": [
      "Factorial of 5 is: 120\n"
     ]
    }
   ],
   "source": [
    "num = int(input('Enter Num:'))\n",
    "factorial = 1\n",
    "i = 1\n",
    "while i <=num:\n",
    "    factorial = factorial*i\n",
    "    i = i+1\n",
    "print(f'Factorial of {num} is: {factorial}')"
   ]
  },
  {
   "cell_type": "markdown",
   "id": "b30294ae-188a-436c-9351-13ed72787b66",
   "metadata": {},
   "source": [
    "**Question: 13** Write a program that calculates the sum of the digits of a number input by the user using a while loop.\n"
   ]
  },
  {
   "cell_type": "code",
   "execution_count": 36,
   "id": "93fdbd1a-3bb8-4d05-ae4e-b93ba03e9084",
   "metadata": {},
   "outputs": [
    {
     "name": "stdin",
     "output_type": "stream",
     "text": [
      "Enter num:  1234\n"
     ]
    },
    {
     "name": "stdout",
     "output_type": "stream",
     "text": [
      "Total sum: 10\n"
     ]
    }
   ],
   "source": [
    "num = int(input('Enter num: '))\n",
    "digit_sum = 0\n",
    "n = abs(num)      #takes number incase user enter negative number\n",
    "while n>0:\n",
    "    digit = n%10     #get the last digit\n",
    "    digit_sum = digit_sum + digit    #add it to the sum\n",
    "    n = n//10         #remove the last digit\n",
    "print(f'Total sum: {digit_sum}')\n",
    "    "
   ]
  },
  {
   "cell_type": "markdown",
   "id": "c22312ee-4fd4-45bc-99f6-e80ceeabff7d",
   "metadata": {},
   "source": [
    "**Question: 14** Write a program that checks if a number input by the user is a prime number using a for loop.\n"
   ]
  },
  {
   "cell_type": "code",
   "execution_count": null,
   "id": "cafdad31-2faf-4058-b631-df8d48efe16f",
   "metadata": {},
   "outputs": [],
   "source": [
    "num = int(input(\"Enter a number: \"))\n",
    "\n",
    "if num <= 1:\n",
    "    print(f\"{num} is not a prime number.\")\n",
    "else:\n",
    "    is_prime = True\n",
    "    for i in range(2, int(num**0.5) + 1):  # check up to square root of num\n",
    "        if num % i == 0:\n",
    "            is_prime = False\n",
    "            break\n",
    "\n",
    "    if is_prime:\n",
    "        print(f\"{num} is a prime number.\")\n",
    "    else:\n",
    "        print(f\"{num} is not a prime number.\")\n"
   ]
  },
  {
   "cell_type": "code",
   "execution_count": 40,
   "id": "4daaea29-179a-404d-9fee-f1d2c4960207",
   "metadata": {},
   "outputs": [
    {
     "name": "stdin",
     "output_type": "stream",
     "text": [
      "Enter num: 45\n"
     ]
    },
    {
     "name": "stdout",
     "output_type": "stream",
     "text": [
      "45 is not prime number\n"
     ]
    }
   ],
   "source": [
    "num = int(input('Enter num:'))\n",
    "if num<=1:\n",
    "    print(f'{num} is not a prime number!')\n",
    "else:\n",
    "    is_prime = True\n",
    "    for i in range(2,num):\n",
    "        if num%i==0:\n",
    "            is_prime = False\n",
    "            break\n",
    "\n",
    "    if is_prime:\n",
    "        print(f'{num} is prime.')\n",
    "    else:\n",
    "        print(f'{num} is not prime number')"
   ]
  },
  {
   "cell_type": "markdown",
   "id": "fffa1647-e902-438d-a513-86fc1fc44608",
   "metadata": {},
   "source": [
    "**Question: 15** Write a program that prints the first n Fibonacci numbers, where n is input by the user."
   ]
  },
  {
   "cell_type": "code",
   "execution_count": 41,
   "id": "0d273529-c44a-4d12-baf1-2b956750b2cb",
   "metadata": {},
   "outputs": [
    {
     "name": "stdin",
     "output_type": "stream",
     "text": [
      "Enter how many Fibonnaci numbers to print: 5\n"
     ]
    },
    {
     "name": "stdout",
     "output_type": "stream",
     "text": [
      "0 1 1 2 3 "
     ]
    }
   ],
   "source": [
    "n = int(input('Enter how many Fibonnaci numbers to print:'))\n",
    "a,b = 0,1       #first two fibonnaci number\n",
    "\n",
    "if n<=0:\n",
    "    print('Enter a positive number!')\n",
    "elif n == 1:\n",
    "    print(a)\n",
    "else:\n",
    "    print(a,b,end=\" \")\n",
    "    for _ in range(2,n):\n",
    "        c = a+b\n",
    "        print(c,end=\" \")\n",
    "        a,b = b,c        #update for next number"
   ]
  },
  {
   "cell_type": "code",
   "execution_count": null,
   "id": "fcfc33c0-2897-4748-bed8-e38245e019ab",
   "metadata": {},
   "outputs": [],
   "source": []
  }
 ],
 "metadata": {
  "kernelspec": {
   "display_name": "Python 3 (ipykernel)",
   "language": "python",
   "name": "python3"
  },
  "language_info": {
   "codemirror_mode": {
    "name": "ipython",
    "version": 3
   },
   "file_extension": ".py",
   "mimetype": "text/x-python",
   "name": "python",
   "nbconvert_exporter": "python",
   "pygments_lexer": "ipython3",
   "version": "3.13.5"
  }
 },
 "nbformat": 4,
 "nbformat_minor": 5
}
