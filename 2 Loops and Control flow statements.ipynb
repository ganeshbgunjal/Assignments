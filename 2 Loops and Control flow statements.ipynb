{
 "cells": [
  {
   "cell_type": "markdown",
   "id": "af20aae0-0623-4880-9212-25d5bd18e372",
   "metadata": {},
   "source": [
    "## Control Flow Assignments\n",
    "### 1. Conditional Statements"
   ]
  },
  {
   "cell_type": "markdown",
   "id": "5c47ea44-bd09-47a9-8d9b-54a8a3349203",
   "metadata": {},
   "source": [
    "**Question:-1** Write a program that asks the user to input a number and prints whether the number is positive.\n"
   ]
  },
  {
   "cell_type": "code",
   "execution_count": 3,
   "id": "f50c13bb-f17e-4904-b402-8b602cd7366d",
   "metadata": {},
   "outputs": [
    {
     "name": "stdin",
     "output_type": "stream",
     "text": [
      "Enter Number:  2\n"
     ]
    },
    {
     "name": "stdout",
     "output_type": "stream",
     "text": [
      "2 is positive\n"
     ]
    }
   ],
   "source": [
    "number = int(input('Enter Number: '))\n",
    "if number >0:\n",
    "    print(f'{number} is positive')"
   ]
  },
  {
   "cell_type": "markdown",
   "id": "d8a618bd-17a5-4f0b-a90d-b53e20f9b842",
   "metadata": {},
   "source": [
    "**Question: 2** Write a program that asks the user to input a number and prints whether the number is positive or negative.\n"
   ]
  },
  {
   "cell_type": "code",
   "execution_count": 4,
   "id": "ca39478c-c427-470b-8deb-a6f148690aca",
   "metadata": {},
   "outputs": [
    {
     "name": "stdin",
     "output_type": "stream",
     "text": [
      "Enter num: -1\n"
     ]
    },
    {
     "name": "stdout",
     "output_type": "stream",
     "text": [
      "-1 is negative\n"
     ]
    }
   ],
   "source": [
    "num = int(input('Enter num:'))\n",
    "if num >0:\n",
    "    print(f'{num} is Positive')\n",
    "else:\n",
    "    print(f'{num} is negative')"
   ]
  },
  {
   "cell_type": "markdown",
   "id": "51aeef2a-4679-4674-805b-45daf4b7330c",
   "metadata": {},
   "source": [
    "**Question:3** Write a program that asks the user to input a number and prints whether the number is positive, negative, or zero.\n"
   ]
  },
  {
   "cell_type": "code",
   "execution_count": 6,
   "id": "c272e9c5-7ca6-4e74-8ba7-867342500457",
   "metadata": {},
   "outputs": [
    {
     "name": "stdin",
     "output_type": "stream",
     "text": [
      "Enter a num: 0\n"
     ]
    },
    {
     "name": "stdout",
     "output_type": "stream",
     "text": [
      "You entered zero\n"
     ]
    }
   ],
   "source": [
    "num = int(input('Enter a num:'))\n",
    "if num>0:\n",
    "    print(f'{num} is positive')\n",
    "elif num<0:\n",
    "    print(f'{num} is negative')\n",
    "elif num==0:\n",
    "    print(f'You entered zero')\n",
    "else:\n",
    "    print('you entered something else')"
   ]
  },
  {
   "cell_type": "markdown",
   "id": "ad33ccfc-d009-445c-8698-586a4d8c2385",
   "metadata": {},
   "source": [
    "**Question:4** Write a program that asks the user to input a number and prints whether the number is positive and even, positive and odd, or negative.\n"
   ]
  },
  {
   "cell_type": "code",
   "execution_count": 12,
   "id": "fea10566-c79a-41a4-ba8b-6eacecab3083",
   "metadata": {},
   "outputs": [
    {
     "name": "stdin",
     "output_type": "stream",
     "text": [
      "Enter num: 3\n"
     ]
    },
    {
     "name": "stdout",
     "output_type": "stream",
     "text": [
      "Number is Positive and Odd\n"
     ]
    }
   ],
   "source": [
    "num = int(input('Enter num:'))\n",
    "if num > 0:\n",
    "    if num % 2 == 0:\n",
    "        print('Number is Positive and Even')\n",
    "    else:\n",
    "        print('Number is Positive and Odd')\n",
    "elif num < 0:\n",
    "    print('Number is negative')\n",
    "else:\n",
    "    print('You entered zero!')"
   ]
  },
  {
   "cell_type": "code",
   "execution_count": null,
   "id": "a1c5e216-0ca4-463e-b7c9-a7d88712be4c",
   "metadata": {},
   "outputs": [],
   "source": []
  }
 ],
 "metadata": {
  "kernelspec": {
   "display_name": "Python 3 (ipykernel)",
   "language": "python",
   "name": "python3"
  },
  "language_info": {
   "codemirror_mode": {
    "name": "ipython",
    "version": 3
   },
   "file_extension": ".py",
   "mimetype": "text/x-python",
   "name": "python",
   "nbconvert_exporter": "python",
   "pygments_lexer": "ipython3",
   "version": "3.13.5"
  }
 },
 "nbformat": 4,
 "nbformat_minor": 5
}
