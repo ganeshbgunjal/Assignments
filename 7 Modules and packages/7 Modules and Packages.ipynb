{
 "cells": [
  {
   "cell_type": "markdown",
   "id": "71402c83-359b-43c2-b905-5e49ee33f62d",
   "metadata": {},
   "source": [
    "## Modules and Packages Assignments\n"
   ]
  },
  {
   "cell_type": "markdown",
   "id": "1a0ceb17-6180-4ea9-a72a-0c5315a69776",
   "metadata": {},
   "source": [
    "### Assignment 1: Importing and Using Modules\n",
    "\n",
    "Import the `math` module and use it to calculate the square root of 25 and the sine of 90 degrees."
   ]
  },
  {
   "cell_type": "code",
   "execution_count": 1,
   "id": "60cccce2-47c4-4d1b-ab3b-93afedcefa3f",
   "metadata": {},
   "outputs": [],
   "source": [
    "import math"
   ]
  },
  {
   "cell_type": "code",
   "execution_count": 2,
   "id": "017a2a5a-c48f-4d79-9da9-a9f806a99ae1",
   "metadata": {},
   "outputs": [
    {
     "name": "stdin",
     "output_type": "stream",
     "text": [
      "Enter number to calculate square root:  25\n"
     ]
    },
    {
     "name": "stdout",
     "output_type": "stream",
     "text": [
      "Square root of 25: 5.0\n"
     ]
    }
   ],
   "source": [
    "num = int(input('Enter number to calculate square root: '))\n",
    "print(f'Square root of {num}: {math.sqrt(num)}')"
   ]
  },
  {
   "cell_type": "code",
   "execution_count": 3,
   "id": "f3c273c9-df4a-4843-ab7a-1c9398785e5c",
   "metadata": {},
   "outputs": [
    {
     "name": "stdout",
     "output_type": "stream",
     "text": [
      "Sine of 90 degree: 1.0\n"
     ]
    }
   ],
   "source": [
    "print(f\"Sine of 90 degree: {math.sin(math.radians(90))}\")\n"
   ]
  },
  {
   "cell_type": "markdown",
   "id": "5d7c0c5a-ce8a-41dd-8842-5a7622aafd9b",
   "metadata": {},
   "source": [
    "### Assignment 2: Aliasing Modules\n",
    "\n",
    "Import the `datetime` module with an alias and use it to print the current date and time."
   ]
  },
  {
   "cell_type": "code",
   "execution_count": 8,
   "id": "4f3ad2b0-010c-429f-8c46-1af5b2df038b",
   "metadata": {},
   "outputs": [
    {
     "name": "stdout",
     "output_type": "stream",
     "text": [
      "Current Date and Time: 2025-08-29 22:43:09.768153\n"
     ]
    }
   ],
   "source": [
    "import datetime as dt\n",
    "\n",
    "print(\"Current Date and Time:\", dt.datetime.now())\n"
   ]
  },
  {
   "cell_type": "markdown",
   "id": "0ba6ff98-87d1-4fcd-b152-f66591383548",
   "metadata": {},
   "source": [
    "### Assignment 3: Importing Specific Functions\n",
    "\n",
    "Import the `randint` function from the `random` module and use it to generate a random integer between 1 and 100."
   ]
  },
  {
   "cell_type": "code",
   "execution_count": 9,
   "id": "3d259da0-05f4-4cda-9ceb-b9edcd1a4c83",
   "metadata": {},
   "outputs": [
    {
     "name": "stdout",
     "output_type": "stream",
     "text": [
      "Random numbers from 1 to 100: 95\n"
     ]
    }
   ],
   "source": [
    "from random import randint\n",
    "random_num = randint(1,100)\n",
    "print(f'Random numbers from 1 to 100: {random_num}')"
   ]
  },
  {
   "cell_type": "markdown",
   "id": "f3d9ec0b-470b-4ead-9917-9976d8aaa9b8",
   "metadata": {},
   "source": [
    "### Assignment 4: Importing Multiple Functions\n",
    "\n",
    "Import the `sqrt` and `pow` functions from the `math` module and use them to calculate the square root of 16 and 2 raised to the power of 3."
   ]
  },
  {
   "cell_type": "code",
   "execution_count": 10,
   "id": "adc9d3bb-17d6-4c9e-9de4-3e6598e2f4f5",
   "metadata": {},
   "outputs": [
    {
     "name": "stdout",
     "output_type": "stream",
     "text": [
      "Square root of 16 is: 4.0\n",
      "2 raised to the power 3 is: 8.0\n"
     ]
    }
   ],
   "source": [
    "from math import sqrt, pow\n",
    "print(f'Square root of 16 is: {sqrt(16)}')\n",
    "print(f'2 raised to the power 3 is: {pow(2,3)}')"
   ]
  },
  {
   "cell_type": "markdown",
   "id": "ef3b63b4-8741-463c-8cb2-2f08cd9f6506",
   "metadata": {},
   "source": [
    "### Assignment 5: Handling Import Errors\n",
    "\n",
    "Write code that attempts to import a non-existent module and gracefully handles the import error by printing an error message."
   ]
  },
  {
   "cell_type": "code",
   "execution_count": 12,
   "id": "121c7b03-9aed-45c6-95c0-69aa4b552bc4",
   "metadata": {},
   "outputs": [
    {
     "name": "stdout",
     "output_type": "stream",
     "text": [
      "name 'non_existent_module' is not defined and could not be imported\n"
     ]
    }
   ],
   "source": [
    "try:\n",
    "    non_existent_module\n",
    "except Exception as e:\n",
    "    print(e, 'and could not be imported')"
   ]
  },
  {
   "cell_type": "markdown",
   "id": "01bb2525-e1b7-4cc3-8901-2e37c3bd0816",
   "metadata": {},
   "source": [
    "## Standard Library Overview"
   ]
  },
  {
   "cell_type": "markdown",
   "id": "159d371e-0f38-4b9e-9004-cc9f9034ec9c",
   "metadata": {},
   "source": [
    "### Assignment 6: Working with the `os` Module\n",
    "\n",
    "Use the `os` module to create a new directory, list the contents of the current directory, and remove the newly created directory."
   ]
  },
  {
   "cell_type": "code",
   "execution_count": 27,
   "id": "dde1c853-2109-4eaa-9767-2bd327080271",
   "metadata": {},
   "outputs": [
    {
     "name": "stdout",
     "output_type": "stream",
     "text": [
      "New directory: \"my_new_dir\"\" created!\n",
      "Contents of new directory:\n",
      "\n",
      "['.git', '.ipynb_checkpoints', '1 Python Basics.ipynb', '2 Loops and Control flow statements.ipynb', '3 Lists.ipynb', '4 Tuples.ipynb', '5 Sets.ipynb', '6 Dictionaries.ipynb', '7 Modules and Packages.ipynb', 'my_new_dir', 'README.MD']\n",
      "Newly created directory removed!\n"
     ]
    }
   ],
   "source": [
    "import os\n",
    "try:\n",
    "    new_directory = 'my_new_dir'\n",
    "    os.mkdir(new_directory)\n",
    "    print(f'New directory: \"{new_directory}\"\" created!')\n",
    "    \n",
    "    print('Contents of new directory:\\n')\n",
    "    print(os.listdir())\n",
    "\n",
    "    os.rmdir(new_directory)\n",
    "    print(f'Newly created directory removed!')\n",
    "\n",
    "except Exception as e:\n",
    "    print(e)\n",
    "\n",
    "#this directory is not present in your folder because it is deleted above code. \n",
    "    \n",
    "    "
   ]
  },
  {
   "cell_type": "markdown",
   "id": "ab3a9a45-6147-4b1a-bcdd-9ff5dc5d5ec6",
   "metadata": {},
   "source": [
    "### Assignment 7: Working with the `sys` Module\n",
    "\n",
    "Use the `sys` module to print the Python version currently in use and the command-line arguments passed to the script."
   ]
  },
  {
   "cell_type": "code",
   "execution_count": 31,
   "id": "a20e436a-19a2-4f43-bdfe-57cf381f428d",
   "metadata": {},
   "outputs": [
    {
     "name": "stdout",
     "output_type": "stream",
     "text": [
      "Python Version: 3.13.5 | packaged by Anaconda, Inc. | (main, Jun 12 2025, 16:37:03) [MSC v.1929 64 bit (AMD64)]\n",
      "Command line argument: ['C:\\\\Users\\\\Administrator\\\\anaconda3\\\\Lib\\\\site-packages\\\\ipykernel_launcher.py', '-f', 'C:\\\\Users\\\\Administrator\\\\AppData\\\\Roaming\\\\jupyter\\\\runtime\\\\kernel-c0cb2aa1-9dfe-4fe9-adb4-e8a11b7e4af9.json']\n"
     ]
    }
   ],
   "source": [
    "import sys\n",
    "\n",
    "#current python version: \n",
    "print(f'Python Version: {sys.version}')\n",
    "\n",
    "#command line arument: \n",
    "print(f'Command line argument: {sys.argv}')"
   ]
  },
  {
   "cell_type": "markdown",
   "id": "5f82fb20-3c7c-4a72-b76c-4ef3a4d566d3",
   "metadata": {},
   "source": [
    "### Assignment 8: Working with the `math` Module\n",
    "\n",
    "Use the `math` module to calculate the greatest common divisor (GCD) of two numbers and the factorial of a number."
   ]
  },
  {
   "cell_type": "code",
   "execution_count": 32,
   "id": "d354c57f-52cc-479a-ba3c-dc43c5cf0231",
   "metadata": {},
   "outputs": [
    {
     "name": "stdout",
     "output_type": "stream",
     "text": [
      "GCD of 18 and 48 is 6\n",
      "Factorial of 5 is 120\n"
     ]
    }
   ],
   "source": [
    "import math\n",
    "\n",
    "#calculate gcd of 2 numbers:\n",
    "num1 = 18\n",
    "num2 = 48\n",
    "\n",
    "gcd_val = math.gcd(num1,num2)\n",
    "print(f'GCD of {num1} and {num2} is {gcd_val}')\n",
    "\n",
    "#calculate factorial val: \n",
    "num = 5\n",
    "fact = math.factorial(num)\n",
    "print(f'Factorial of {num} is {fact}')"
   ]
  },
  {
   "cell_type": "markdown",
   "id": "6ef52fa2-75fc-41e3-af84-309604498570",
   "metadata": {},
   "source": [
    "### Assignment 9: Working with the `datetime` Module\n",
    "\n",
    "Use the `datetime` module to print the current date, calculate the date 100 days from today, and determine the day of the week for a given date."
   ]
  },
  {
   "cell_type": "code",
   "execution_count": 38,
   "id": "4e19ad77-1474-4000-b408-b6b7fec58ee4",
   "metadata": {},
   "outputs": [
    {
     "name": "stdout",
     "output_type": "stream",
     "text": [
      "Todays date is: 2025-08-29 23:26:32.986030\n",
      "Date after 100 days is: 2025-12-07 23:26:32.986030\n",
      "Day of the week for 2025-08-29: Friday\n"
     ]
    }
   ],
   "source": [
    "import datetime as dt\n",
    "\n",
    "today = dt.datetime.today()\n",
    "print(f'Todays date is: {today}')\n",
    "\n",
    "future_date = today + dt.timedelta(days=100)\n",
    "print(f'Date after 100 days is: {future_date}')\n",
    "\n",
    "# Day of the week for a given date\n",
    "given_date = dt.date(2025, 8, 29)   # you can change this date\n",
    "day_of_week = given_date.strftime(\"%A\")\n",
    "print(f\"Day of the week for {given_date}:\", day_of_week)"
   ]
  },
  {
   "cell_type": "markdown",
   "id": "d7c9f0b2-01dd-49d9-a6db-18a999a44ba2",
   "metadata": {},
   "source": [
    "### Assignment 10: Working with the `random` Module\n",
    "\n",
    "Use the `random` module to generate a list of 5 random numbers between 1 and 50 and shuffle the elements of a list."
   ]
  },
  {
   "cell_type": "code",
   "execution_count": 49,
   "id": "2535f1e7-5da5-4b5f-b035-5fc5594f0bf5",
   "metadata": {},
   "outputs": [
    {
     "name": "stdout",
     "output_type": "stream",
     "text": [
      "List of 5 random numbers between 1 and 50: [33, 46, 42, 24, 11]\n",
      "Shuffled list: [46, 11, 33, 42, 24]\n"
     ]
    }
   ],
   "source": [
    "import random\n",
    "random_numbers = [random.randint(1,50) for _ in range(5)]\n",
    "print(f'List of 5 random numbers between 1 and 50: {random_numbers}')\n",
    "\n",
    "random.shuffle(random_numbers)\n",
    "print(f'Shuffled list: {random_numbers}')"
   ]
  },
  {
   "cell_type": "markdown",
   "id": "d7ccb453-4766-4725-a927-b69ba5a19f1d",
   "metadata": {},
   "source": [
    "## Creating and Using Packages\n"
   ]
  },
  {
   "cell_type": "markdown",
   "id": "0501b234-0397-4499-bab5-b15edd8155e6",
   "metadata": {},
   "source": [
    "### Assignment 11: Creating a Simple Package\n",
    "\n",
    "Create a package named `mypackage` with two modules: `module1` and `module2`. `module1` should contain a function that adds two numbers, and `module2` should contain a function that multiplies two numbers. Write code to use these functions."
   ]
  },
  {
   "cell_type": "markdown",
   "id": "931cf3dd-a731-4db7-ad9b-06c82998ddf0",
   "metadata": {},
   "source": [
    "#### This assignment is solve in vscode \"mypackage folder\""
   ]
  },
  {
   "cell_type": "markdown",
   "id": "bafa0f01-4b1c-4445-aa0d-79bbf7452fd1",
   "metadata": {},
   "source": [
    "### Assignment 12: Using `__init__.py`\n",
    "\n",
    "Modify the `mypackage` package to include an `__init__.py` file that imports the functions from `module1` and `module2`. Write code to use these functions."
   ]
  },
  {
   "cell_type": "markdown",
   "id": "b5664a61-5992-416b-8d85-931db5279b51",
   "metadata": {},
   "source": [
    "#### This assignment question is also solved in vscode folder \"mypackage\""
   ]
  },
  {
   "cell_type": "markdown",
   "id": "fa818cad-614a-41e6-baa4-29ff6a3e54d2",
   "metadata": {},
   "source": [
    "### Assignment 13: Importing from a Package\n",
    "\n",
    "Write code to import and use the functions from `mypackage` without explicitly importing `module1` and `module2`."
   ]
  },
  {
   "cell_type": "markdown",
   "id": "aa5d9ee7-5404-4fad-b3e1-2e23e76dff79",
   "metadata": {},
   "source": [
    "#### This way you don’t need to import module1 or module2 explicitly, because \"__init__.py\" already handles it."
   ]
  },
  {
   "cell_type": "markdown",
   "id": "182e6193-4351-4599-9cff-82534dbfd9f3",
   "metadata": {},
   "source": [
    "### Assignment 14: Relative Imports\n",
    "\n",
    "Create a subpackage named `subpackage` within `mypackage` and move `module2` into `subpackage`. Modify the import statements in `__init__.py` to use relative imports. Write code to use the functions from both modules."
   ]
  },
  {
   "cell_type": "code",
   "execution_count": null,
   "id": "efc58f5c-a424-4096-9313-e3cd76c5b772",
   "metadata": {},
   "outputs": [],
   "source": []
  }
 ],
 "metadata": {
  "kernelspec": {
   "display_name": "Python 3 (ipykernel)",
   "language": "python",
   "name": "python3"
  },
  "language_info": {
   "codemirror_mode": {
    "name": "ipython",
    "version": 3
   },
   "file_extension": ".py",
   "mimetype": "text/x-python",
   "name": "python",
   "nbconvert_exporter": "python",
   "pygments_lexer": "ipython3",
   "version": "3.13.5"
  }
 },
 "nbformat": 4,
 "nbformat_minor": 5
}
