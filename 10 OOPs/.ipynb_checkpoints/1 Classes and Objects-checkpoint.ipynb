{
 "cells": [
  {
   "cell_type": "markdown",
   "id": "151ac466-6914-4e63-95c4-fe98b8281229",
   "metadata": {},
   "source": [
    "# Classes and Objects Assignments\n",
    "### Creating and Working with Classes and Objects"
   ]
  },
  {
   "cell_type": "markdown",
   "id": "ecb48cd9-9649-4bc3-9257-cd59c43d296b",
   "metadata": {},
   "source": [
    "### Assignment 1: Basic Class and Object Creation\n",
    "\n",
    "Create a class named `Car` with attributes `make`, `model`, and `year`. Create an object of the class and print its attributes."
   ]
  },
  {
   "cell_type": "code",
   "execution_count": 1,
   "id": "af52465e-2358-4140-a218-34dd0a3bcca5",
   "metadata": {},
   "outputs": [
    {
     "name": "stdout",
     "output_type": "stream",
     "text": [
      "Make: Toyota\n",
      "Model: Innova\n",
      "Year: 2025\n"
     ]
    }
   ],
   "source": [
    "class Car:\n",
    "    def __init__(self,make,model,year):\n",
    "        self.make = make\n",
    "        self.model = model\n",
    "        self.year = year\n",
    "\n",
    "my_car=Car('Toyota','Innova',2025)\n",
    "print(f'Make: {my_car.make}')\n",
    "print(f'Model: {my_car.model}')\n",
    "print(f'Year: {my_car.year}')"
   ]
  },
  {
   "cell_type": "markdown",
   "id": "2ecec822-db16-4e61-9d56-f3d2c9e84d04",
   "metadata": {},
   "source": [
    "### Assignment 2: Methods in Class\n",
    "\n",
    "Add a method named `start_engine` to the `Car` class that prints a message when the engine starts. Create an object of the class and call the method."
   ]
  },
  {
   "cell_type": "code",
   "execution_count": 2,
   "id": "6a1c75d7-fe18-424f-98c1-5563bfbd5dd1",
   "metadata": {},
   "outputs": [],
   "source": [
    "class Car:\n",
    "    def __init__(self,make,model,year):\n",
    "        self.make = make\n",
    "        self.model = model\n",
    "        self.year = year\n",
    "\n",
    "    def start_engine(self):\n",
    "        print(f'{self.model} engine has started')"
   ]
  },
  {
   "cell_type": "code",
   "execution_count": 3,
   "id": "affd5b5c-c756-47d6-a51d-d0eee90780dd",
   "metadata": {},
   "outputs": [
    {
     "name": "stdout",
     "output_type": "stream",
     "text": [
      "Creta engine has started\n"
     ]
    }
   ],
   "source": [
    "car = Car('Hyundai','Creta',2025)\n",
    "car.start_engine()"
   ]
  },
  {
   "cell_type": "markdown",
   "id": "93283bb1-e536-49e5-9399-15a4bece5cc8",
   "metadata": {},
   "source": [
    "### Assignment 3: Class with Constructor\n",
    "\n",
    "Create a class named `Student` with attributes `name` and `age`. Use a constructor to initialize these attributes. Create an object of the class and print its attributes."
   ]
  },
  {
   "cell_type": "code",
   "execution_count": 6,
   "id": "87818350-775c-471e-a97b-d414000da968",
   "metadata": {},
   "outputs": [
    {
     "name": "stdout",
     "output_type": "stream",
     "text": [
      "Name: Ganesh\n",
      "Age: 33\n"
     ]
    }
   ],
   "source": [
    "class Student:\n",
    "    def __init__(self,name,age):\n",
    "        self.name = name\n",
    "        self.age = age\n",
    "student = Student('Ganesh',33)\n",
    "print(f'Name: {student.name}')\n",
    "print(f'Age: {student.age}')"
   ]
  },
  {
   "cell_type": "code",
   "execution_count": null,
   "id": "11605d02-41f9-4cee-beba-b144db5ddc89",
   "metadata": {},
   "outputs": [],
   "source": []
  }
 ],
 "metadata": {
  "kernelspec": {
   "display_name": "Python 3 (ipykernel)",
   "language": "python",
   "name": "python3"
  },
  "language_info": {
   "codemirror_mode": {
    "name": "ipython",
    "version": 3
   },
   "file_extension": ".py",
   "mimetype": "text/x-python",
   "name": "python",
   "nbconvert_exporter": "python",
   "pygments_lexer": "ipython3",
   "version": "3.13.5"
  }
 },
 "nbformat": 4,
 "nbformat_minor": 5
}
