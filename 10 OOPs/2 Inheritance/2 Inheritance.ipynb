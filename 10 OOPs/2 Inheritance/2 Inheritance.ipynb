{
 "cells": [
  {
   "cell_type": "markdown",
   "id": "430557f3-35db-4552-b652-f7f14be56dd2",
   "metadata": {},
   "source": [
    "# Inheritance Assignments\n",
    "## Single and Multiple Inheritance"
   ]
  },
  {
   "cell_type": "markdown",
   "id": "c027e436-64fb-4acb-82be-30b9eae41bc5",
   "metadata": {},
   "source": [
    "### Assignment 1: Single Inheritance Basic\n",
    "\n",
    "Create a base class named `Animal` with attributes `name` and `species`. Create a derived class named `Dog` that inherits from `Animal` and adds an attribute `breed`. Create an object of the `Dog` class and print its attributes."
   ]
  },
  {
   "cell_type": "code",
   "execution_count": 1,
   "id": "c487d9ce-a720-4c42-b1be-7fadaf907b37",
   "metadata": {},
   "outputs": [
    {
     "name": "stdout",
     "output_type": "stream",
     "text": [
      "Name: Lyka\n",
      "Species: Dog\n",
      "Breed: German shephard\n"
     ]
    }
   ],
   "source": [
    "class Animal:\n",
    "    def __init__(self,name,species):\n",
    "        self.name = name\n",
    "        self.species = species\n",
    "\n",
    "class Dog(Animal):\n",
    "    def __init__(self,name,species,breed):\n",
    "        super().__init__(name,species)\n",
    "        self.breed = breed\n",
    "\n",
    "#create an object of dog:\n",
    "dog = Dog('Lyka','Dog','German shephard')\n",
    "\n",
    "#print attributes:\n",
    "print(f'Name: {dog.name}')\n",
    "print(f'Species: {dog.species}')\n",
    "print(f'Breed: {dog.breed}')"
   ]
  },
  {
   "cell_type": "markdown",
   "id": "6a6f88e9-923a-4aad-a3e5-1a48feb4dddf",
   "metadata": {},
   "source": [
    "### Assignment 2: Method Overriding in Single Inheritance\n",
    "\n",
    "In the `Dog` class, override the `__str__` method to return a string representation of the object. Create an object of the class and print it.\n"
   ]
  },
  {
   "cell_type": "code",
   "execution_count": 5,
   "id": "7c6bf8b3-71ed-4eea-94ed-be74baa081a3",
   "metadata": {},
   "outputs": [
    {
     "name": "stdout",
     "output_type": "stream",
     "text": [
      "Lyka is a German shephard Dog!\n"
     ]
    }
   ],
   "source": [
    "class Animal:\n",
    "    def __init__(self,name,species):\n",
    "        self.name = name\n",
    "        self.species = species\n",
    "\n",
    "class Dog(Animal):\n",
    "    def __init__(self,name,species,breed):\n",
    "        super().__init__(name,species)\n",
    "        self.breed = breed\n",
    "\n",
    "    def __str__(self):\n",
    "        return f'{self.name} is a {self.breed} Dog!'\n",
    "\n",
    "#create an object of dog:\n",
    "dog = Dog('Lyka','Dog','German shephard')\n",
    "\n",
    "#print __str__  attributes:\n",
    "print(dog)"
   ]
  },
  {
   "cell_type": "markdown",
   "id": "abf2ce06-e603-4bdf-90f8-ec1e3951bed4",
   "metadata": {},
   "source": [
    "### Assignment 3: Single Inheritance with Additional Methods\n",
    "\n",
    "In the `Dog` class, add a method named `bark` that prints a barking sound. Create an object of the class and call the method."
   ]
  },
  {
   "cell_type": "code",
   "execution_count": 7,
   "id": "387e13ec-1954-49e4-bd24-226337d095a1",
   "metadata": {},
   "outputs": [
    {
     "name": "stdout",
     "output_type": "stream",
     "text": [
      "Lyka is a German shephard Dog!\n",
      "Lyka barks like bho bho\n"
     ]
    }
   ],
   "source": [
    "class Animal:\n",
    "    def __init__(self,name,species):\n",
    "        self.name = name\n",
    "        self.species = species\n",
    "\n",
    "class Dog(Animal):\n",
    "    def __init__(self,name,species,breed):\n",
    "        super().__init__(name,species)\n",
    "        self.breed = breed\n",
    "\n",
    "    def __str__(self):\n",
    "        return f'{self.name} is a {self.breed} Dog!'\n",
    "\n",
    "    def bark(self):\n",
    "        return f'{self.name} barks like bho bho'\n",
    "\n",
    "#create an object of dog:\n",
    "dog = Dog('Lyka','Dog','German shephard')\n",
    "\n",
    "#print __str__  attributes:\n",
    "print(dog)\n",
    "print(dog.bark())"
   ]
  },
  {
   "cell_type": "markdown",
   "id": "089a07b0-9675-4a99-9821-cd761fcea221",
   "metadata": {},
   "source": [
    "### Assignment 4: Multiple Inheritance Basic\n",
    "\n",
    "Create a base class named `Walker` with a method `walk` that prints a walking message. Create another base class named `Runner` with a method `run` that prints a running message. Create a derived class named `Athlete` that inherits from both `Walker` and `Runner`. Create an object of the `Athlete` class and call both methods."
   ]
  },
  {
   "cell_type": "code",
   "execution_count": null,
   "id": "924d140d-96b3-4ab6-9bd6-061b469abf8d",
   "metadata": {},
   "outputs": [],
   "source": []
  }
 ],
 "metadata": {
  "kernelspec": {
   "display_name": "Python 3 (ipykernel)",
   "language": "python",
   "name": "python3"
  },
  "language_info": {
   "codemirror_mode": {
    "name": "ipython",
    "version": 3
   },
   "file_extension": ".py",
   "mimetype": "text/x-python",
   "name": "python",
   "nbconvert_exporter": "python",
   "pygments_lexer": "ipython3",
   "version": "3.13.5"
  }
 },
 "nbformat": 4,
 "nbformat_minor": 5
}
