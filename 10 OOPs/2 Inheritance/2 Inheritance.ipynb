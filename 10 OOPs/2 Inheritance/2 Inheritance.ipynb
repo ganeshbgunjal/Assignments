{
 "cells": [
  {
   "cell_type": "markdown",
   "id": "430557f3-35db-4552-b652-f7f14be56dd2",
   "metadata": {},
   "source": [
    "# Inheritance Assignments\n",
    "## Single and Multiple Inheritance"
   ]
  },
  {
   "cell_type": "markdown",
   "id": "c027e436-64fb-4acb-82be-30b9eae41bc5",
   "metadata": {},
   "source": [
    "### Assignment 1: Single Inheritance Basic\n",
    "\n",
    "Create a base class named `Animal` with attributes `name` and `species`. Create a derived class named `Dog` that inherits from `Animal` and adds an attribute `breed`. Create an object of the `Dog` class and print its attributes."
   ]
  },
  {
   "cell_type": "code",
   "execution_count": 1,
   "id": "c487d9ce-a720-4c42-b1be-7fadaf907b37",
   "metadata": {},
   "outputs": [
    {
     "name": "stdout",
     "output_type": "stream",
     "text": [
      "Name: Lyka\n",
      "Species: Dog\n",
      "Breed: German shephard\n"
     ]
    }
   ],
   "source": [
    "class Animal:\n",
    "    def __init__(self,name,species):\n",
    "        self.name = name\n",
    "        self.species = species\n",
    "\n",
    "class Dog(Animal):\n",
    "    def __init__(self,name,species,breed):\n",
    "        super().__init__(name,species)\n",
    "        self.breed = breed\n",
    "\n",
    "#create an object of dog:\n",
    "dog = Dog('Lyka','Dog','German shephard')\n",
    "\n",
    "#print attributes:\n",
    "print(f'Name: {dog.name}')\n",
    "print(f'Species: {dog.species}')\n",
    "print(f'Breed: {dog.breed}')"
   ]
  },
  {
   "cell_type": "code",
   "execution_count": null,
   "id": "7818aea6-10d6-40f7-880e-b88f2a1e1aa9",
   "metadata": {},
   "outputs": [],
   "source": []
  }
 ],
 "metadata": {
  "kernelspec": {
   "display_name": "Python 3 (ipykernel)",
   "language": "python",
   "name": "python3"
  },
  "language_info": {
   "codemirror_mode": {
    "name": "ipython",
    "version": 3
   },
   "file_extension": ".py",
   "mimetype": "text/x-python",
   "name": "python",
   "nbconvert_exporter": "python",
   "pygments_lexer": "ipython3",
   "version": "3.13.5"
  }
 },
 "nbformat": 4,
 "nbformat_minor": 5
}
