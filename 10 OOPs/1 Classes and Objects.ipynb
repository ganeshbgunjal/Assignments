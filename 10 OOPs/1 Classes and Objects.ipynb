{
 "cells": [
  {
   "cell_type": "markdown",
   "id": "151ac466-6914-4e63-95c4-fe98b8281229",
   "metadata": {},
   "source": [
    "# Classes and Objects Assignments\n",
    "### Creating and Working with Classes and Objects"
   ]
  },
  {
   "cell_type": "markdown",
   "id": "ecb48cd9-9649-4bc3-9257-cd59c43d296b",
   "metadata": {},
   "source": [
    "### Assignment 1: Basic Class and Object Creation\n",
    "\n",
    "Create a class named `Car` with attributes `make`, `model`, and `year`. Create an object of the class and print its attributes."
   ]
  },
  {
   "cell_type": "code",
   "execution_count": 1,
   "id": "af52465e-2358-4140-a218-34dd0a3bcca5",
   "metadata": {},
   "outputs": [
    {
     "name": "stdout",
     "output_type": "stream",
     "text": [
      "Make: Toyota\n",
      "Model: Innova\n",
      "Year: 2025\n"
     ]
    }
   ],
   "source": [
    "class Car:\n",
    "    def __init__(self,make,model,year):\n",
    "        self.make = make\n",
    "        self.model = model\n",
    "        self.year = year\n",
    "\n",
    "my_car=Car('Toyota','Innova',2025)\n",
    "print(f'Make: {my_car.make}')\n",
    "print(f'Model: {my_car.model}')\n",
    "print(f'Year: {my_car.year}')"
   ]
  },
  {
   "cell_type": "markdown",
   "id": "2ecec822-db16-4e61-9d56-f3d2c9e84d04",
   "metadata": {},
   "source": [
    "### Assignment 2: Methods in Class\n",
    "\n",
    "Add a method named `start_engine` to the `Car` class that prints a message when the engine starts. Create an object of the class and call the method."
   ]
  },
  {
   "cell_type": "code",
   "execution_count": 2,
   "id": "6a1c75d7-fe18-424f-98c1-5563bfbd5dd1",
   "metadata": {},
   "outputs": [],
   "source": [
    "class Car:\n",
    "    def __init__(self,make,model,year):\n",
    "        self.make = make\n",
    "        self.model = model\n",
    "        self.year = year\n",
    "\n",
    "    def start_engine(self):\n",
    "        print(f'{self.model} engine has started')"
   ]
  },
  {
   "cell_type": "code",
   "execution_count": 3,
   "id": "affd5b5c-c756-47d6-a51d-d0eee90780dd",
   "metadata": {},
   "outputs": [
    {
     "name": "stdout",
     "output_type": "stream",
     "text": [
      "Creta engine has started\n"
     ]
    }
   ],
   "source": [
    "car = Car('Hyundai','Creta',2025)\n",
    "car.start_engine()"
   ]
  },
  {
   "cell_type": "markdown",
   "id": "93283bb1-e536-49e5-9399-15a4bece5cc8",
   "metadata": {},
   "source": [
    "### Assignment 3: Class with Constructor\n",
    "\n",
    "Create a class named `Student` with attributes `name` and `age`. Use a constructor to initialize these attributes. Create an object of the class and print its attributes."
   ]
  },
  {
   "cell_type": "code",
   "execution_count": 6,
   "id": "87818350-775c-471e-a97b-d414000da968",
   "metadata": {},
   "outputs": [
    {
     "name": "stdout",
     "output_type": "stream",
     "text": [
      "Name: Ganesh\n",
      "Age: 33\n"
     ]
    }
   ],
   "source": [
    "class Student:\n",
    "    def __init__(self,name,age):\n",
    "        self.name = name\n",
    "        self.age = age\n",
    "student = Student('Ganesh',33)\n",
    "print(f'Name: {student.name}')\n",
    "print(f'Age: {student.age}')"
   ]
  },
  {
   "cell_type": "markdown",
   "id": "6dbf3df3-8bc0-4bfc-bf6e-3aba2e643794",
   "metadata": {},
   "source": [
    "### Assignment 4: Class with Private Attributes\n",
    "\n",
    "Create a class named `BankAccount` with private attributes `account_number` and `balance`. Add methods to deposit and withdraw money, and to check the balance. Create an object of the class and perform some operations."
   ]
  },
  {
   "cell_type": "code",
   "execution_count": 14,
   "id": "155df0ad-cfb8-466f-905a-0c8b76643b80",
   "metadata": {},
   "outputs": [],
   "source": [
    "class BankAccount:\n",
    "    def __init__(self,account_number,balance=0):\n",
    "        self.account_number = account_number\n",
    "        self.balance = balance\n",
    "\n",
    "    def deposit(self,amount):\n",
    "        if amount >0:\n",
    "            self.balance += amount\n",
    "            print(f'Amount {amount} Rupees deposited!')\n",
    "        else:\n",
    "            print('Amount cant be negative! ')\n",
    "\n",
    "    def withdraw(self,amount):\n",
    "        if 0 <amount <=self.balance:\n",
    "            self.balance-=amount\n",
    "            print(f'Amount {amount} Rupees withdrawn!')\n",
    "        else:\n",
    "            print(f'You have insufficient funds in your account!')\n",
    "\n",
    "    def check_balance(self):\n",
    "        print(f'Your account balance is: {self.balance} Rupees.')\n",
    "\n",
    "    \n",
    "        "
   ]
  },
  {
   "cell_type": "code",
   "execution_count": 17,
   "id": "8564384f-4541-407f-af60-9eabaa0d0869",
   "metadata": {},
   "outputs": [
    {
     "name": "stdout",
     "output_type": "stream",
     "text": [
      "Your account balance is: 500 Rupees.\n",
      "Amount 1000 Rupees deposited!\n",
      "Your account balance is: 1500 Rupees.\n",
      "Amount 300 Rupees withdrawn!\n",
      "Your account balance is: 1200 Rupees.\n"
     ]
    }
   ],
   "source": [
    "bankaccount = BankAccount(1234,500)\n",
    "bankaccount.check_balance()\n",
    "bankaccount.deposit(1000)\n",
    "bankaccount.check_balance()\n",
    "bankaccount.withdraw(300)\n",
    "bankaccount.check_balance()"
   ]
  },
  {
   "cell_type": "markdown",
   "id": "8fa4ed36-d2f7-469a-9b11-c23fce9e9511",
   "metadata": {},
   "source": [
    "### Assignment 5: Class Inheritance\n",
    "\n",
    "Create a base class named `Person` with attributes `name` and `age`. Create a derived class named `Employee` that inherits from `Person` and adds an attribute `employee_id`. Create an object of the derived class and print its attributes."
   ]
  },
  {
   "cell_type": "code",
   "execution_count": 18,
   "id": "1f71e7fd-649d-487f-90fb-87a8753bbca2",
   "metadata": {},
   "outputs": [
    {
     "name": "stdout",
     "output_type": "stream",
     "text": [
      "Name: Ganesh, Age: 33, Id: 2345\n"
     ]
    }
   ],
   "source": [
    "class Person:\n",
    "    def __init__(self,name,age):\n",
    "        self.name = name\n",
    "        self.age = age\n",
    "\n",
    "class Employee(Person):\n",
    "    def __init__(self,name,age,emp_id):\n",
    "        super().__init__(name,age)\n",
    "        self.emp_id = emp_id\n",
    "\n",
    "emp = Employee('Ganesh',33,2345)\n",
    "print(f'Name: {emp.name}, Age: {emp.age}, Id: {emp.emp_id}')"
   ]
  },
  {
   "cell_type": "markdown",
   "id": "49bde700-d192-4bcd-8e62-9818a44761ac",
   "metadata": {},
   "source": [
    "### Assignment 6: Method Overriding\n",
    "\n",
    "In the `Employee` class, override the `__str__` method to return a string representation of the object. Create an object of the class and print it."
   ]
  },
  {
   "cell_type": "code",
   "execution_count": 19,
   "id": "755b2454-82f8-40f0-b7dc-ad31112d6beb",
   "metadata": {},
   "outputs": [
    {
     "name": "stdout",
     "output_type": "stream",
     "text": [
      "Name: Ganesh, Age: 33, Employee Id: 4455\n"
     ]
    }
   ],
   "source": [
    "class Employee(Person):\n",
    "    def __init__(self,name,age,emp_id):\n",
    "        super().__init__(name,age)\n",
    "        self.emp_id = emp_id\n",
    "\n",
    "    def __str__(self):\n",
    "        return f'Name: {self.name}, Age: {self.age}, Employee Id: {self.emp_id}'\n",
    "emp1 = Employee('Ganesh',33,4455)\n",
    "print(emp1)"
   ]
  },
  {
   "cell_type": "code",
   "execution_count": null,
   "id": "59d37aa0-2442-4f47-aaad-241bfc1ca4fe",
   "metadata": {},
   "outputs": [],
   "source": []
  }
 ],
 "metadata": {
  "kernelspec": {
   "display_name": "Python 3 (ipykernel)",
   "language": "python",
   "name": "python3"
  },
  "language_info": {
   "codemirror_mode": {
    "name": "ipython",
    "version": 3
   },
   "file_extension": ".py",
   "mimetype": "text/x-python",
   "name": "python",
   "nbconvert_exporter": "python",
   "pygments_lexer": "ipython3",
   "version": "3.13.5"
  }
 },
 "nbformat": 4,
 "nbformat_minor": 5
}
