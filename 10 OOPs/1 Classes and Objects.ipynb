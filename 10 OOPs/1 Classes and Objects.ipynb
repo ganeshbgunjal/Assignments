{
 "cells": [
  {
   "cell_type": "markdown",
   "id": "151ac466-6914-4e63-95c4-fe98b8281229",
   "metadata": {},
   "source": [
    "# Classes and Objects Assignments\n",
    "### Creating and Working with Classes and Objects"
   ]
  },
  {
   "cell_type": "markdown",
   "id": "ecb48cd9-9649-4bc3-9257-cd59c43d296b",
   "metadata": {},
   "source": [
    "### Assignment 1: Basic Class and Object Creation\n",
    "\n",
    "Create a class named `Car` with attributes `make`, `model`, and `year`. Create an object of the class and print its attributes."
   ]
  },
  {
   "cell_type": "code",
   "execution_count": 1,
   "id": "af52465e-2358-4140-a218-34dd0a3bcca5",
   "metadata": {},
   "outputs": [
    {
     "name": "stdout",
     "output_type": "stream",
     "text": [
      "Make: Toyota\n",
      "Model: Innova\n",
      "Year: 2025\n"
     ]
    }
   ],
   "source": [
    "class Car:\n",
    "    def __init__(self,make,model,year):\n",
    "        self.make = make\n",
    "        self.model = model\n",
    "        self.year = year\n",
    "\n",
    "my_car=Car('Toyota','Innova',2025)\n",
    "print(f'Make: {my_car.make}')\n",
    "print(f'Model: {my_car.model}')\n",
    "print(f'Year: {my_car.year}')"
   ]
  },
  {
   "cell_type": "markdown",
   "id": "2ecec822-db16-4e61-9d56-f3d2c9e84d04",
   "metadata": {},
   "source": [
    "### Assignment 2: Methods in Class\n",
    "\n",
    "Add a method named `start_engine` to the `Car` class that prints a message when the engine starts. Create an object of the class and call the method."
   ]
  },
  {
   "cell_type": "code",
   "execution_count": 2,
   "id": "6a1c75d7-fe18-424f-98c1-5563bfbd5dd1",
   "metadata": {},
   "outputs": [],
   "source": [
    "class Car:\n",
    "    def __init__(self,make,model,year):\n",
    "        self.make = make\n",
    "        self.model = model\n",
    "        self.year = year\n",
    "\n",
    "    def start_engine(self):\n",
    "        print(f'{self.model} engine has started')"
   ]
  },
  {
   "cell_type": "code",
   "execution_count": 3,
   "id": "affd5b5c-c756-47d6-a51d-d0eee90780dd",
   "metadata": {},
   "outputs": [
    {
     "name": "stdout",
     "output_type": "stream",
     "text": [
      "Creta engine has started\n"
     ]
    }
   ],
   "source": [
    "car = Car('Hyundai','Creta',2025)\n",
    "car.start_engine()"
   ]
  },
  {
   "cell_type": "markdown",
   "id": "93283bb1-e536-49e5-9399-15a4bece5cc8",
   "metadata": {},
   "source": [
    "### Assignment 3: Class with Constructor\n",
    "\n",
    "Create a class named `Student` with attributes `name` and `age`. Use a constructor to initialize these attributes. Create an object of the class and print its attributes."
   ]
  },
  {
   "cell_type": "code",
   "execution_count": 6,
   "id": "87818350-775c-471e-a97b-d414000da968",
   "metadata": {},
   "outputs": [
    {
     "name": "stdout",
     "output_type": "stream",
     "text": [
      "Name: Ganesh\n",
      "Age: 33\n"
     ]
    }
   ],
   "source": [
    "class Student:\n",
    "    def __init__(self,name,age):\n",
    "        self.name = name\n",
    "        self.age = age\n",
    "student = Student('Ganesh',33)\n",
    "print(f'Name: {student.name}')\n",
    "print(f'Age: {student.age}')"
   ]
  },
  {
   "cell_type": "markdown",
   "id": "6dbf3df3-8bc0-4bfc-bf6e-3aba2e643794",
   "metadata": {},
   "source": [
    "### Assignment 4: Class with Private Attributes\n",
    "\n",
    "Create a class named `BankAccount` with private attributes `account_number` and `balance`. Add methods to deposit and withdraw money, and to check the balance. Create an object of the class and perform some operations."
   ]
  },
  {
   "cell_type": "code",
   "execution_count": 14,
   "id": "155df0ad-cfb8-466f-905a-0c8b76643b80",
   "metadata": {},
   "outputs": [],
   "source": [
    "class BankAccount:\n",
    "    def __init__(self,account_number,balance=0):\n",
    "        self.account_number = account_number\n",
    "        self.balance = balance\n",
    "\n",
    "    def deposit(self,amount):\n",
    "        if amount >0:\n",
    "            self.balance += amount\n",
    "            print(f'Amount {amount} Rupees deposited!')\n",
    "        else:\n",
    "            print('Amount cant be negative! ')\n",
    "\n",
    "    def withdraw(self,amount):\n",
    "        if 0 <amount <=self.balance:\n",
    "            self.balance-=amount\n",
    "            print(f'Amount {amount} Rupees withdrawn!')\n",
    "        else:\n",
    "            print(f'You have insufficient funds in your account!')\n",
    "\n",
    "    def check_balance(self):\n",
    "        print(f'Your account balance is: {self.balance} Rupees.')\n",
    "\n",
    "    \n",
    "        "
   ]
  },
  {
   "cell_type": "code",
   "execution_count": 17,
   "id": "8564384f-4541-407f-af60-9eabaa0d0869",
   "metadata": {},
   "outputs": [
    {
     "name": "stdout",
     "output_type": "stream",
     "text": [
      "Your account balance is: 500 Rupees.\n",
      "Amount 1000 Rupees deposited!\n",
      "Your account balance is: 1500 Rupees.\n",
      "Amount 300 Rupees withdrawn!\n",
      "Your account balance is: 1200 Rupees.\n"
     ]
    }
   ],
   "source": [
    "bankaccount = BankAccount(1234,500)\n",
    "bankaccount.check_balance()\n",
    "bankaccount.deposit(1000)\n",
    "bankaccount.check_balance()\n",
    "bankaccount.withdraw(300)\n",
    "bankaccount.check_balance()"
   ]
  },
  {
   "cell_type": "markdown",
   "id": "8fa4ed36-d2f7-469a-9b11-c23fce9e9511",
   "metadata": {},
   "source": [
    "### Assignment 5: Class Inheritance\n",
    "\n",
    "Create a base class named `Person` with attributes `name` and `age`. Create a derived class named `Employee` that inherits from `Person` and adds an attribute `employee_id`. Create an object of the derived class and print its attributes."
   ]
  },
  {
   "cell_type": "code",
   "execution_count": 18,
   "id": "1f71e7fd-649d-487f-90fb-87a8753bbca2",
   "metadata": {},
   "outputs": [
    {
     "name": "stdout",
     "output_type": "stream",
     "text": [
      "Name: Ganesh, Age: 33, Id: 2345\n"
     ]
    }
   ],
   "source": [
    "class Person:\n",
    "    def __init__(self,name,age):\n",
    "        self.name = name\n",
    "        self.age = age\n",
    "\n",
    "class Employee(Person):\n",
    "    def __init__(self,name,age,emp_id):\n",
    "        super().__init__(name,age)\n",
    "        self.emp_id = emp_id\n",
    "\n",
    "emp = Employee('Ganesh',33,2345)\n",
    "print(f'Name: {emp.name}, Age: {emp.age}, Id: {emp.emp_id}')"
   ]
  },
  {
   "cell_type": "markdown",
   "id": "49bde700-d192-4bcd-8e62-9818a44761ac",
   "metadata": {},
   "source": [
    "### Assignment 6: Method Overriding\n",
    "\n",
    "In the `Employee` class, override the `__str__` method to return a string representation of the object. Create an object of the class and print it."
   ]
  },
  {
   "cell_type": "code",
   "execution_count": 19,
   "id": "755b2454-82f8-40f0-b7dc-ad31112d6beb",
   "metadata": {},
   "outputs": [
    {
     "name": "stdout",
     "output_type": "stream",
     "text": [
      "Name: Ganesh, Age: 33, Employee Id: 4455\n"
     ]
    }
   ],
   "source": [
    "class Employee(Person):\n",
    "    def __init__(self,name,age,emp_id):\n",
    "        super().__init__(name,age)\n",
    "        self.emp_id = emp_id\n",
    "\n",
    "    def __str__(self):\n",
    "        return f'Name: {self.name}, Age: {self.age}, Employee Id: {self.emp_id}'\n",
    "emp1 = Employee('Ganesh',33,4455)\n",
    "print(emp1)"
   ]
  },
  {
   "cell_type": "markdown",
   "id": "ea50fbe8-980c-4d7e-8e54-e79483d7d503",
   "metadata": {},
   "source": [
    "### Assignment 7: Class Composition\n",
    "\n",
    "Create a class named `Address` with attributes `street`, `city`, and `zipcode`. Create a class named `Person` that has an `Address` object as an attribute. Create an object of the `Person` class and print its address."
   ]
  },
  {
   "cell_type": "code",
   "execution_count": 22,
   "id": "a83cf92d-1d4c-4708-9802-126daacd4926",
   "metadata": {},
   "outputs": [
    {
     "name": "stdout",
     "output_type": "stream",
     "text": [
      "Ganesh, 123 main, nashik, 456321\n"
     ]
    }
   ],
   "source": [
    "class Adress:\n",
    "    def __init__(self,street,city,zipcode):\n",
    "        self.street = street\n",
    "        self.city = city\n",
    "        self.zipcode = zipcode\n",
    "\n",
    "class Person:\n",
    "    def __init__(self,name,age,adress):\n",
    "        self.name = name\n",
    "        self.age = age\n",
    "        self.adress = adress\n",
    "\n",
    "adress = Adress('123 main','nashik',456321)\n",
    "person = Person('Ganesh',33,adress)\n",
    "\n",
    "print(f'{person.name}, {person.adress.street}, {person.adress.city}, {person.adress.zipcode}')"
   ]
  },
  {
   "cell_type": "markdown",
   "id": "c35335a4-9289-4441-b43b-c9b0ec10004a",
   "metadata": {},
   "source": [
    "### Assignment 8: Class with Class Variables\n",
    "\n",
    "Create a class named `Counter` with a class variable `count`. Each time an object is created, increment the count. Add a method to get the current count. Create multiple objects and print the count."
   ]
  },
  {
   "cell_type": "code",
   "execution_count": 27,
   "id": "54c45030-a475-4c46-a106-a0bde44c3e1b",
   "metadata": {},
   "outputs": [
    {
     "name": "stdout",
     "output_type": "stream",
     "text": [
      "Total Count:6\n",
      "Total Count:9\n"
     ]
    }
   ],
   "source": [
    "class Counter:\n",
    "    count = 0\n",
    "    def __init__(self):\n",
    "        Counter.count+=1\n",
    "\n",
    "    @classmethod\n",
    "    def get_count(cls):\n",
    "        return cls.count\n",
    "\n",
    "c1 = Counter()\n",
    "c2 = Counter()\n",
    "c3 = Counter()\n",
    "c4 = Counter()\n",
    "c5 = Counter()\n",
    "c6 = Counter()\n",
    "\n",
    "print(f'Total Count:{Counter.get_count()}')\n",
    "\n",
    "c7 = Counter()\n",
    "c8 = Counter()\n",
    "c9 = Counter()\n",
    "print(f'Total Count:{Counter.get_count()}')\n"
   ]
  },
  {
   "cell_type": "markdown",
   "id": "1bc49116-bebe-46b4-9400-915a127d1f8d",
   "metadata": {},
   "source": [
    "### Assignment 9: Static Methods\n",
    "\n",
    "Create a class named `MathOperations` with a static method to calculate the square root of a number. Call the static method without creating an object."
   ]
  },
  {
   "cell_type": "code",
   "execution_count": 28,
   "id": "d20792d2-aed6-4b37-969e-74c556390ccf",
   "metadata": {},
   "outputs": [
    {
     "name": "stdout",
     "output_type": "stream",
     "text": [
      "3.7416573867739413\n",
      "5.0\n"
     ]
    }
   ],
   "source": [
    "import math\n",
    "\n",
    "class MathOperation:\n",
    "    @staticmethod\n",
    "    def sqrt(x):\n",
    "        return math.sqrt(x)\n",
    "\n",
    "print(math.sqrt(14))\n",
    "print(math.sqrt(25))\n"
   ]
  },
  {
   "cell_type": "markdown",
   "id": "5b5af7ac-5aab-4e96-b5a3-d490a91818f0",
   "metadata": {},
   "source": [
    "### Assignment 10: Class with Properties\n",
    "\n",
    "Create a class named `Rectangle` with private attributes `length` and `width`. Use properties to get and set these attributes. Create an object of the class and test the properties."
   ]
  },
  {
   "cell_type": "code",
   "execution_count": 35,
   "id": "5180c422-3a52-467d-b91f-672adce68a32",
   "metadata": {},
   "outputs": [],
   "source": [
    "class Rectangle:\n",
    "    def __init__(self,lenth,width):\n",
    "        self.__length = lenth\n",
    "        self.__width = width\n",
    "\n",
    "    @property\n",
    "    def length(self):\n",
    "        return self.__length\n",
    "\n",
    "    @length.setter\n",
    "    def length(self,length):\n",
    "        self.__length =length\n",
    "\n",
    "    @property\n",
    "    def width(self):\n",
    "        return self.__width\n",
    "\n",
    "    @width.setter\n",
    "    def width(self,width):\n",
    "        self.__width=width"
   ]
  },
  {
   "cell_type": "code",
   "execution_count": 36,
   "id": "997e0bd6-136d-4bc1-be2a-282275943a69",
   "metadata": {},
   "outputs": [
    {
     "name": "stdout",
     "output_type": "stream",
     "text": [
      "10 5\n",
      "15 7\n"
     ]
    }
   ],
   "source": [
    "rect = Rectangle(10, 5)\n",
    "print(rect.length, rect.width)  # 10 5\n",
    "rect.length = 15\n",
    "rect.width = 7\n",
    "print(rect.length, rect.width)  # 15 7"
   ]
  },
  {
   "cell_type": "markdown",
   "id": "028fd226-7519-487b-9a5d-80f46b2ee200",
   "metadata": {},
   "source": [
    "### Assignment 11: Abstract Base Class\n",
    "\n",
    "Create an abstract base class named `Shape` with an abstract method `area`. Create derived classes `Circle` and `Square` that implement the `area` method. Create objects of the derived classes and call the `area` method."
   ]
  },
  {
   "cell_type": "code",
   "execution_count": 37,
   "id": "6d24a361-7a55-4ebb-90d9-c39b0ffa9502",
   "metadata": {},
   "outputs": [],
   "source": [
    "from abc import ABC, abstractmethod\n",
    "\n",
    "class Shape(ABC):\n",
    "    @abstractmethod\n",
    "    def area(self):\n",
    "        pass\n",
    "\n",
    "class Circle(Shape):\n",
    "    def __init__(self, radius):\n",
    "        self.radius = radius\n",
    "\n",
    "    def area(self):\n",
    "        return math.pi * self.radius ** 2\n",
    "\n",
    "class Square(Shape):\n",
    "    def __init__(self, side):\n",
    "        self.side = side\n",
    "\n",
    "    def area(self):\n",
    "        return self.side ** 2"
   ]
  },
  {
   "cell_type": "code",
   "execution_count": 38,
   "id": "38d5a8b8-f58a-45c1-8fe6-d1d1af9d2f0e",
   "metadata": {},
   "outputs": [
    {
     "name": "stdout",
     "output_type": "stream",
     "text": [
      "78.53981633974483\n",
      "16\n"
     ]
    }
   ],
   "source": [
    "circle = Circle(5)\n",
    "square = Square(4)\n",
    "print(circle.area())  # 78.53981633974483\n",
    "print(square.area())  # 16"
   ]
  },
  {
   "cell_type": "markdown",
   "id": "d28c52a1-3a54-43e7-bccd-e9195e2e242f",
   "metadata": {},
   "source": [
    "### Assignment 12: Operator Overloading\n",
    "\n",
    "Create a class named `Vector` with attributes `x` and `y`. Overload the `+` operator to add two `Vector` objects. Create objects of the class and test the operator overloading."
   ]
  },
  {
   "cell_type": "code",
   "execution_count": 39,
   "id": "6268c795-28fd-4e43-b567-114b42bdf059",
   "metadata": {},
   "outputs": [
    {
     "name": "stdout",
     "output_type": "stream",
     "text": [
      "Vector(6, 8)\n"
     ]
    }
   ],
   "source": [
    "class Vector:\n",
    "    def __init__(self, x, y):\n",
    "        self.x = x\n",
    "        self.y = y\n",
    "\n",
    "    def __add__(self, other):\n",
    "        return Vector(self.x + other.x, self.y + other.y)\n",
    "\n",
    "    def __str__(self):\n",
    "        return f\"Vector({self.x}, {self.y})\"\n",
    "\n",
    "# Test\n",
    "v1 = Vector(2, 3)\n",
    "v2 = Vector(4, 5)\n",
    "v3 = v1 + v2\n",
    "print(v3)  # Vector(6, 8)"
   ]
  },
  {
   "cell_type": "markdown",
   "id": "29043ea5-ed2b-48d4-98ad-ffab3ac05522",
   "metadata": {},
   "source": [
    "### Assignment 13: Class with Custom Exception\n",
    "\n",
    "Create a custom exception named `InsufficientBalanceError`. In the `BankAccount` class, raise this exception when a withdrawal amount is greater than the balance. Handle the exception and print an appropriate message."
   ]
  },
  {
   "cell_type": "code",
   "execution_count": 40,
   "id": "57b732e1-c0c6-4e73-b04d-422d89391c9f",
   "metadata": {},
   "outputs": [
    {
     "name": "stdout",
     "output_type": "stream",
     "text": [
      "Error: Insufficient balance!\n"
     ]
    }
   ],
   "source": [
    "class InsufficientBalanceError(Exception):\n",
    "    pass\n",
    "\n",
    "class BankAccount:\n",
    "    def __init__(self, account_number, balance=0):\n",
    "        self.__account_number = account_number\n",
    "        self.__balance = balance\n",
    "\n",
    "    def deposit(self, amount):\n",
    "        self.__balance += amount\n",
    "\n",
    "    def withdraw(self, amount):\n",
    "        if amount > self.__balance:\n",
    "            raise InsufficientBalanceError(\"Insufficient balance!\")\n",
    "        else:\n",
    "            self.__balance -= amount\n",
    "\n",
    "    def check_balance(self):\n",
    "        return self.__balance\n",
    "\n",
    "# Test\n",
    "account = BankAccount('12345678', 1000)\n",
    "account.deposit(500)\n",
    "try:\n",
    "    account.withdraw(2000)\n",
    "except InsufficientBalanceError as e:\n",
    "    print(f\"Error: {e}\")"
   ]
  },
  {
   "cell_type": "markdown",
   "id": "6af6a674-2aea-41c9-96ee-8d724e130a9a",
   "metadata": {},
   "source": [
    "### Assignment 14: Class with Context Manager\n",
    "\n",
    "Create a class named `FileManager` that implements the context manager protocol to open and close a file. Use this class to read the contents of a file."
   ]
  },
  {
   "cell_type": "code",
   "execution_count": 43,
   "id": "c1524ad2-0633-478f-ad8b-4073527e6187",
   "metadata": {},
   "outputs": [
    {
     "name": "stdout",
     "output_type": "stream",
     "text": [
      "Hello, this is a test file.\n",
      "We are practicing exception handling in Python.\n",
      "This file will be read using try, except, and finally.\n",
      "\n"
     ]
    }
   ],
   "source": [
    "class FileManager:\n",
    "    def __init__(self, filename, mode):\n",
    "        self.filename = filename\n",
    "        self.mode = mode\n",
    "\n",
    "    def __enter__(self):\n",
    "        self.file = open(self.filename, self.mode)\n",
    "        return self.file\n",
    "\n",
    "    def __exit__(self, exc_type, exc_value, traceback):\n",
    "        self.file.close()\n",
    "\n",
    "# Test\n",
    "with FileManager('sample.txt', 'r') as file:\n",
    "    content = file.read()\n",
    "    print(content)"
   ]
  },
  {
   "cell_type": "markdown",
   "id": "cd64f084-9ad1-4674-9bae-d3bff91bddfc",
   "metadata": {},
   "source": [
    "### Assignment 15: Chaining Methods\n",
    "\n",
    "Create a class named `Calculator` with methods to add, subtract, multiply, and divide. Each method should return the object itself to allow method chaining. Create an object and chain multiple method calls."
   ]
  },
  {
   "cell_type": "code",
   "execution_count": 44,
   "id": "aec937fc-b2ef-4853-b22f-86f7b7d6ab9e",
   "metadata": {},
   "outputs": [
    {
     "name": "stdout",
     "output_type": "stream",
     "text": [
      "7.0\n"
     ]
    }
   ],
   "source": [
    "class Calculator:\n",
    "    def __init__(self, value=0):\n",
    "        self.value = value\n",
    "\n",
    "    def add(self, amount):\n",
    "        self.value += amount\n",
    "        return self\n",
    "\n",
    "    def subtract(self, amount):\n",
    "        self.value -= amount\n",
    "        return self\n",
    "\n",
    "    def multiply(self, amount):\n",
    "        self.value *= amount\n",
    "        return self\n",
    "\n",
    "    def divide(self, amount):\n",
    "        if amount != 0:\n",
    "            self.value /= amount\n",
    "        else:\n",
    "            print(\"Cannot divide by zero!\")\n",
    "        return self\n",
    "\n",
    "# Test\n",
    "calc = Calculator()\n",
    "calc.add(10).subtract(3).multiply(2).divide(2)\n",
    "print(calc.value)  # 7.0"
   ]
  },
  {
   "cell_type": "code",
   "execution_count": null,
   "id": "6b357290-6c93-4d4d-a7b8-2fd16a7944bc",
   "metadata": {},
   "outputs": [],
   "source": []
  }
 ],
 "metadata": {
  "kernelspec": {
   "display_name": "Python 3 (ipykernel)",
   "language": "python",
   "name": "python3"
  },
  "language_info": {
   "codemirror_mode": {
    "name": "ipython",
    "version": 3
   },
   "file_extension": ".py",
   "mimetype": "text/x-python",
   "name": "python",
   "nbconvert_exporter": "python",
   "pygments_lexer": "ipython3",
   "version": "3.13.5"
  }
 },
 "nbformat": 4,
 "nbformat_minor": 5
}
