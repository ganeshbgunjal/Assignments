{
 "cells": [
  {
   "cell_type": "markdown",
   "id": "71402c83-359b-43c2-b905-5e49ee33f62d",
   "metadata": {},
   "source": [
    "## Modules and Packages Assignments\n"
   ]
  },
  {
   "cell_type": "markdown",
   "id": "1a0ceb17-6180-4ea9-a72a-0c5315a69776",
   "metadata": {},
   "source": [
    "### Assignment 1: Importing and Using Modules\n",
    "\n",
    "Import the `math` module and use it to calculate the square root of 25 and the sine of 90 degrees."
   ]
  },
  {
   "cell_type": "code",
   "execution_count": 1,
   "id": "60cccce2-47c4-4d1b-ab3b-93afedcefa3f",
   "metadata": {},
   "outputs": [],
   "source": [
    "import math"
   ]
  },
  {
   "cell_type": "code",
   "execution_count": 2,
   "id": "017a2a5a-c48f-4d79-9da9-a9f806a99ae1",
   "metadata": {},
   "outputs": [
    {
     "name": "stdin",
     "output_type": "stream",
     "text": [
      "Enter number to calculate square root:  25\n"
     ]
    },
    {
     "name": "stdout",
     "output_type": "stream",
     "text": [
      "Square root of 25: 5.0\n"
     ]
    }
   ],
   "source": [
    "num = int(input('Enter number to calculate square root: '))\n",
    "print(f'Square root of {num}: {math.sqrt(num)}')"
   ]
  },
  {
   "cell_type": "code",
   "execution_count": 3,
   "id": "f3c273c9-df4a-4843-ab7a-1c9398785e5c",
   "metadata": {},
   "outputs": [
    {
     "name": "stdout",
     "output_type": "stream",
     "text": [
      "Sine of 90 degree: 1.0\n"
     ]
    }
   ],
   "source": [
    "print(f\"Sine of 90 degree: {math.sin(math.radians(90))}\")\n"
   ]
  },
  {
   "cell_type": "markdown",
   "id": "5d7c0c5a-ce8a-41dd-8842-5a7622aafd9b",
   "metadata": {},
   "source": [
    "### Assignment 2: Aliasing Modules\n",
    "\n",
    "Import the `datetime` module with an alias and use it to print the current date and time."
   ]
  },
  {
   "cell_type": "code",
   "execution_count": 8,
   "id": "4f3ad2b0-010c-429f-8c46-1af5b2df038b",
   "metadata": {},
   "outputs": [
    {
     "name": "stdout",
     "output_type": "stream",
     "text": [
      "Current Date and Time: 2025-08-29 22:43:09.768153\n"
     ]
    }
   ],
   "source": [
    "import datetime as dt\n",
    "\n",
    "print(\"Current Date and Time:\", dt.datetime.now())\n"
   ]
  },
  {
   "cell_type": "markdown",
   "id": "0ba6ff98-87d1-4fcd-b152-f66591383548",
   "metadata": {},
   "source": [
    "### Assignment 3: Importing Specific Functions\n",
    "\n",
    "Import the `randint` function from the `random` module and use it to generate a random integer between 1 and 100."
   ]
  },
  {
   "cell_type": "code",
   "execution_count": 9,
   "id": "3d259da0-05f4-4cda-9ceb-b9edcd1a4c83",
   "metadata": {},
   "outputs": [
    {
     "name": "stdout",
     "output_type": "stream",
     "text": [
      "Random numbers from 1 to 100: 95\n"
     ]
    }
   ],
   "source": [
    "from random import randint\n",
    "random_num = randint(1,100)\n",
    "print(f'Random numbers from 1 to 100: {random_num}')"
   ]
  },
  {
   "cell_type": "markdown",
   "id": "f3d9ec0b-470b-4ead-9917-9976d8aaa9b8",
   "metadata": {},
   "source": [
    "### Assignment 4: Importing Multiple Functions\n",
    "\n",
    "Import the `sqrt` and `pow` functions from the `math` module and use them to calculate the square root of 16 and 2 raised to the power of 3."
   ]
  },
  {
   "cell_type": "code",
   "execution_count": 10,
   "id": "adc9d3bb-17d6-4c9e-9de4-3e6598e2f4f5",
   "metadata": {},
   "outputs": [
    {
     "name": "stdout",
     "output_type": "stream",
     "text": [
      "Square root of 16 is: 4.0\n",
      "2 raised to the power 3 is: 8.0\n"
     ]
    }
   ],
   "source": [
    "from math import sqrt, pow\n",
    "print(f'Square root of 16 is: {sqrt(16)}')\n",
    "print(f'2 raised to the power 3 is: {pow(2,3)}')"
   ]
  },
  {
   "cell_type": "code",
   "execution_count": null,
   "id": "47fd8505-29ae-46f2-bd14-2968142082c2",
   "metadata": {},
   "outputs": [],
   "source": []
  }
 ],
 "metadata": {
  "kernelspec": {
   "display_name": "Python 3 (ipykernel)",
   "language": "python",
   "name": "python3"
  },
  "language_info": {
   "codemirror_mode": {
    "name": "ipython",
    "version": 3
   },
   "file_extension": ".py",
   "mimetype": "text/x-python",
   "name": "python",
   "nbconvert_exporter": "python",
   "pygments_lexer": "ipython3",
   "version": "3.13.5"
  }
 },
 "nbformat": 4,
 "nbformat_minor": 5
}
