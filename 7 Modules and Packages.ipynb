{
 "cells": [
  {
   "cell_type": "markdown",
   "id": "71402c83-359b-43c2-b905-5e49ee33f62d",
   "metadata": {},
   "source": [
    "## Modules and Packages Assignments\n"
   ]
  },
  {
   "cell_type": "markdown",
   "id": "1a0ceb17-6180-4ea9-a72a-0c5315a69776",
   "metadata": {},
   "source": [
    "### Assignment 1: Importing and Using Modules\n",
    "\n",
    "Import the `math` module and use it to calculate the square root of 25 and the sine of 90 degrees."
   ]
  },
  {
   "cell_type": "code",
   "execution_count": 1,
   "id": "60cccce2-47c4-4d1b-ab3b-93afedcefa3f",
   "metadata": {},
   "outputs": [],
   "source": [
    "import math"
   ]
  },
  {
   "cell_type": "code",
   "execution_count": 2,
   "id": "017a2a5a-c48f-4d79-9da9-a9f806a99ae1",
   "metadata": {},
   "outputs": [
    {
     "name": "stdin",
     "output_type": "stream",
     "text": [
      "Enter number to calculate square root:  25\n"
     ]
    },
    {
     "name": "stdout",
     "output_type": "stream",
     "text": [
      "Square root of 25: 5.0\n"
     ]
    }
   ],
   "source": [
    "num = int(input('Enter number to calculate square root: '))\n",
    "print(f'Square root of {num}: {math.sqrt(num)}')"
   ]
  },
  {
   "cell_type": "code",
   "execution_count": 3,
   "id": "f3c273c9-df4a-4843-ab7a-1c9398785e5c",
   "metadata": {},
   "outputs": [
    {
     "name": "stdout",
     "output_type": "stream",
     "text": [
      "Sine of 90 degree: 1.0\n"
     ]
    }
   ],
   "source": [
    "print(f\"Sine of 90 degree: {math.sin(math.radians(90))}\")\n"
   ]
  },
  {
   "cell_type": "markdown",
   "id": "5d7c0c5a-ce8a-41dd-8842-5a7622aafd9b",
   "metadata": {},
   "source": [
    "### Assignment 2: Aliasing Modules\n",
    "\n",
    "Import the `datetime` module with an alias and use it to print the current date and time."
   ]
  },
  {
   "cell_type": "code",
   "execution_count": 8,
   "id": "4f3ad2b0-010c-429f-8c46-1af5b2df038b",
   "metadata": {},
   "outputs": [
    {
     "name": "stdout",
     "output_type": "stream",
     "text": [
      "Current Date and Time: 2025-08-29 22:43:09.768153\n"
     ]
    }
   ],
   "source": [
    "import datetime as dt\n",
    "\n",
    "print(\"Current Date and Time:\", dt.datetime.now())\n"
   ]
  },
  {
   "cell_type": "markdown",
   "id": "0ba6ff98-87d1-4fcd-b152-f66591383548",
   "metadata": {},
   "source": [
    "### Assignment 3: Importing Specific Functions\n",
    "\n",
    "Import the `randint` function from the `random` module and use it to generate a random integer between 1 and 100."
   ]
  },
  {
   "cell_type": "code",
   "execution_count": 9,
   "id": "3d259da0-05f4-4cda-9ceb-b9edcd1a4c83",
   "metadata": {},
   "outputs": [
    {
     "name": "stdout",
     "output_type": "stream",
     "text": [
      "Random numbers from 1 to 100: 95\n"
     ]
    }
   ],
   "source": [
    "from random import randint\n",
    "random_num = randint(1,100)\n",
    "print(f'Random numbers from 1 to 100: {random_num}')"
   ]
  },
  {
   "cell_type": "markdown",
   "id": "f3d9ec0b-470b-4ead-9917-9976d8aaa9b8",
   "metadata": {},
   "source": [
    "### Assignment 4: Importing Multiple Functions\n",
    "\n",
    "Import the `sqrt` and `pow` functions from the `math` module and use them to calculate the square root of 16 and 2 raised to the power of 3."
   ]
  },
  {
   "cell_type": "code",
   "execution_count": 10,
   "id": "adc9d3bb-17d6-4c9e-9de4-3e6598e2f4f5",
   "metadata": {},
   "outputs": [
    {
     "name": "stdout",
     "output_type": "stream",
     "text": [
      "Square root of 16 is: 4.0\n",
      "2 raised to the power 3 is: 8.0\n"
     ]
    }
   ],
   "source": [
    "from math import sqrt, pow\n",
    "print(f'Square root of 16 is: {sqrt(16)}')\n",
    "print(f'2 raised to the power 3 is: {pow(2,3)}')"
   ]
  },
  {
   "cell_type": "markdown",
   "id": "ef3b63b4-8741-463c-8cb2-2f08cd9f6506",
   "metadata": {},
   "source": [
    "### Assignment 5: Handling Import Errors\n",
    "\n",
    "Write code that attempts to import a non-existent module and gracefully handles the import error by printing an error message."
   ]
  },
  {
   "cell_type": "code",
   "execution_count": 12,
   "id": "121c7b03-9aed-45c6-95c0-69aa4b552bc4",
   "metadata": {},
   "outputs": [
    {
     "name": "stdout",
     "output_type": "stream",
     "text": [
      "name 'non_existent_module' is not defined and could not be imported\n"
     ]
    }
   ],
   "source": [
    "try:\n",
    "    non_existent_module\n",
    "except Exception as e:\n",
    "    print(e, 'and could not be imported')"
   ]
  },
  {
   "cell_type": "markdown",
   "id": "01bb2525-e1b7-4cc3-8901-2e37c3bd0816",
   "metadata": {},
   "source": [
    "## Standard Library Overview"
   ]
  },
  {
   "cell_type": "markdown",
   "id": "159d371e-0f38-4b9e-9004-cc9f9034ec9c",
   "metadata": {},
   "source": [
    "### Assignment 6: Working with the `os` Module\n",
    "\n",
    "Use the `os` module to create a new directory, list the contents of the current directory, and remove the newly created directory."
   ]
  },
  {
   "cell_type": "code",
   "execution_count": 26,
   "id": "dde1c853-2109-4eaa-9767-2bd327080271",
   "metadata": {},
   "outputs": [
    {
     "name": "stdout",
     "output_type": "stream",
     "text": [
      "New directory: \"my_new_dir\"\" created!\n",
      "Contents of new directory:\n",
      "\n",
      "['.git', '.ipynb_checkpoints', '1 Python Basics.ipynb', '2 Loops and Control flow statements.ipynb', '3 Lists.ipynb', '4 Tuples.ipynb', '5 Sets.ipynb', '6 Dictionaries.ipynb', '7 Modules and Packages.ipynb', 'my_new_dir', 'README.MD']\n",
      "Newly created directory removed!\n"
     ]
    }
   ],
   "source": [
    "import os\n",
    "try:\n",
    "    new_directory = 'my_new_dir'\n",
    "    os.mkdir(new_directory)\n",
    "    print(f'New directory: \"{new_directory}\"\" created!')\n",
    "    \n",
    "    print('Contents of new directory:\\n')\n",
    "    print(os.listdir())\n",
    "\n",
    "    os.rmdir(new_directory)\n",
    "    print(f'Newly created directory removed!')\n",
    "\n",
    "except Exception as e:\n",
    "    print(e)\n",
    "    \n",
    "    "
   ]
  },
  {
   "cell_type": "code",
   "execution_count": null,
   "id": "42fdaf9c-fead-4014-a211-0df02f68c463",
   "metadata": {},
   "outputs": [],
   "source": []
  }
 ],
 "metadata": {
  "kernelspec": {
   "display_name": "Python 3 (ipykernel)",
   "language": "python",
   "name": "python3"
  },
  "language_info": {
   "codemirror_mode": {
    "name": "ipython",
    "version": 3
   },
   "file_extension": ".py",
   "mimetype": "text/x-python",
   "name": "python",
   "nbconvert_exporter": "python",
   "pygments_lexer": "ipython3",
   "version": "3.13.5"
  }
 },
 "nbformat": 4,
 "nbformat_minor": 5
}
