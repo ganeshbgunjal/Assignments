{
 "cells": [
  {
   "cell_type": "markdown",
   "id": "1c52193b-a70f-41f7-83a1-c62bd0646253",
   "metadata": {},
   "source": [
    "## Python Basics:"
   ]
  },
  {
   "cell_type": "markdown",
   "id": "8ec5e1f8-b09e-47aa-a844-5ff1550d4daa",
   "metadata": {},
   "source": [
    "## 1. Syntax and Semantics\n",
    "\n",
    "**Question 1:** Write a Python program to print \"Hello, World!\"."
   ]
  },
  {
   "cell_type": "code",
   "execution_count": 1,
   "id": "767b8a65-3e24-4c6e-84de-55f02958e3ae",
   "metadata": {},
   "outputs": [
    {
     "name": "stdout",
     "output_type": "stream",
     "text": [
      "Hello, World!\n"
     ]
    }
   ],
   "source": [
    "print('Hello, World!')"
   ]
  },
  {
   "cell_type": "markdown",
   "id": "6e3e6a6c-429a-4f71-9781-7af4ab076106",
   "metadata": {},
   "source": [
    "**Question 2:** Write a Python program that takes a user input and prints it."
   ]
  },
  {
   "cell_type": "code",
   "execution_count": 3,
   "id": "b42cc3e4-0b75-4dfe-9554-696c39f6ae33",
   "metadata": {},
   "outputs": [
    {
     "name": "stdin",
     "output_type": "stream",
     "text": [
      "Enter Number of your choice:  01\n"
     ]
    },
    {
     "name": "stdout",
     "output_type": "stream",
     "text": [
      "Number: 1\n"
     ]
    }
   ],
   "source": [
    "number = int(input('Enter Number of your choice: '))\n",
    "print(f'Number: {number}')"
   ]
  },
  {
   "cell_type": "markdown",
   "id": "ddf5ebe6-9970-43ee-8918-e9b730f459ae",
   "metadata": {},
   "source": [
    "**Question 3:** Write a Python program to check if a number is positive, negative, or zero."
   ]
  },
  {
   "cell_type": "code",
   "execution_count": 10,
   "id": "2f1675bd-c5ea-4ba2-9acf-3103f6c95e5d",
   "metadata": {},
   "outputs": [
    {
     "name": "stdin",
     "output_type": "stream",
     "text": [
      "Enter number:  -1\n"
     ]
    },
    {
     "name": "stdout",
     "output_type": "stream",
     "text": [
      "-1 is negative\n"
     ]
    }
   ],
   "source": [
    "number = int(input('Enter number: '))\n",
    "if number>0:\n",
    "    print(f'{number} is positive ')\n",
    "elif number ==0:\n",
    "    print(f'You entered {number}')\n",
    "elif number <0:\n",
    "    print(f'{number} is negative')\n",
    "else:\n",
    "    print('You entered something else!')"
   ]
  },
  {
   "cell_type": "markdown",
   "id": "87861832-0ab0-4c90-898d-8b25eb1749b9",
   "metadata": {},
   "source": [
    "#### Another Approach:"
   ]
  },
  {
   "cell_type": "code",
   "execution_count": 11,
   "id": "92488442-7d74-40f7-a162-b4f87188e2db",
   "metadata": {},
   "outputs": [
    {
     "name": "stdin",
     "output_type": "stream",
     "text": [
      "Enter number:  f\n"
     ]
    },
    {
     "name": "stdout",
     "output_type": "stream",
     "text": [
      "You entered non zero input!\n"
     ]
    }
   ],
   "source": [
    "user_input = input('Enter number: ')\n",
    "if user_input.lstrip('-').isdigit():  #checks if number is integer..\n",
    "    number = int(user_input)\n",
    "    if number>0:\n",
    "        print(f'{number} is positive ')\n",
    "    elif number ==0:\n",
    "        print(f'You entered {number}')\n",
    "    else:\n",
    "        print(f'{number} is negative')\n",
    "else:\n",
    "    print('You entered non zero input!')"
   ]
  },
  {
   "cell_type": "markdown",
   "id": "fc09e0ea-4a6a-462e-bbc9-4fee6371fccc",
   "metadata": {},
   "source": [
    "**Question 4:** Write a Python program to find the largest of three numbers."
   ]
  },
  {
   "cell_type": "code",
   "execution_count": 13,
   "id": "ed0e30fe-c757-4cd1-b723-5772e0d68300",
   "metadata": {},
   "outputs": [
    {
     "name": "stdin",
     "output_type": "stream",
     "text": [
      "Ente num1: 1\n",
      "Ente num2: 2\n",
      "Ente num3: 3\n"
     ]
    },
    {
     "name": "stdout",
     "output_type": "stream",
     "text": [
      "Largest number amongst three numbers is 3\n"
     ]
    }
   ],
   "source": [
    "num1 = int(input('Enter num1:'))\n",
    "num2 = int(input('Enter num2:'))\n",
    "num3 = int(input('Enter num3:'))\n",
    "\n",
    "if num1>num2 and num1>num3:\n",
    "    largest = num1\n",
    "elif num2>num1 and num2>num3:\n",
    "    largest = num2\n",
    "else:\n",
    "    largest = num3\n",
    "print(f'Largest number amongst three numbers is {largest}')"
   ]
  },
  {
   "cell_type": "markdown",
   "id": "b312b630-b0a1-48d5-9b31-3a535c4154ce",
   "metadata": {},
   "source": [
    "**Question 5:** Write a Python program to calculate the factorial of a number."
   ]
  },
  {
   "cell_type": "code",
   "execution_count": 20,
   "id": "b16d9510-d55b-4588-9a2c-37ebf777d1a0",
   "metadata": {},
   "outputs": [
    {
     "name": "stdin",
     "output_type": "stream",
     "text": [
      "Enter number: 0\n"
     ]
    },
    {
     "name": "stdout",
     "output_type": "stream",
     "text": [
      "Factorial of zero is one!\n",
      "----------------------------------------------------------\n"
     ]
    },
    {
     "name": "stdin",
     "output_type": "stream",
     "text": [
      "Enter number: -1\n"
     ]
    },
    {
     "name": "stdout",
     "output_type": "stream",
     "text": [
      "Factorial does not exist for negative number!\n",
      "----------------------------------------------------------\n"
     ]
    },
    {
     "name": "stdin",
     "output_type": "stream",
     "text": [
      "Enter number: 5\n"
     ]
    },
    {
     "name": "stdout",
     "output_type": "stream",
     "text": [
      "Factorial of 5 is 120\n"
     ]
    }
   ],
   "source": [
    "num = int(input('Enter number:'))\n",
    "if num <0:\n",
    "    print(f'Factorial does not exist for negative number!')\n",
    "elif num==0:\n",
    "    print(f'Factorial of zero is one!')\n",
    "else:\n",
    "    fact = 1\n",
    "    for i in range(1, num+1):\n",
    "        fact = fact*i\n",
    "    print(f'Factorial of {num} is {fact}')\n",
    "print('----------------------------------------------------------')\n",
    "num = int(input('Enter number:'))\n",
    "if num <0:\n",
    "    print(f'Factorial does not exist for negative number!')\n",
    "elif num==0:\n",
    "    print(f'Factorial of zero is one!')\n",
    "else:\n",
    "    fact = 1\n",
    "    for i in range(1, num+1):\n",
    "        fact = fact*i\n",
    "    print(f'Factorial of {num} is {fact}')\n",
    "print('----------------------------------------------------------')\n",
    "num = int(input('Enter number:'))\n",
    "if num <0:\n",
    "    print(f'Factorial does not exist for negative number!')\n",
    "elif num==0:\n",
    "    print(f'Factorial of zero is one!')\n",
    "else:\n",
    "    fact = 1\n",
    "    for i in range(1, num+1):\n",
    "        fact = fact*i\n",
    "    print(f'Factorial of {num} is {fact}')"
   ]
  },
  {
   "cell_type": "markdown",
   "id": "9575681f-105e-4d61-a6cc-15cd3a2e4727",
   "metadata": {},
   "source": [
    "## 2. Variables and Data Types\n",
    "\n",
    "**Question 6:** Create variables of different data types: integer, float, string, and boolean. Print their values and types."
   ]
  },
  {
   "cell_type": "code",
   "execution_count": 23,
   "id": "4dc3358c-fbf1-49fd-adef-d2f035c2f683",
   "metadata": {},
   "outputs": [
    {
     "name": "stdin",
     "output_type": "stream",
     "text": [
      "Enter name:  ganesh\n",
      "Enter age:  33\n",
      "Enter height:  5.10\n"
     ]
    },
    {
     "name": "stdout",
     "output_type": "stream",
     "text": [
      "ganesh\n",
      "<class 'str'>\n",
      "33\n",
      "<class 'int'>\n",
      "5.1\n",
      "<class 'float'>\n",
      "True\n",
      "<class 'bool'>\n"
     ]
    }
   ],
   "source": [
    "name = input('Enter name: ')\n",
    "age = int(input('Enter age: '))\n",
    "height = float(input('Enter height: '))\n",
    "male = True\n",
    "print(name)\n",
    "print(type(name))\n",
    "print(age)\n",
    "print(type(age))\n",
    "print(height)\n",
    "print(type(height))\n",
    "print(male)\n",
    "print(type(male))"
   ]
  },
  {
   "cell_type": "markdown",
   "id": "7bd6d00d-4e69-419f-b364-f0d5a80776e0",
   "metadata": {},
   "source": [
    "**Question 7:** Write a Python program to swap the values of two variables."
   ]
  },
  {
   "cell_type": "code",
   "execution_count": 25,
   "id": "17d293ba-04ec-4a28-9040-a1b886d4f55c",
   "metadata": {},
   "outputs": [
    {
     "name": "stdin",
     "output_type": "stream",
     "text": [
      "Enter num1: 3\n",
      "Enter num2: 4\n"
     ]
    },
    {
     "name": "stdout",
     "output_type": "stream",
     "text": [
      "After swapping numbers,values are num1: 4 and num2: 3\n"
     ]
    }
   ],
   "source": [
    "num1 = int(input('Enter num1:'))\n",
    "num2 = int(input('Enter num2:'))\n",
    "\n",
    "temp = num1\n",
    "num1 = num2\n",
    "num2 = temp\n",
    "print(f'After swapping numbers,values are num1: {num1} and num2: {num2}')"
   ]
  },
  {
   "cell_type": "markdown",
   "id": "4b66277e-965c-4409-8c47-8981a9809581",
   "metadata": {},
   "source": [
    "**Question 8:** Write a Python program to convert Celsius to Fahrenheit."
   ]
  },
  {
   "cell_type": "code",
   "execution_count": 28,
   "id": "d7c93807-64a1-4d68-8fc1-9dafb229a7f0",
   "metadata": {},
   "outputs": [
    {
     "name": "stdin",
     "output_type": "stream",
     "text": [
      "Enter value in celcius: 37.2\n"
     ]
    },
    {
     "name": "stdout",
     "output_type": "stream",
     "text": [
      "Fahrenheit of 37.2°C is 98.96°F\n"
     ]
    }
   ],
   "source": [
    "cel = float(input('Enter value in celcius:'))\n",
    "fahrenheit = cel* (9/5) +32\n",
    "print(f'Fahrenheit of {cel}°C is {fahrenheit:.2f}°F')"
   ]
  },
  {
   "cell_type": "markdown",
   "id": "986bb95a-e681-49cb-bbad-1d5d9147d726",
   "metadata": {},
   "source": [
    "**Question 9:** Write a Python program to concatenate two strings."
   ]
  },
  {
   "cell_type": "code",
   "execution_count": 30,
   "id": "28cb9bd6-abc3-4293-b410-85c08db4296c",
   "metadata": {},
   "outputs": [
    {
     "name": "stdin",
     "output_type": "stream",
     "text": [
      "Enter string1:  Hello\n",
      "Enter string2:  World!\n"
     ]
    },
    {
     "name": "stdout",
     "output_type": "stream",
     "text": [
      "String after concatenation: Hello World!\n"
     ]
    }
   ],
   "source": [
    "str1 = input('Enter string1: ')\n",
    "str2 = input('Enter string2: ')\n",
    "\n",
    "concatenated_string = str1 +' '+ str2\n",
    "print(f'String after concatenation: {concatenated_string}')"
   ]
  },
  {
   "cell_type": "markdown",
   "id": "bd89fe2f-82d8-434e-9300-7e03fef04c13",
   "metadata": {},
   "source": [
    "**Question 10:** Write a Python program to check if a variable is of a specific data type."
   ]
  },
  {
   "cell_type": "code",
   "execution_count": 43,
   "id": "3dcfe6a2-c2aa-479e-b16c-c1250d1f1aa2",
   "metadata": {},
   "outputs": [
    {
     "name": "stdout",
     "output_type": "stream",
     "text": [
      "55 is integer type\n"
     ]
    }
   ],
   "source": [
    "var = 55\n",
    "if isinstance(var,int):\n",
    "    print(f'{var} is integer type')\n",
    "elif isinstance(var,str):\n",
    "    print(f'{var} is string type')\n",
    "elif isinstance(var,float):\n",
    "    print(f'{var} is float type')\n",
    "else:\n",
    "    print('Variable is some another type')"
   ]
  },
  {
   "cell_type": "markdown",
   "id": "72dc7e43-00be-44d0-b5c3-5d4de47a832f",
   "metadata": {},
   "source": [
    "## 3. Basic Operators (Arithmetic, Comparison, Logical)\n",
    "\n",
    "**Question 11:** Write a Python program to perform arithmetic operations: addition, subtraction, multiplication, and division."
   ]
  },
  {
   "cell_type": "code",
   "execution_count": null,
   "id": "89ebcc1f-2a88-4f00-8eb7-f2f54642881d",
   "metadata": {},
   "outputs": [],
   "source": []
  }
 ],
 "metadata": {
  "kernelspec": {
   "display_name": "Python 3 (ipykernel)",
   "language": "python",
   "name": "python3"
  },
  "language_info": {
   "codemirror_mode": {
    "name": "ipython",
    "version": 3
   },
   "file_extension": ".py",
   "mimetype": "text/x-python",
   "name": "python",
   "nbconvert_exporter": "python",
   "pygments_lexer": "ipython3",
   "version": "3.13.5"
  }
 },
 "nbformat": 4,
 "nbformat_minor": 5
}
