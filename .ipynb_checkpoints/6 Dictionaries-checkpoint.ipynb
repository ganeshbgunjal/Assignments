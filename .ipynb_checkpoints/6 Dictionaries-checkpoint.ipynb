{
 "cells": [
  {
   "cell_type": "markdown",
   "id": "65ca22c8-4090-4ddc-9527-1814336ec019",
   "metadata": {},
   "source": [
    "## Dictionaries Assignment:--"
   ]
  },
  {
   "cell_type": "markdown",
   "id": "b1a82828-effd-4c58-a568-1ddae59d4881",
   "metadata": {},
   "source": [
    "### Assignment 1: Creating and Accessing Dictionaries\n",
    "\n",
    "Create a dictionary with the first 10 positive integers as keys and their squares as values. Print the dictionary."
   ]
  },
  {
   "cell_type": "code",
   "execution_count": 1,
   "id": "16594d12-8a50-4044-8958-2ac260a8c588",
   "metadata": {},
   "outputs": [
    {
     "name": "stdout",
     "output_type": "stream",
     "text": [
      "{1: 1, 2: 4, 3: 9, 4: 16, 5: 25, 6: 36, 7: 49, 8: 64, 9: 81, 10: 100}\n"
     ]
    }
   ],
   "source": [
    "squares_dict = {x:x**2 for x in range(1,11)}\n",
    "print(squares_dict)"
   ]
  },
  {
   "cell_type": "markdown",
   "id": "bb0ae8cc-7bf0-4e52-bbdd-2c03891db3da",
   "metadata": {},
   "source": [
    "### Assignment 2: Accessing Dictionary Elements\n",
    "\n",
    "Print the value of the key 5 and the keys of the dictionary created in Assignment 1."
   ]
  },
  {
   "cell_type": "code",
   "execution_count": 2,
   "id": "db3ec8d7-bf02-42b1-b50f-7d314a58637c",
   "metadata": {},
   "outputs": [
    {
     "name": "stdout",
     "output_type": "stream",
     "text": [
      "25\n",
      "Keys: dict_keys([1, 2, 3, 4, 5, 6, 7, 8, 9, 10])\n"
     ]
    }
   ],
   "source": [
    "print(squares_dict[5])\n",
    "print(f'Keys: {squares_dict.keys()}')"
   ]
  },
  {
   "cell_type": "markdown",
   "id": "63c004e3-f53b-45fd-951f-a3290c199db6",
   "metadata": {},
   "source": [
    "### Assignment 3: Dictionary Methods\n",
    "\n",
    "Add a new key-value pair (11, 121) to the dictionary created in Assignment 1 and then remove the key-value pair with key 1. Print the modified dictionary."
   ]
  },
  {
   "cell_type": "code",
   "execution_count": 3,
   "id": "5f1a40b5-1c05-4310-8741-dd05d80c7c95",
   "metadata": {},
   "outputs": [
    {
     "name": "stdout",
     "output_type": "stream",
     "text": [
      "{2: 4, 3: 9, 4: 16, 5: 25, 6: 36, 7: 49, 8: 64, 9: 81, 10: 100, 11: 121}\n"
     ]
    }
   ],
   "source": [
    "squares_dict.update({11:121})\n",
    "del squares_dict[1]\n",
    "print(squares_dict)"
   ]
  },
  {
   "cell_type": "markdown",
   "id": "8465b163-0622-4542-a88e-d925a979cbfb",
   "metadata": {},
   "source": [
    "### Assignment 4: Iterating Over Dictionaries\n",
    "\n",
    "Iterate over the dictionary created in Assignment 1 and print each key-value pair."
   ]
  },
  {
   "cell_type": "code",
   "execution_count": 4,
   "id": "2ba36a6f-c44d-4ba4-a176-b76bcc472edd",
   "metadata": {},
   "outputs": [
    {
     "name": "stdout",
     "output_type": "stream",
     "text": [
      "Key: 2 Val: 4\n",
      "Key: 3 Val: 9\n",
      "Key: 4 Val: 16\n",
      "Key: 5 Val: 25\n",
      "Key: 6 Val: 36\n",
      "Key: 7 Val: 49\n",
      "Key: 8 Val: 64\n",
      "Key: 9 Val: 81\n",
      "Key: 10 Val: 100\n",
      "Key: 11 Val: 121\n"
     ]
    }
   ],
   "source": [
    "squares_dict\n",
    "for key,val in squares_dict.items():\n",
    "    print(f'Key: {key} Val: {val}')"
   ]
  },
  {
   "cell_type": "markdown",
   "id": "a1d13e1d-3f5d-4637-a5be-84ebbad1ca73",
   "metadata": {},
   "source": [
    "### Assignment 5: Dictionary Comprehensions\n",
    "\n",
    "Create a new dictionary containing the cubes of the first 10 positive integers using a dictionary comprehension. Print the new dictionary."
   ]
  },
  {
   "cell_type": "code",
   "execution_count": 5,
   "id": "44bbf457-a9fd-4a4d-8352-72d627a9b879",
   "metadata": {},
   "outputs": [
    {
     "name": "stdout",
     "output_type": "stream",
     "text": [
      "{1: 1, 2: 8, 3: 27, 4: 64, 5: 125, 6: 216, 7: 343, 8: 512, 9: 729, 10: 1000}\n"
     ]
    }
   ],
   "source": [
    "cube_dict = {x:x**3 for x in range(1,11)}\n",
    "print(cube_dict)"
   ]
  },
  {
   "cell_type": "markdown",
   "id": "f37fce31-c320-4a65-86fe-1e1c3ff289fe",
   "metadata": {},
   "source": [
    "### Assignment 6: Merging Dictionaries\n",
    "\n",
    "Create two dictionaries: one with keys as the first 5 positive integers and values as their squares, and another with keys as the next 5 positive integers and values as their squares. Merge these dictionaries into a single dictionary and print it."
   ]
  },
  {
   "cell_type": "code",
   "execution_count": 6,
   "id": "62204f4a-5132-47f2-b3a5-85d1cfd00e2b",
   "metadata": {},
   "outputs": [
    {
     "name": "stdout",
     "output_type": "stream",
     "text": [
      "{1: 1, 2: 4, 3: 9, 4: 16, 5: 25}\n",
      "{6: 36, 7: 49, 8: 64, 9: 81, 10: 100}\n",
      "Updated Dictionary: {1: 1, 2: 4, 3: 9, 4: 16, 5: 25, 6: 36, 7: 49, 8: 64, 9: 81, 10: 100}\n",
      "-----Another Approach:----\n",
      "Merged Dictionary: {1: 1, 2: 4, 3: 9, 4: 16, 5: 25, 6: 36, 7: 49, 8: 64, 9: 81, 10: 100}\n"
     ]
    }
   ],
   "source": [
    "dict1 = {x:x**2 for x in range(1,6)}\n",
    "dict2 = {x:x**2 for x in range(6,11)}\n",
    "print(dict1)\n",
    "print(dict2)\n",
    "\n",
    "dict1.update(dict2)\n",
    "print(f'Updated Dictionary: {dict1}')\n",
    "\n",
    "print('-----Another Approach:----')\n",
    "merged_dict = {**dict1,**dict2}\n",
    "print(f'Merged Dictionary: {merged_dict}')"
   ]
  },
  {
   "cell_type": "markdown",
   "id": "782f655a-fc52-42bb-9d64-e510821f52de",
   "metadata": {},
   "source": [
    "### Assignment 7: Nested Dictionaries\n",
    "\n",
    "Create a nested dictionary representing a student with keys 'name', 'age', 'grades', where 'grades' is another dictionary with keys 'math', 'science', and 'english'. Print the nested dictionary."
   ]
  },
  {
   "cell_type": "code",
   "execution_count": 7,
   "id": "acbef564-a049-401d-80da-66eccbb670cc",
   "metadata": {},
   "outputs": [
    {
     "name": "stdout",
     "output_type": "stream",
     "text": [
      "{'name': 'Ganesh', 'age': 33, 'grades': {'math': 99, 'science': 97, 'english': 98}}\n"
     ]
    }
   ],
   "source": [
    "student = {\n",
    "    'name' : 'Ganesh',\n",
    "    'age'  : 33,\n",
    "    'grades' : {'math':99,'science':97,'english':98}\n",
    "}\n",
    "print(student)"
   ]
  },
  {
   "cell_type": "markdown",
   "id": "33150f67-8374-49a4-baf0-f58cfdb53955",
   "metadata": {},
   "source": [
    "### Assignment 9: Dictionary of Tuples\n",
    "\n",
    "Create a dictionary where the keys are the first 5 positive integers and the values are tuples containing the key and its square. Print the dictionary."
   ]
  },
  {
   "cell_type": "code",
   "execution_count": 8,
   "id": "0023a57a-3967-4c18-8841-28dc4034b76f",
   "metadata": {},
   "outputs": [
    {
     "name": "stdout",
     "output_type": "stream",
     "text": [
      "{1: (1, 1), 2: (2, 4), 3: (3, 9), 4: (4, 16), 5: (5, 25)}\n"
     ]
    }
   ],
   "source": [
    "dict_with_tuple = {x:(x,x**2) for x in range(1,6)}\n",
    "print(dict_with_tuple)"
   ]
  },
  {
   "cell_type": "markdown",
   "id": "6e8e4394-875f-457b-8f8f-8fa4ee688cf2",
   "metadata": {},
   "source": [
    "### Assignment 10: Dictionary and List Conversion\n",
    "\n",
    "Create a dictionary with the first 5 positive integers as keys and their squares as values. Convert the dictionary to a list of tuples and print it."
   ]
  },
  {
   "cell_type": "code",
   "execution_count": 9,
   "id": "af9d56d8-9df0-4d78-96cf-97a57e33c9a1",
   "metadata": {},
   "outputs": [
    {
     "name": "stdout",
     "output_type": "stream",
     "text": [
      "{1: 1, 2: 4, 3: 9, 4: 16, 5: 25}\n",
      "[(1, 1), (2, 4), (3, 9), (4, 16), (5, 25)]\n"
     ]
    }
   ],
   "source": [
    "dict_with_list = {x:x**2 for x in range(1,6)}\n",
    "print(dict_with_list)\n",
    "tuple_list = list(dict_with_list.items())\n",
    "print(tuple_list)"
   ]
  },
  {
   "cell_type": "markdown",
   "id": "ebcb407f-969e-4787-8b00-621c8a9116dd",
   "metadata": {},
   "source": [
    "### Assignment 11: Dictionary Filtering\n",
    "\n",
    "Create a dictionary with the first 10 positive integers as keys and their squares as values. Create a new dictionary containing only the key-value pairs where the key is even. Print the new dictionary."
   ]
  },
  {
   "cell_type": "code",
   "execution_count": 10,
   "id": "7038d328-f777-4e43-8b7d-05f68b99d27f",
   "metadata": {},
   "outputs": [
    {
     "name": "stdout",
     "output_type": "stream",
     "text": [
      "Positive num dict: {1: 1, 2: 4, 3: 9, 4: 16, 5: 25, 6: 36, 7: 49, 8: 64, 9: 81, 10: 100}\n",
      "Even num dict: {2: 4, 4: 16, 6: 36, 8: 64, 10: 100}\n"
     ]
    }
   ],
   "source": [
    "positive_numbers = {x:x**2 for x in range(1,11)}\n",
    "print(f'Positive num dict: {positive_numbers}')\n",
    "even_dict = {x:x**2 for x in range(1,11) if x%2 == 0}\n",
    "print(f'Even num dict: {even_dict}')"
   ]
  },
  {
   "cell_type": "markdown",
   "id": "a1a3bb81-efa1-4873-93f4-a07841a84ec4",
   "metadata": {},
   "source": [
    "### Assignment 12: Dictionary Key and Value Transformation\n",
    "\n",
    "Create a dictionary with the first 5 positive integers as keys and their squares as values. Create a new dictionary with keys and values swapped. Print the new dictionary."
   ]
  },
  {
   "cell_type": "markdown",
   "id": "c39095b8-295c-4599-ad0b-23b5eaeed3bd",
   "metadata": {},
   "source": [
    "### Assignment 13: Default Dictionary\n",
    "\n",
    "Create a default dictionary where each key has a default value of an empty list. Add some elements to the lists and print the dictionary."
   ]
  },
  {
   "cell_type": "code",
   "execution_count": 11,
   "id": "54a8dbac-06e8-4100-a55b-b9fcd45e6904",
   "metadata": {},
   "outputs": [
    {
     "name": "stdout",
     "output_type": "stream",
     "text": [
      "defaultdict(<class 'list'>, {'fruits': ['apple', 'banana'], 'vegetables': ['carrot', 'tomato'], 'drinks': ['water']})\n"
     ]
    }
   ],
   "source": [
    "from collections import defaultdict\n",
    "\n",
    "# Create a defaultdict with default value = empty list\n",
    "my_dict = defaultdict(list)\n",
    "\n",
    "# Add some elements\n",
    "my_dict['fruits'].append('apple')\n",
    "my_dict['fruits'].append('banana')\n",
    "my_dict['vegetables'].append('carrot')\n",
    "my_dict['vegetables'].append('tomato')\n",
    "my_dict['drinks'].append('water')\n",
    "\n",
    "# Print dictionary\n",
    "print(my_dict)\n"
   ]
  },
  {
   "cell_type": "markdown",
   "id": "f01763cd-20c4-4998-9de0-3771e9a870b6",
   "metadata": {},
   "source": [
    "### Assignment 14: Counting with Dictionaries\n",
    "\n",
    "Write a function that takes a string and returns a dictionary with the count of each character in the string. Print the dictionary."
   ]
  },
  {
   "cell_type": "code",
   "execution_count": 12,
   "id": "47122e5a-191f-4f83-a644-5e464e9d5ff4",
   "metadata": {},
   "outputs": [
    {
     "name": "stdout",
     "output_type": "stream",
     "text": [
      "{'d': 3, 'a': 5, 't': 2, ' ': 4, 's': 1, 'c': 2, 'i': 3, 'e': 5, 'n': 5, 'g': 2, 'r': 1}\n"
     ]
    }
   ],
   "source": [
    "def char_counts(text):\n",
    "    count_dict = {}\n",
    "    for char in text:\n",
    "        if char in count_dict:\n",
    "            count_dict[char]+=1\n",
    "        else:\n",
    "            count_dict[char]=1\n",
    "    return count_dict\n",
    "\n",
    "string1 = \"data science and data engineering\"\n",
    "result1 = char_counts(string1)\n",
    "print(result1)\n",
    "        "
   ]
  },
  {
   "cell_type": "markdown",
   "id": "f525cfbc-d8de-4ce8-b27b-250e92d6b413",
   "metadata": {},
   "source": [
    "### Assignment 15: Dictionary and JSON\n",
    "\n",
    "Create a dictionary representing a book with keys 'title', 'author', 'year', and 'genre'. Convert the dictionary to a JSON string and print it."
   ]
  },
  {
   "cell_type": "code",
   "execution_count": 13,
   "id": "38386234-35c4-4c07-b769-6f0855ce3dbe",
   "metadata": {},
   "outputs": [
    {
     "name": "stdout",
     "output_type": "stream",
     "text": [
      "{\"title\": \"Python Basics\", \"author\": \"John Doe\", \"year\": 2025, \"genre\": \"Programming\"}\n"
     ]
    }
   ],
   "source": [
    "import json\n",
    "\n",
    "# Step 1: Create a dictionary\n",
    "book = {\n",
    "    \"title\": \"Python Basics\",\n",
    "    \"author\": \"John Doe\",\n",
    "    \"year\": 2025,\n",
    "    \"genre\": \"Programming\"\n",
    "}\n",
    "\n",
    "# Step 2: Convert dictionary to JSON string\n",
    "book_json = json.dumps(book)\n",
    "\n",
    "# Step 3: Print JSON string\n",
    "print(book_json)\n"
   ]
  },
  {
   "cell_type": "code",
   "execution_count": null,
   "id": "e3c96aa0-959f-4e54-ba32-4bc8e3e9607b",
   "metadata": {},
   "outputs": [],
   "source": []
  }
 ],
 "metadata": {
  "kernelspec": {
   "display_name": "Python 3 (ipykernel)",
   "language": "python",
   "name": "python3"
  },
  "language_info": {
   "codemirror_mode": {
    "name": "ipython",
    "version": 3
   },
   "file_extension": ".py",
   "mimetype": "text/x-python",
   "name": "python",
   "nbconvert_exporter": "python",
   "pygments_lexer": "ipython3",
   "version": "3.13.5"
  }
 },
 "nbformat": 4,
 "nbformat_minor": 5
}
