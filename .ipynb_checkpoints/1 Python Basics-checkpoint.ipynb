{
 "cells": [
  {
   "cell_type": "markdown",
   "id": "1c52193b-a70f-41f7-83a1-c62bd0646253",
   "metadata": {},
   "source": [
    "## Python Basics:"
   ]
  },
  {
   "cell_type": "markdown",
   "id": "8ec5e1f8-b09e-47aa-a844-5ff1550d4daa",
   "metadata": {},
   "source": [
    "## 1. Syntax and Semantics\n",
    "\n",
    "**Question 1:** Write a Python program to print \"Hello, World!\"."
   ]
  },
  {
   "cell_type": "code",
   "execution_count": 1,
   "id": "767b8a65-3e24-4c6e-84de-55f02958e3ae",
   "metadata": {},
   "outputs": [
    {
     "name": "stdout",
     "output_type": "stream",
     "text": [
      "Hello, World!\n"
     ]
    }
   ],
   "source": [
    "print('Hello, World!')"
   ]
  },
  {
   "cell_type": "markdown",
   "id": "6e3e6a6c-429a-4f71-9781-7af4ab076106",
   "metadata": {},
   "source": [
    "**Question 2:** Write a Python program that takes a user input and prints it."
   ]
  },
  {
   "cell_type": "code",
   "execution_count": 3,
   "id": "b42cc3e4-0b75-4dfe-9554-696c39f6ae33",
   "metadata": {},
   "outputs": [
    {
     "name": "stdin",
     "output_type": "stream",
     "text": [
      "Enter Number of your choice:  01\n"
     ]
    },
    {
     "name": "stdout",
     "output_type": "stream",
     "text": [
      "Number: 1\n"
     ]
    }
   ],
   "source": [
    "number = int(input('Enter Number of your choice: '))\n",
    "print(f'Number: {number}')"
   ]
  },
  {
   "cell_type": "markdown",
   "id": "ddf5ebe6-9970-43ee-8918-e9b730f459ae",
   "metadata": {},
   "source": [
    "**Question 3:** Write a Python program to check if a number is positive, negative, or zero."
   ]
  },
  {
   "cell_type": "code",
   "execution_count": 10,
   "id": "2f1675bd-c5ea-4ba2-9acf-3103f6c95e5d",
   "metadata": {},
   "outputs": [
    {
     "name": "stdin",
     "output_type": "stream",
     "text": [
      "Enter number:  -1\n"
     ]
    },
    {
     "name": "stdout",
     "output_type": "stream",
     "text": [
      "-1 is negative\n"
     ]
    }
   ],
   "source": [
    "number = int(input('Enter number: '))\n",
    "if number>0:\n",
    "    print(f'{number} is positive ')\n",
    "elif number ==0:\n",
    "    print(f'You entered {number}')\n",
    "elif number <0:\n",
    "    print(f'{number} is negative')\n",
    "else:\n",
    "    print('You entered something else!')"
   ]
  },
  {
   "cell_type": "markdown",
   "id": "87861832-0ab0-4c90-898d-8b25eb1749b9",
   "metadata": {},
   "source": [
    "#### Another Approach:"
   ]
  },
  {
   "cell_type": "code",
   "execution_count": 11,
   "id": "92488442-7d74-40f7-a162-b4f87188e2db",
   "metadata": {},
   "outputs": [
    {
     "name": "stdin",
     "output_type": "stream",
     "text": [
      "Enter number:  f\n"
     ]
    },
    {
     "name": "stdout",
     "output_type": "stream",
     "text": [
      "You entered non zero input!\n"
     ]
    }
   ],
   "source": [
    "user_input = input('Enter number: ')\n",
    "if user_input.lstrip('-').isdigit():  #checks if number is integer..\n",
    "    number = int(user_input)\n",
    "    if number>0:\n",
    "        print(f'{number} is positive ')\n",
    "    elif number ==0:\n",
    "        print(f'You entered {number}')\n",
    "    else:\n",
    "        print(f'{number} is negative')\n",
    "else:\n",
    "    print('You entered non zero input!')"
   ]
  },
  {
   "cell_type": "markdown",
   "id": "fc09e0ea-4a6a-462e-bbc9-4fee6371fccc",
   "metadata": {},
   "source": [
    "**Question 4:** Write a Python program to find the largest of three numbers."
   ]
  },
  {
   "cell_type": "code",
   "execution_count": 13,
   "id": "ed0e30fe-c757-4cd1-b723-5772e0d68300",
   "metadata": {},
   "outputs": [
    {
     "name": "stdin",
     "output_type": "stream",
     "text": [
      "Ente num1: 1\n",
      "Ente num2: 2\n",
      "Ente num3: 3\n"
     ]
    },
    {
     "name": "stdout",
     "output_type": "stream",
     "text": [
      "Largest number amongst three numbers is 3\n"
     ]
    }
   ],
   "source": [
    "num1 = int(input('Enter num1:'))\n",
    "num2 = int(input('Enter num2:'))\n",
    "num3 = int(input('Enter num3:'))\n",
    "\n",
    "if num1>num2 and num1>num3:\n",
    "    largest = num1\n",
    "elif num2>num1 and num2>num3:\n",
    "    largest = num2\n",
    "else:\n",
    "    largest = num3\n",
    "print(f'Largest number amongst three numbers is {largest}')"
   ]
  },
  {
   "cell_type": "markdown",
   "id": "b312b630-b0a1-48d5-9b31-3a535c4154ce",
   "metadata": {},
   "source": [
    "**Question 5:** Write a Python program to calculate the factorial of a number."
   ]
  },
  {
   "cell_type": "code",
   "execution_count": 20,
   "id": "b16d9510-d55b-4588-9a2c-37ebf777d1a0",
   "metadata": {},
   "outputs": [
    {
     "name": "stdin",
     "output_type": "stream",
     "text": [
      "Enter number: 0\n"
     ]
    },
    {
     "name": "stdout",
     "output_type": "stream",
     "text": [
      "Factorial of zero is one!\n",
      "----------------------------------------------------------\n"
     ]
    },
    {
     "name": "stdin",
     "output_type": "stream",
     "text": [
      "Enter number: -1\n"
     ]
    },
    {
     "name": "stdout",
     "output_type": "stream",
     "text": [
      "Factorial does not exist for negative number!\n",
      "----------------------------------------------------------\n"
     ]
    },
    {
     "name": "stdin",
     "output_type": "stream",
     "text": [
      "Enter number: 5\n"
     ]
    },
    {
     "name": "stdout",
     "output_type": "stream",
     "text": [
      "Factorial of 5 is 120\n"
     ]
    }
   ],
   "source": [
    "num = int(input('Enter number:'))\n",
    "if num <0:\n",
    "    print(f'Factorial does not exist for negative number!')\n",
    "elif num==0:\n",
    "    print(f'Factorial of zero is one!')\n",
    "else:\n",
    "    fact = 1\n",
    "    for i in range(1, num+1):\n",
    "        fact = fact*i\n",
    "    print(f'Factorial of {num} is {fact}')\n",
    "print('----------------------------------------------------------')\n",
    "num = int(input('Enter number:'))\n",
    "if num <0:\n",
    "    print(f'Factorial does not exist for negative number!')\n",
    "elif num==0:\n",
    "    print(f'Factorial of zero is one!')\n",
    "else:\n",
    "    fact = 1\n",
    "    for i in range(1, num+1):\n",
    "        fact = fact*i\n",
    "    print(f'Factorial of {num} is {fact}')\n",
    "print('----------------------------------------------------------')\n",
    "num = int(input('Enter number:'))\n",
    "if num <0:\n",
    "    print(f'Factorial does not exist for negative number!')\n",
    "elif num==0:\n",
    "    print(f'Factorial of zero is one!')\n",
    "else:\n",
    "    fact = 1\n",
    "    for i in range(1, num+1):\n",
    "        fact = fact*i\n",
    "    print(f'Factorial of {num} is {fact}')"
   ]
  },
  {
   "cell_type": "markdown",
   "id": "9575681f-105e-4d61-a6cc-15cd3a2e4727",
   "metadata": {},
   "source": [
    "## 2. Variables and Data Types\n",
    "\n",
    "**Question 6:** Create variables of different data types: integer, float, string, and boolean. Print their values and types."
   ]
  },
  {
   "cell_type": "code",
   "execution_count": 23,
   "id": "4dc3358c-fbf1-49fd-adef-d2f035c2f683",
   "metadata": {},
   "outputs": [
    {
     "name": "stdin",
     "output_type": "stream",
     "text": [
      "Enter name:  ganesh\n",
      "Enter age:  33\n",
      "Enter height:  5.10\n"
     ]
    },
    {
     "name": "stdout",
     "output_type": "stream",
     "text": [
      "ganesh\n",
      "<class 'str'>\n",
      "33\n",
      "<class 'int'>\n",
      "5.1\n",
      "<class 'float'>\n",
      "True\n",
      "<class 'bool'>\n"
     ]
    }
   ],
   "source": [
    "name = input('Enter name: ')\n",
    "age = int(input('Enter age: '))\n",
    "height = float(input('Enter height: '))\n",
    "male = True\n",
    "print(name)\n",
    "print(type(name))\n",
    "print(age)\n",
    "print(type(age))\n",
    "print(height)\n",
    "print(type(height))\n",
    "print(male)\n",
    "print(type(male))"
   ]
  },
  {
   "cell_type": "markdown",
   "id": "7bd6d00d-4e69-419f-b364-f0d5a80776e0",
   "metadata": {},
   "source": [
    "**Question 7:** Write a Python program to swap the values of two variables."
   ]
  },
  {
   "cell_type": "code",
   "execution_count": 25,
   "id": "17d293ba-04ec-4a28-9040-a1b886d4f55c",
   "metadata": {},
   "outputs": [
    {
     "name": "stdin",
     "output_type": "stream",
     "text": [
      "Enter num1: 3\n",
      "Enter num2: 4\n"
     ]
    },
    {
     "name": "stdout",
     "output_type": "stream",
     "text": [
      "After swapping numbers,values are num1: 4 and num2: 3\n"
     ]
    }
   ],
   "source": [
    "num1 = int(input('Enter num1:'))\n",
    "num2 = int(input('Enter num2:'))\n",
    "\n",
    "temp = num1\n",
    "num1 = num2\n",
    "num2 = temp\n",
    "print(f'After swapping numbers,values are num1: {num1} and num2: {num2}')"
   ]
  },
  {
   "cell_type": "markdown",
   "id": "4b66277e-965c-4409-8c47-8981a9809581",
   "metadata": {},
   "source": [
    "**Question 8:** Write a Python program to convert Celsius to Fahrenheit."
   ]
  },
  {
   "cell_type": "code",
   "execution_count": 28,
   "id": "d7c93807-64a1-4d68-8fc1-9dafb229a7f0",
   "metadata": {},
   "outputs": [
    {
     "name": "stdin",
     "output_type": "stream",
     "text": [
      "Enter value in celcius: 37.2\n"
     ]
    },
    {
     "name": "stdout",
     "output_type": "stream",
     "text": [
      "Fahrenheit of 37.2°C is 98.96°F\n"
     ]
    }
   ],
   "source": [
    "cel = float(input('Enter value in celcius:'))\n",
    "fahrenheit = cel* (9/5) +32\n",
    "print(f'Fahrenheit of {cel}°C is {fahrenheit:.2f}°F')"
   ]
  },
  {
   "cell_type": "markdown",
   "id": "986bb95a-e681-49cb-bbad-1d5d9147d726",
   "metadata": {},
   "source": [
    "**Question 9:** Write a Python program to concatenate two strings."
   ]
  },
  {
   "cell_type": "code",
   "execution_count": 30,
   "id": "28cb9bd6-abc3-4293-b410-85c08db4296c",
   "metadata": {},
   "outputs": [
    {
     "name": "stdin",
     "output_type": "stream",
     "text": [
      "Enter string1:  Hello\n",
      "Enter string2:  World!\n"
     ]
    },
    {
     "name": "stdout",
     "output_type": "stream",
     "text": [
      "String after concatenation: Hello World!\n"
     ]
    }
   ],
   "source": [
    "str1 = input('Enter string1: ')\n",
    "str2 = input('Enter string2: ')\n",
    "\n",
    "concatenated_string = str1 +' '+ str2\n",
    "print(f'String after concatenation: {concatenated_string}')"
   ]
  },
  {
   "cell_type": "markdown",
   "id": "bd89fe2f-82d8-434e-9300-7e03fef04c13",
   "metadata": {},
   "source": [
    "**Question 10:** Write a Python program to check if a variable is of a specific data type."
   ]
  },
  {
   "cell_type": "code",
   "execution_count": 43,
   "id": "3dcfe6a2-c2aa-479e-b16c-c1250d1f1aa2",
   "metadata": {},
   "outputs": [
    {
     "name": "stdout",
     "output_type": "stream",
     "text": [
      "55 is integer type\n"
     ]
    }
   ],
   "source": [
    "var = 55\n",
    "if isinstance(var,int):\n",
    "    print(f'{var} is integer type')\n",
    "elif isinstance(var,str):\n",
    "    print(f'{var} is string type')\n",
    "elif isinstance(var,float):\n",
    "    print(f'{var} is float type')\n",
    "else:\n",
    "    print('Variable is some another type')"
   ]
  },
  {
   "cell_type": "markdown",
   "id": "72dc7e43-00be-44d0-b5c3-5d4de47a832f",
   "metadata": {},
   "source": [
    "## 3. Basic Operators (Arithmetic, Comparison, Logical)\n",
    "\n",
    "**Question 11:** Write a Python program to perform arithmetic operations: addition, subtraction, multiplication, and division."
   ]
  },
  {
   "cell_type": "code",
   "execution_count": 45,
   "id": "89ebcc1f-2a88-4f00-8eb7-f2f54642881d",
   "metadata": {},
   "outputs": [
    {
     "name": "stdin",
     "output_type": "stream",
     "text": [
      "Enter num1: 10\n",
      "Enter num2: 2\n"
     ]
    },
    {
     "name": "stdout",
     "output_type": "stream",
     "text": [
      "Addition: 12\n",
      "Substraction: 8\n",
      "Multiplication: 20\n",
      "Division: 5.0\n"
     ]
    }
   ],
   "source": [
    "num1 = int(input('Enter num1:'))\n",
    "num2 = int(input('Enter num2:'))\n",
    "addition = num1 + num2\n",
    "substraction = num1 - num2\n",
    "multiplication = num1 * num2\n",
    "division = num1 / num2\n",
    "print(f'Addition: {addition}')\n",
    "print(f'Substraction: {substraction}')\n",
    "print(f'Multiplication: {multiplication}')\n",
    "print(f'Division: {division}')"
   ]
  },
  {
   "cell_type": "markdown",
   "id": "92ed67dd-3cc9-4214-ba4b-6a936a595437",
   "metadata": {},
   "source": [
    "**Question 12:** Write a Python program to demonstrate comparison operators: equal to, not equal to, greater than, less than."
   ]
  },
  {
   "cell_type": "code",
   "execution_count": 51,
   "id": "630313a3-c912-4df0-ac28-8d17c6e15597",
   "metadata": {},
   "outputs": [
    {
     "name": "stdin",
     "output_type": "stream",
     "text": [
      "Enter num1: 5\n",
      "Enter num2: 6\n"
     ]
    },
    {
     "name": "stdout",
     "output_type": "stream",
     "text": [
      "Equal to Operator: 5 == 6: False\n",
      "Not equal to Operator: 5 != 6 : True\n",
      "Greater than: 5 > 6 : False\n",
      "Less than: 5 < 6 : True\n"
     ]
    }
   ],
   "source": [
    "a = int(input('Enter num1:'))\n",
    "b = int(input('Enter num2:'))\n",
    "\n",
    "print(f'Equal to Operator: {a} == {b}: {a==b}')\n",
    "print(f'Not equal to Operator: {a} != {b} : {a!=b}')\n",
    "print(f'Greater than: {a} > {b} : {a>b}')\n",
    "print(f'Less than: {a} < {b} : {a<b}')"
   ]
  },
  {
   "cell_type": "markdown",
   "id": "f257ae15-800d-4ee9-aa48-6660470f312c",
   "metadata": {},
   "source": [
    "**Question 13:** Write a Python program to demonstrate logical operators: and, or, not."
   ]
  },
  {
   "cell_type": "code",
   "execution_count": 52,
   "id": "9b91bea5-9ed5-4218-bcd3-861df3c4d6ce",
   "metadata": {},
   "outputs": [
    {
     "name": "stdin",
     "output_type": "stream",
     "text": [
      "Enter True or False for a:  True\n",
      "Enter True or False for b:  False\n"
     ]
    },
    {
     "name": "stdout",
     "output_type": "stream",
     "text": [
      "True and False --> False\n",
      "True or False --> True\n",
      "Not True: False\n",
      "Not False: True\n"
     ]
    }
   ],
   "source": [
    "a = input('Enter True or False for a: ').strip().title()=='True'\n",
    "b = input('Enter True or False for b: ').strip().title()=='True'\n",
    "\n",
    "# Logical AND.\n",
    "print(f'{a} and {b} --> {a and b}')\n",
    "\n",
    "# Logical OR.\n",
    "print(f'{a} or {b} --> {a or b}')\n",
    "\n",
    "# NOT operator.\n",
    "print(f'Not {a}: {not a}')\n",
    "print(f'Not {b}: {not b}')\n",
    "\n"
   ]
  },
  {
   "cell_type": "markdown",
   "id": "6dde14a4-c817-4cf8-af4b-4f39cf44f865",
   "metadata": {},
   "source": [
    "**Question 14:** Write a Python program to calculate the square of a number."
   ]
  },
  {
   "cell_type": "code",
   "execution_count": 53,
   "id": "6098cb62-0e3d-4353-9ca3-a41d2c956fc8",
   "metadata": {},
   "outputs": [
    {
     "name": "stdin",
     "output_type": "stream",
     "text": [
      "Enter number: 5\n"
     ]
    },
    {
     "name": "stdout",
     "output_type": "stream",
     "text": [
      "Square of 5 is 25\n"
     ]
    }
   ],
   "source": [
    "num = int(input('Enter number:'))\n",
    "sq = num**2\n",
    "print(f'Square of {num} is {sq}')"
   ]
  },
  {
   "cell_type": "markdown",
   "id": "9b7929f4-a72b-4d69-9e22-4fd5828e95a5",
   "metadata": {},
   "source": [
    "**Question 15:** Write a Python program to check if a number is even or odd."
   ]
  },
  {
   "cell_type": "code",
   "execution_count": 54,
   "id": "41c8c007-ba69-45a4-a99b-774f1142fc95",
   "metadata": {},
   "outputs": [
    {
     "name": "stdin",
     "output_type": "stream",
     "text": [
      "Enter num:  5\n"
     ]
    },
    {
     "name": "stdout",
     "output_type": "stream",
     "text": [
      "5 is Odd\n"
     ]
    }
   ],
   "source": [
    "num = int(input('Enter num: '))\n",
    "if num%2==0:\n",
    "    print(f'{num} is Even')\n",
    "else:\n",
    "    print(f'{num} is Odd')"
   ]
  },
  {
   "cell_type": "markdown",
   "id": "c80f03a2-9bb8-42c6-af76-52e3a1672276",
   "metadata": {},
   "source": [
    "**Question 16:** Write a Python program to find the sum of the first n natural numbers."
   ]
  },
  {
   "cell_type": "code",
   "execution_count": 56,
   "id": "d99df023-d38b-40e6-ab35-c87c0ba1f556",
   "metadata": {},
   "outputs": [
    {
     "name": "stdin",
     "output_type": "stream",
     "text": [
      "Ente a positive number:  10\n"
     ]
    },
    {
     "name": "stdout",
     "output_type": "stream",
     "text": [
      "Sum of first 10 numbers is 55\n"
     ]
    }
   ],
   "source": [
    "num = int(input('Ente a positive number: '))\n",
    "total = 0\n",
    "for i in range(1,num+1):\n",
    "    total = total + i\n",
    "print(f'Sum of first {num} numbers is {total}')"
   ]
  },
  {
   "cell_type": "markdown",
   "id": "6c1bfad5-f4ab-4fc0-94d4-2d20e2df3b55",
   "metadata": {},
   "source": [
    "**Question 17:** Write a Python program to check if a year is a leap year."
   ]
  },
  {
   "cell_type": "code",
   "execution_count": 61,
   "id": "31c6bc79-354c-445b-a7d6-4233f7bfc3d4",
   "metadata": {},
   "outputs": [
    {
     "name": "stdin",
     "output_type": "stream",
     "text": [
      "Enter year:  2001\n"
     ]
    },
    {
     "name": "stdout",
     "output_type": "stream",
     "text": [
      "2001 is not a leap year\n"
     ]
    }
   ],
   "source": [
    "year = int(input('Enter year: '))\n",
    "if (year % 4 == 0 and year % 100 != 0) or (year % 400 == 0):\n",
    "    print(f'{year} is a leap year')\n",
    "else:\n",
    "    print(f'{year} is not a leap year')"
   ]
  },
  {
   "cell_type": "markdown",
   "id": "aa220af7-6bcf-49a7-9ab9-945ab1bb3117",
   "metadata": {},
   "source": [
    "**Question 18:** Write a Python program to reverse a string."
   ]
  },
  {
   "cell_type": "code",
   "execution_count": 63,
   "id": "a74fcf05-430f-43d8-b605-d739b6e612a9",
   "metadata": {},
   "outputs": [
    {
     "name": "stdin",
     "output_type": "stream",
     "text": [
      "Enter a string:  Ganesh\n"
     ]
    },
    {
     "name": "stdout",
     "output_type": "stream",
     "text": [
      "Reverse of Ganesh is: hsenaG\n"
     ]
    }
   ],
   "source": [
    "string = input('Enter a string: ')\n",
    "rev_string = string[::-1]\n",
    "print(f'Reverse of {string} is: {rev_string}')"
   ]
  },
  {
   "cell_type": "markdown",
   "id": "4b4586ca-d0fa-49d5-a8c3-793e1339affb",
   "metadata": {},
   "source": [
    "**Question 19:** Write a Python program to check if a string is a palindrome."
   ]
  },
  {
   "cell_type": "code",
   "execution_count": 66,
   "id": "dde90df5-e2e6-4675-8716-4868be54b309",
   "metadata": {},
   "outputs": [
    {
     "name": "stdin",
     "output_type": "stream",
     "text": [
      "Enter a string:  ganesh\n"
     ]
    },
    {
     "name": "stdout",
     "output_type": "stream",
     "text": [
      "ganesh is not a palindrom.\n"
     ]
    }
   ],
   "source": [
    "string = input('Enter a string: ')\n",
    "rev_string = string[::-1]\n",
    "if string == rev_string:\n",
    "    print(f'{string} is a palindrom.')\n",
    "else:\n",
    "    print(f'{string} is not a palindrom.')"
   ]
  },
  {
   "cell_type": "markdown",
   "id": "8ff019e9-5dbf-4111-a5de-6845ebd86727",
   "metadata": {},
   "source": [
    "**Question 20:** Write a Python program to sort a list of numbers in ascending order."
   ]
  },
  {
   "cell_type": "code",
   "execution_count": 69,
   "id": "dc5db5a9-7c50-49a9-b444-b7fb088dc8b8",
   "metadata": {},
   "outputs": [
    {
     "name": "stdout",
     "output_type": "stream",
     "text": [
      "Original list: [6, 1, 9, 3, 2, 5, 7, 4]\n",
      "Sorted list: [1, 2, 3, 4, 5, 6, 7, 9]\n"
     ]
    }
   ],
   "source": [
    "numbers = [6,1,9,3,2,5,7,4]\n",
    "sorted_num = sorted(numbers)\n",
    "print(f'Original list: {numbers}')\n",
    "print(f'Sorted list: {sorted_num}')"
   ]
  },
  {
   "cell_type": "code",
   "execution_count": null,
   "id": "ed6d53f3-01a3-4c4c-bc56-6bfbab462787",
   "metadata": {},
   "outputs": [],
   "source": []
  }
 ],
 "metadata": {
  "kernelspec": {
   "display_name": "Python 3 (ipykernel)",
   "language": "python",
   "name": "python3"
  },
  "language_info": {
   "codemirror_mode": {
    "name": "ipython",
    "version": 3
   },
   "file_extension": ".py",
   "mimetype": "text/x-python",
   "name": "python",
   "nbconvert_exporter": "python",
   "pygments_lexer": "ipython3",
   "version": "3.13.5"
  }
 },
 "nbformat": 4,
 "nbformat_minor": 5
}
