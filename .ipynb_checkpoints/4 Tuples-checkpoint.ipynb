{
 "cells": [
  {
   "cell_type": "markdown",
   "id": "28585867-cc40-4e1c-88f2-2d3f690286d3",
   "metadata": {},
   "source": [
    "## Data Structures Assignments:-- Tuples"
   ]
  },
  {
   "cell_type": "markdown",
   "id": "b6c59e8e-6073-4431-beae-cc2b211ab966",
   "metadata": {},
   "source": [
    "### Assignment 1: Creating and Accessing Tuples\n",
    "\n",
    "Create a tuple with the first 10 positive integers. Print the tuple."
   ]
  },
  {
   "cell_type": "code",
   "execution_count": 1,
   "id": "e929593f-a3dc-46b2-855a-1877faf52053",
   "metadata": {},
   "outputs": [
    {
     "name": "stdout",
     "output_type": "stream",
     "text": [
      "(1, 2, 3, 4, 5, 6, 7, 8, 9, 10)\n",
      "<class 'tuple'>\n"
     ]
    }
   ],
   "source": [
    "tup = tuple(range(1,11))\n",
    "print(tup)\n",
    "print(type(tup))"
   ]
  },
  {
   "cell_type": "markdown",
   "id": "a26826ee-0fd1-445e-8b9a-5b4a1a116675",
   "metadata": {},
   "source": [
    "### Assignment 2: Accessing Tuple Elements\n",
    "\n",
    "Print the first, middle, and last elements of the tuple created in Assignment 1."
   ]
  },
  {
   "cell_type": "code",
   "execution_count": 2,
   "id": "20e3696a-56cf-4a80-81f6-6b4aba4b7c4b",
   "metadata": {},
   "outputs": [
    {
     "name": "stdout",
     "output_type": "stream",
     "text": [
      "First element: 1\n",
      "Middle element: 5\n",
      "Last element: 10\n"
     ]
    }
   ],
   "source": [
    "first_element = tup[0]\n",
    "middle_ele = tup[len(tup)//2 - 1]  \n",
    "last_element = tup[-1]\n",
    "print(f'First element: {first_element}')\n",
    "print(f'Middle element: {middle_ele}')\n",
    "print(f'Last element: {last_element}')"
   ]
  },
  {
   "cell_type": "markdown",
   "id": "ea3d5c40-a832-4ffc-a81f-b9f5b2a76136",
   "metadata": {},
   "source": [
    "### Assignment 3: Tuple Slicing\n",
    "\n",
    "Print the first three elements, the last three elements, and the elements from index 2 to 5 of the tuple created in Assignment 1."
   ]
  },
  {
   "cell_type": "code",
   "execution_count": 7,
   "id": "01f6b3f0-4d96-4ad0-8fc1-261fefbc4f0e",
   "metadata": {},
   "outputs": [
    {
     "name": "stdout",
     "output_type": "stream",
     "text": [
      "(1, 2, 3, 4, 5, 6, 7, 8, 9, 10)\n",
      "First three element: (1, 2, 3)\n",
      "Last three element: (8, 9, 10)\n",
      "Element from 2 to 5: (2, 3, 4, 5)\n"
     ]
    }
   ],
   "source": [
    "print(tup)\n",
    "print(f'First three element: {tup[0:3]}')\n",
    "print(f'Last three element: {tup[7:10]}')\n",
    "print(f'Element from 2 to 5: {tup[1:5]}')"
   ]
  },
  {
   "cell_type": "markdown",
   "id": "1e70ba5b-5f67-44a9-8e82-f35083c4b63d",
   "metadata": {},
   "source": [
    "### Assignment 4: Nested Tuples\n",
    "\n",
    "Create a nested tuple representing a 3x3 matrix and print the matrix. Access and print the element at the second row and third column."
   ]
  },
  {
   "cell_type": "code",
   "execution_count": 11,
   "id": "b813b96f-271d-4e90-8308-bb3c7251e019",
   "metadata": {},
   "outputs": [
    {
     "name": "stdout",
     "output_type": "stream",
     "text": [
      "(1, 2, 3)\n",
      "(4, 5, 6)\n",
      "(7, 8, 9)\n",
      "Element at second row and third column is: 6\n"
     ]
    }
   ],
   "source": [
    "matrix = (\n",
    "    (1,2,3),\n",
    "    (4,5,6),\n",
    "    (7,8,9)    \n",
    ")\n",
    "for row in matrix:\n",
    "    print(row)\n",
    "\n",
    "print(f'Element at second row and third column is: {matrix[1][2]}')"
   ]
  },
  {
   "cell_type": "markdown",
   "id": "69b02197-887d-4c5c-88b3-5c50b7a06566",
   "metadata": {},
   "source": [
    "### Assignment 5: Tuple Concatenation\n",
    "\n",
    "Concatenate two tuples: (1, 2, 3) and (4, 5, 6). Print the resulting tuple."
   ]
  },
  {
   "cell_type": "code",
   "execution_count": 12,
   "id": "b2222701-013e-4eef-a073-6d21b681c3c6",
   "metadata": {},
   "outputs": [
    {
     "name": "stdout",
     "output_type": "stream",
     "text": [
      "(1, 2, 3, 4, 5, 6)\n"
     ]
    }
   ],
   "source": [
    "tup1 = (1,2,3)\n",
    "tup2 = (4,5,6)\n",
    "concatenated_tup = tup1 + tup2\n",
    "print(concatenated_tup)"
   ]
  },
  {
   "cell_type": "markdown",
   "id": "e359b296-807e-4067-8a2c-913941707bc3",
   "metadata": {},
   "source": [
    "### Assignment 6: Tuple Methods\n",
    "\n",
    "Create a tuple with duplicate elements and count the occurrences of an element. Find the index of the first occurrence of an element in the tuple."
   ]
  },
  {
   "cell_type": "code",
   "execution_count": 17,
   "id": "3e435447-3aa9-49b9-9c28-8dd40e1d212c",
   "metadata": {},
   "outputs": [
    {
     "name": "stdout",
     "output_type": "stream",
     "text": [
      "Count of element four is: 5\n",
      "First occurance of element three at index: 3\n"
     ]
    }
   ],
   "source": [
    "tup = (1,2,2,3,3,4,4,4,4,4,5,6,6,7,7,8)\n",
    "count = tup.count(4)\n",
    "print(f'Count of element four is: {count}')\n",
    "first_occurance = tup.index(3)\n",
    "print(f'First occurance of element three at index: {first_occurance}')"
   ]
  },
  {
   "cell_type": "markdown",
   "id": "62a203bf-45e4-455e-bad5-6f4a134c9177",
   "metadata": {},
   "source": [
    "### Assignment 7: Unpacking Tuples\n",
    "\n",
    "Create a tuple with 5 elements and unpack it into 5 variables. Print the variables."
   ]
  },
  {
   "cell_type": "code",
   "execution_count": 20,
   "id": "979d2b33-2302-4248-83e1-e609009bb29e",
   "metadata": {},
   "outputs": [
    {
     "name": "stdout",
     "output_type": "stream",
     "text": [
      "a: 1\n",
      "b: 2\n",
      "c: 3\n",
      "d: 4\n",
      "e: 5\n"
     ]
    }
   ],
   "source": [
    "a,b,c,d,e = 1,2,3,4,5\n",
    "\n",
    "print(f'a: {a}')\n",
    "print(f'b: {b}')\n",
    "print(f'c: {c}')\n",
    "print(f'd: {d}')\n",
    "print(f'e: {e}')"
   ]
  },
  {
   "cell_type": "markdown",
   "id": "26107517-4751-48be-8164-da15a0e24bdc",
   "metadata": {},
   "source": [
    "### Assignment 8: Tuple Conversion\n",
    "\n",
    "Convert a list of the first 5 positive integers to a tuple. Print the tuple.\n"
   ]
  },
  {
   "cell_type": "code",
   "execution_count": 25,
   "id": "1321065a-8f55-4333-bd76-e470c20bf6f9",
   "metadata": {},
   "outputs": [
    {
     "name": "stdout",
     "output_type": "stream",
     "text": [
      "List: [1, 2, 3, 4]\n",
      "<class 'list'>\n",
      "Tuple: (1, 2, 3, 4)\n",
      "<class 'tuple'>\n"
     ]
    }
   ],
   "source": [
    "lst = list(range(1,5))\n",
    "print(f'List: {lst}')\n",
    "print(type(lst))\n",
    "tup = tuple(lst)\n",
    "print(f'Tuple: {tup}')\n",
    "print(type(tup))"
   ]
  },
  {
   "cell_type": "markdown",
   "id": "e8f1131b-cce8-4e60-80f9-7e149b1738ac",
   "metadata": {},
   "source": [
    "### Assignment 9: Tuple of Tuples\n",
    "\n",
    "Create a tuple containing 3 tuples, each with 3 elements. Print the tuple of tuples."
   ]
  },
  {
   "cell_type": "code",
   "execution_count": 29,
   "id": "6e124d50-8a68-4bad-b52e-e8bd6852cd25",
   "metadata": {},
   "outputs": [
    {
     "name": "stdout",
     "output_type": "stream",
     "text": [
      "((1, 2, 3), (4, 5, 6), (7, 8, 9))\n",
      "<class 'tuple'>\n",
      "Tuple Of Tuples:\n",
      "(1, 2, 3)\n",
      "(4, 5, 6)\n",
      "(7, 8, 9)\n"
     ]
    }
   ],
   "source": [
    "tup = ((1,2,3),(4,5,6),(7,8,9))\n",
    "print(tup)\n",
    "print(type(tup))\n",
    "print(f'Tuple Of Tuples:')\n",
    "for tpl in tup:\n",
    "    print(tpl)"
   ]
  },
  {
   "cell_type": "markdown",
   "id": "935d8a61-5c56-4f7d-bffa-ea152aa51d87",
   "metadata": {},
   "source": [
    "### Assignment 10: Tuple and List\n",
    "\n",
    "Create a tuple with the first 5 positive integers. Convert it to a list, append the number 6, and convert it back to a tuple. Print the resulting tuple."
   ]
  },
  {
   "cell_type": "code",
   "execution_count": 34,
   "id": "1ea720fc-5d34-4c22-9b58-80bac1232386",
   "metadata": {},
   "outputs": [
    {
     "name": "stdout",
     "output_type": "stream",
     "text": [
      "(1, 2, 3, 4, 5)\n",
      "<class 'tuple'>\n",
      "[1, 2, 3, 4, 5]\n",
      "<class 'list'>\n",
      "(1, 2, 3, 4, 5, 6)\n"
     ]
    }
   ],
   "source": [
    "tup = tuple(range(1,6))\n",
    "print(tup)\n",
    "print(type(tup))\n",
    "\n",
    "lst = list(tup)\n",
    "print(lst)\n",
    "print(type(lst))\n",
    "lst.append(6)\n",
    "tup1 = tuple(lst)\n",
    "print(tup1)"
   ]
  },
  {
   "cell_type": "markdown",
   "id": "72af8a23-0052-4793-9d62-63c475010ec3",
   "metadata": {},
   "source": [
    "### Assignment 11: Tuple and String\n",
    "\n",
    "Create a tuple with the characters of a string. Join the tuple elements into a single string. Print the string."
   ]
  },
  {
   "cell_type": "code",
   "execution_count": 38,
   "id": "f8521302-9c0d-4cff-b260-69abddb5f378",
   "metadata": {},
   "outputs": [
    {
     "name": "stdout",
     "output_type": "stream",
     "text": [
      "('h', 'e', 'l', 'l', 'o')\n",
      "After joint tuple: hello\n"
     ]
    }
   ],
   "source": [
    "tup = ('h','e','l','l','o')\n",
    "print(tup)\n",
    "\n",
    "joined_str = ''.join(tup)\n",
    "print(f'After joint tuple: {joined_str}')"
   ]
  },
  {
   "cell_type": "markdown",
   "id": "ace542dc-6645-4c76-a97e-dfc2abe506aa",
   "metadata": {},
   "source": [
    "### Assignment 12: Tuple and Dictionary\n",
    "\n",
    "Create a dictionary with tuple keys and integer values. Print the dictionary."
   ]
  },
  {
   "cell_type": "code",
   "execution_count": 42,
   "id": "e9759e05-7e04-40ae-b29f-aec7f0b01ba7",
   "metadata": {},
   "outputs": [
    {
     "name": "stdout",
     "output_type": "stream",
     "text": [
      "{(1, 2): 3, (3, 4): 7, (5, 6): 11, (7, 8): 15}\n",
      "Keys: dict_keys([(1, 2), (3, 4), (5, 6), (7, 8)])\n",
      "Values: dict_values([3, 7, 11, 15])\n"
     ]
    }
   ],
   "source": [
    "my_dict = {\n",
    "    (1,2) : 3,\n",
    "    (3,4) : 7,\n",
    "    (5,6) : 11,\n",
    "    (7,8) : 15\n",
    "}\n",
    "print(my_dict)\n",
    "print(f'Keys: {my_dict.keys()}')\n",
    "print(f'Values: {my_dict.values()}')"
   ]
  },
  {
   "cell_type": "markdown",
   "id": "ae948864-bf2d-42f0-8590-6483b7fb6dbf",
   "metadata": {},
   "source": [
    "### Assignment 13: Nested Tuple Iteration\n",
    "\n",
    "Create a nested tuple and iterate over the elements, printing each element."
   ]
  },
  {
   "cell_type": "code",
   "execution_count": 44,
   "id": "14623e08-a443-4f96-bfd2-861da011d577",
   "metadata": {},
   "outputs": [
    {
     "name": "stdout",
     "output_type": "stream",
     "text": [
      "Tuple of Tuples: ((1, 2, 3, 4), (4, 5, 3, 7), ('a', 'b', 'c', 'd'))\n",
      "(1, 2, 3, 4)\n",
      "(4, 5, 3, 7)\n",
      "('a', 'b', 'c', 'd')\n"
     ]
    }
   ],
   "source": [
    "tup = ((1,2,3,4),(4,5,3,7),('a','b','c','d'))\n",
    "print(f'Tuple of Tuples: {tup}')\n",
    "for element in tup:\n",
    "    print(element)"
   ]
  },
  {
   "cell_type": "markdown",
   "id": "9f77ee67-f362-48a7-9ccb-82adc1d3efbb",
   "metadata": {},
   "source": [
    "### Assignment 14: Tuple and Set\n",
    "\n",
    "Create a tuple with duplicate elements. Convert it to a set to remove duplicates and print the resulting set."
   ]
  },
  {
   "cell_type": "code",
   "execution_count": 45,
   "id": "212e761e-4035-4832-ba81-ea563cc5caeb",
   "metadata": {},
   "outputs": [
    {
     "name": "stdout",
     "output_type": "stream",
     "text": [
      "Tuple: (1, 2, 2, 3, 3, 4, 2, 5, 4, 6, 6, 6, 7, 7, 8)\n",
      "After removed duplicates: {1, 2, 3, 4, 5, 6, 7, 8}\n"
     ]
    }
   ],
   "source": [
    "tup = (1,2,2,3,3,4,2,5,4,6,6,6,7,7,8)\n",
    "print(f'Tuple: {tup}')\n",
    "set1 = set(tup)\n",
    "\n",
    "print(f'After removed duplicates: {set1}')"
   ]
  },
  {
   "cell_type": "code",
   "execution_count": null,
   "id": "6c7970ca-ae9e-4904-9718-ed6a6d665cf7",
   "metadata": {},
   "outputs": [],
   "source": []
  }
 ],
 "metadata": {
  "kernelspec": {
   "display_name": "Python 3 (ipykernel)",
   "language": "python",
   "name": "python3"
  },
  "language_info": {
   "codemirror_mode": {
    "name": "ipython",
    "version": 3
   },
   "file_extension": ".py",
   "mimetype": "text/x-python",
   "name": "python",
   "nbconvert_exporter": "python",
   "pygments_lexer": "ipython3",
   "version": "3.13.5"
  }
 },
 "nbformat": 4,
 "nbformat_minor": 5
}
