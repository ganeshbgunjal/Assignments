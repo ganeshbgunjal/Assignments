{
 "cells": [
  {
   "cell_type": "markdown",
   "id": "af20aae0-0623-4880-9212-25d5bd18e372",
   "metadata": {},
   "source": [
    "## Control Flow Assignments\n",
    "### 1. Conditional Statements"
   ]
  },
  {
   "cell_type": "markdown",
   "id": "5c47ea44-bd09-47a9-8d9b-54a8a3349203",
   "metadata": {},
   "source": [
    "**Question:-1** Write a program that asks the user to input a number and prints whether the number is positive.\n"
   ]
  },
  {
   "cell_type": "code",
   "execution_count": 2,
   "id": "f50c13bb-f17e-4904-b402-8b602cd7366d",
   "metadata": {},
   "outputs": [
    {
     "name": "stdin",
     "output_type": "stream",
     "text": [
      "Enter Number:  -1\n"
     ]
    },
    {
     "name": "stdout",
     "output_type": "stream",
     "text": [
      "-1 is negative\n"
     ]
    }
   ],
   "source": [
    "number = int(input('Enter Number: '))\n",
    "if number >0:\n",
    "    print(f'{number} is positive')\n",
    "else:\n",
    "    print(f'{number} is negative')"
   ]
  },
  {
   "cell_type": "code",
   "execution_count": null,
   "id": "783faf67-89d8-4b57-82de-81bfc54268cd",
   "metadata": {},
   "outputs": [],
   "source": []
  }
 ],
 "metadata": {
  "kernelspec": {
   "display_name": "Python 3 (ipykernel)",
   "language": "python",
   "name": "python3"
  },
  "language_info": {
   "codemirror_mode": {
    "name": "ipython",
    "version": 3
   },
   "file_extension": ".py",
   "mimetype": "text/x-python",
   "name": "python",
   "nbconvert_exporter": "python",
   "pygments_lexer": "ipython3",
   "version": "3.13.5"
  }
 },
 "nbformat": 4,
 "nbformat_minor": 5
}
